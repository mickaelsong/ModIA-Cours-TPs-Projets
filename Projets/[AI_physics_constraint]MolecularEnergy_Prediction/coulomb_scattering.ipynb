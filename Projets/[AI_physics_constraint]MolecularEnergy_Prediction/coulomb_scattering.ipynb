{
 "cells": [
  {
   "cell_type": "code",
   "execution_count": 1,
   "metadata": {},
   "outputs": [
    {
     "name": "stderr",
     "output_type": "stream",
     "text": [
      "\n",
      "A module that was compiled using NumPy 1.x cannot be run in\n",
      "NumPy 2.0.0 as it may crash. To support both 1.x and 2.x\n",
      "versions of NumPy, modules must be compiled with NumPy 2.0.\n",
      "Some module may need to rebuild instead e.g. with 'pybind11>=2.12'.\n",
      "\n",
      "If you are a user of the module, the easiest solution will be to\n",
      "downgrade to 'numpy<2' or try to upgrade the affected module.\n",
      "We expect that some modules will need time to support NumPy 2.\n",
      "\n",
      "Traceback (most recent call last):  File \"/home/mickael/anaconda3/lib/python3.9/runpy.py\", line 197, in _run_module_as_main\n",
      "    return _run_code(code, main_globals, None,\n",
      "  File \"/home/mickael/anaconda3/lib/python3.9/runpy.py\", line 87, in _run_code\n",
      "    exec(code, run_globals)\n",
      "  File \"/home/mickael/venv/lib/python3.9/site-packages/ipykernel_launcher.py\", line 18, in <module>\n",
      "    app.launch_new_instance()\n",
      "  File \"/home/mickael/venv/lib/python3.9/site-packages/traitlets/config/application.py\", line 1075, in launch_instance\n",
      "    app.start()\n",
      "  File \"/home/mickael/venv/lib/python3.9/site-packages/ipykernel/kernelapp.py\", line 739, in start\n",
      "    self.io_loop.start()\n",
      "  File \"/home/mickael/venv/lib/python3.9/site-packages/tornado/platform/asyncio.py\", line 205, in start\n",
      "    self.asyncio_loop.run_forever()\n",
      "  File \"/home/mickael/anaconda3/lib/python3.9/asyncio/base_events.py\", line 601, in run_forever\n",
      "    self._run_once()\n",
      "  File \"/home/mickael/anaconda3/lib/python3.9/asyncio/base_events.py\", line 1905, in _run_once\n",
      "    handle._run()\n",
      "  File \"/home/mickael/anaconda3/lib/python3.9/asyncio/events.py\", line 80, in _run\n",
      "    self._context.run(self._callback, *self._args)\n",
      "  File \"/home/mickael/venv/lib/python3.9/site-packages/ipykernel/kernelbase.py\", line 545, in dispatch_queue\n",
      "    await self.process_one()\n",
      "  File \"/home/mickael/venv/lib/python3.9/site-packages/ipykernel/kernelbase.py\", line 534, in process_one\n",
      "    await dispatch(*args)\n",
      "  File \"/home/mickael/venv/lib/python3.9/site-packages/ipykernel/kernelbase.py\", line 437, in dispatch_shell\n",
      "    await result\n",
      "  File \"/home/mickael/venv/lib/python3.9/site-packages/ipykernel/ipkernel.py\", line 359, in execute_request\n",
      "    await super().execute_request(stream, ident, parent)\n",
      "  File \"/home/mickael/venv/lib/python3.9/site-packages/ipykernel/kernelbase.py\", line 778, in execute_request\n",
      "    reply_content = await reply_content\n",
      "  File \"/home/mickael/venv/lib/python3.9/site-packages/ipykernel/ipkernel.py\", line 446, in do_execute\n",
      "    res = shell.run_cell(\n",
      "  File \"/home/mickael/venv/lib/python3.9/site-packages/ipykernel/zmqshell.py\", line 549, in run_cell\n",
      "    return super().run_cell(*args, **kwargs)\n",
      "  File \"/home/mickael/venv/lib/python3.9/site-packages/IPython/core/interactiveshell.py\", line 3048, in run_cell\n",
      "    result = self._run_cell(\n",
      "  File \"/home/mickael/venv/lib/python3.9/site-packages/IPython/core/interactiveshell.py\", line 3103, in _run_cell\n",
      "    result = runner(coro)\n",
      "  File \"/home/mickael/venv/lib/python3.9/site-packages/IPython/core/async_helpers.py\", line 129, in _pseudo_sync_runner\n",
      "    coro.send(None)\n",
      "  File \"/home/mickael/venv/lib/python3.9/site-packages/IPython/core/interactiveshell.py\", line 3308, in run_cell_async\n",
      "    has_raised = await self.run_ast_nodes(code_ast.body, cell_name,\n",
      "  File \"/home/mickael/venv/lib/python3.9/site-packages/IPython/core/interactiveshell.py\", line 3490, in run_ast_nodes\n",
      "    if await self.run_code(code, result, async_=asy):\n",
      "  File \"/home/mickael/venv/lib/python3.9/site-packages/IPython/core/interactiveshell.py\", line 3550, in run_code\n",
      "    exec(code_obj, self.user_global_ns, self.user_ns)\n",
      "  File \"/tmp/ipykernel_57721/1079795910.py\", line 7, in <module>\n",
      "    import torch\n",
      "  File \"/home/mickael/venv/lib/python3.9/site-packages/torch/__init__.py\", line 1477, in <module>\n",
      "    from .functional import *  # noqa: F403\n",
      "  File \"/home/mickael/venv/lib/python3.9/site-packages/torch/functional.py\", line 9, in <module>\n",
      "    import torch.nn.functional as F\n",
      "  File \"/home/mickael/venv/lib/python3.9/site-packages/torch/nn/__init__.py\", line 1, in <module>\n",
      "    from .modules import *  # noqa: F403\n",
      "  File \"/home/mickael/venv/lib/python3.9/site-packages/torch/nn/modules/__init__.py\", line 35, in <module>\n",
      "    from .transformer import TransformerEncoder, TransformerDecoder, \\\n",
      "  File \"/home/mickael/venv/lib/python3.9/site-packages/torch/nn/modules/transformer.py\", line 20, in <module>\n",
      "    device: torch.device = torch.device(torch._C._get_default_device()),  # torch.device('cpu'),\n",
      "/home/mickael/venv/lib/python3.9/site-packages/torch/nn/modules/transformer.py:20: UserWarning: Failed to initialize NumPy: _ARRAY_API not found (Triggered internally at ../torch/csrc/utils/tensor_numpy.cpp:84.)\n",
      "  device: torch.device = torch.device(torch._C._get_default_device()),  # torch.device('cpu'),\n"
     ]
    }
   ],
   "source": [
    "from xyz2graph import MolGraph, to_plotly_figure\n",
    "import os\n",
    "import pandas as pd\n",
    "import re\n",
    "from tqdm import tqdm\n",
    "import numpy as np\n",
    "import torch\n",
    "import torch.nn as nn\n",
    "import torch.optim as optim\n",
    "from torch.utils.data import Dataset, DataLoader\n",
    "from sklearn import (linear_model, model_selection, preprocessing, pipeline)\n",
    "import matplotlib.pyplot as plt\n",
    "from sklearn.model_selection import train_test_split"
   ]
  },
  {
   "cell_type": "code",
   "execution_count": 2,
   "metadata": {},
   "outputs": [],
   "source": [
    "from scipy.spatial.distance import pdist\n",
    "from kymatio.torch import HarmonicScattering3D\n",
    "from kymatio.scattering3d.backend.torch_backend import TorchBackend3D\n",
    "from kymatio.scattering3d.utils import generate_weighted_sum_of_gaussians\n",
    "import time"
   ]
  },
  {
   "cell_type": "markdown",
   "metadata": {},
   "source": [
    "#### Chemin pour les datasets"
   ]
  },
  {
   "cell_type": "code",
   "execution_count": 3,
   "metadata": {},
   "outputs": [],
   "source": [
    "train_path = \"./data/atoms/train/\"\n",
    "train_energy_path = \"./data/energies/train.csv\"\n",
    "energies = pd.read_csv(train_energy_path)\n",
    "test_path = \"./data/atoms/test/\"\n"
   ]
  },
  {
   "cell_type": "markdown",
   "metadata": {},
   "source": [
    "#### Tableau périodique des élements"
   ]
  },
  {
   "cell_type": "code",
   "execution_count": 4,
   "metadata": {},
   "outputs": [],
   "source": [
    "periodic_table = { '': 0,\n",
    "    'H': 1, 'He': 2, 'Li': 3, 'Be': 4, 'B': 5, 'C': 6, 'N': 7, 'O': 8, 'F': 9, 'Ne': 10,\n",
    "    'Na': 11, 'Mg': 12, 'Al': 13, 'Si': 14, 'P': 15, 'S': 16, 'Cl': 17, 'Ar': 18, 'K': 19, 'Ca': 20,\n",
    "    'Sc': 21, 'Ti': 22, 'V': 23, 'Cr': 24, 'Mn': 25, 'Fe': 26, 'Co': 27, 'Ni': 28, 'Cu': 29, 'Zn': 30,\n",
    "    'Ga': 31, 'Ge': 32, 'As': 33, 'Se': 34, 'Br': 35, 'Kr': 36, 'Rb': 37, 'Sr': 38, 'Y': 39, 'Zr': 40,\n",
    "    'Nb': 41, 'Mo': 42, 'Tc': 43, 'Ru': 44, 'Rh': 45, 'Pd': 46, 'Ag': 47, 'Cd': 48, 'In': 49, 'Sn': 50,\n",
    "    'Sb': 51, 'Te': 52, 'I': 53, 'Xe': 54, 'Cs': 55, 'Ba': 56, 'La': 57, 'Ce': 58, 'Pr': 59, 'Nd': 60,\n",
    "    'Pm': 61, 'Sm': 62, 'Eu': 63, 'Gd': 64, 'Tb': 65, 'Dy': 66, 'Ho': 67, 'Er': 68, 'Tm': 69, 'Yb': 70,\n",
    "    'Lu': 71, 'Hf': 72, 'Ta': 73, 'W': 74, 'Re': 75, 'Os': 76, 'Ir': 77, 'Pt': 78, 'Au': 79, 'Hg': 80,\n",
    "    'Tl': 81, 'Pb': 82, 'Bi': 83, 'Po': 84, 'At': 85, 'Rn': 86, 'Fr': 87, 'Ra': 88, 'Ac': 89, 'Th': 90,\n",
    "    'Pa': 91, 'U': 92, 'Np': 93, 'Pu': 94, 'Am': 95, 'Cm': 96, 'Bk': 97, 'Cf': 98, 'Es': 99, 'Fm': 100,\n",
    "    'Md': 101, 'No': 102, 'Lr': 103, 'Rf': 104, 'Db': 105, 'Sg': 106, 'Bh': 107, 'Hs': 108, 'Mt': 109,\n",
    "    'Ds': 110, 'Rg': 111, 'Cn': 112, 'Nh': 113, 'Fl': 114, 'Mc': 115, 'Lv': 116, 'Ts': 117, 'Og': 118\n",
    "}"
   ]
  },
  {
   "cell_type": "markdown",
   "metadata": {},
   "source": [
    "#### Visualisation d'une molecule du dataset d'entraînement"
   ]
  },
  {
   "cell_type": "code",
   "execution_count": 5,
   "metadata": {},
   "outputs": [],
   "source": [
    "mg = MolGraph()\n",
    "mg.read_xyz(train_path + \"id_1.xyz\")\n",
    "fig = to_plotly_figure(mg)"
   ]
  },
  {
   "cell_type": "code",
   "execution_count": 6,
   "metadata": {},
   "outputs": [
    {
     "data": {
      "application/vnd.plotly.v1+json": {
       "config": {
        "plotlyServerURL": "https://plot.ly"
       },
       "data": [
        {
         "marker": {
          "color": [
           "black",
           "black",
           "black",
           "black",
           "red",
           "black",
           "white",
           "white",
           "white",
           "white",
           "white",
           "white",
           "white",
           "white"
          ],
          "line": {
           "color": "lightgray",
           "width": 2
          },
          "opacity": 0.8,
          "size": 7,
          "symbol": "circle"
         },
         "mode": "markers",
         "text": [
          "C",
          "C",
          "C",
          "C",
          "O",
          "C",
          "H",
          "H",
          "H",
          "H",
          "H",
          "H",
          "H",
          "H"
         ],
         "type": "scatter3d",
         "x": [
          -1.87847,
          -0.351616,
          0.135151,
          0.511361,
          0.092637,
          1.499567,
          -2.262047,
          -2.313419,
          -2.207559,
          0.071658,
          0.846755,
          1.719204,
          1.995576,
          1.912786
         ],
         "y": [
          0.486409,
          0.40486,
          -0.906788,
          -1.964942,
          0.655339,
          0.748413,
          0.323642,
          -0.262361,
          1.466028,
          1.195111,
          -2.904652,
          0.988379,
          -0.200585,
          1.544017
         ],
         "z": [
          0.308974,
          0.289385,
          0.788723,
          1.23497,
          -1.050539,
          -1.187716,
          1.313718,
          -0.348532,
          -0.030857,
          0.960544,
          1.600899,
          -2.232054,
          -0.924142,
          -0.541273
         ]
        },
        {
         "hoverinfo": "none",
         "marker": {
          "color": "grey",
          "opacity": 1,
          "size": 7
         },
         "mode": "lines",
         "type": "scatter3d",
         "x": [
          -1.87847,
          -2.207559,
          null,
          -1.87847,
          -0.351616,
          null,
          -1.87847,
          -2.262047,
          null,
          -1.87847,
          -2.313419,
          null,
          -0.351616,
          -1.87847,
          null,
          -0.351616,
          0.071658,
          null,
          -0.351616,
          0.135151,
          null,
          -0.351616,
          0.092637,
          null,
          -2.262047,
          -1.87847,
          null,
          -2.313419,
          -1.87847,
          null,
          -2.207559,
          -1.87847,
          null,
          0.135151,
          -0.351616,
          null,
          0.135151,
          0.511361,
          null,
          0.092637,
          -0.351616,
          null,
          0.092637,
          1.499567,
          null,
          0.071658,
          -0.351616,
          null,
          0.511361,
          0.135151,
          null,
          0.511361,
          0.846755,
          null,
          0.846755,
          0.511361,
          null,
          1.499567,
          1.912786,
          null,
          1.499567,
          1.719204,
          null,
          1.499567,
          0.092637,
          null,
          1.499567,
          1.995576,
          null,
          1.719204,
          1.499567,
          null,
          1.995576,
          1.499567,
          null,
          1.912786,
          1.499567,
          null
         ],
         "y": [
          0.486409,
          1.466028,
          null,
          0.486409,
          0.40486,
          null,
          0.486409,
          0.323642,
          null,
          0.486409,
          -0.262361,
          null,
          0.40486,
          0.486409,
          null,
          0.40486,
          1.195111,
          null,
          0.40486,
          -0.906788,
          null,
          0.40486,
          0.655339,
          null,
          0.323642,
          0.486409,
          null,
          -0.262361,
          0.486409,
          null,
          1.466028,
          0.486409,
          null,
          -0.906788,
          0.40486,
          null,
          -0.906788,
          -1.964942,
          null,
          0.655339,
          0.40486,
          null,
          0.655339,
          0.748413,
          null,
          1.195111,
          0.40486,
          null,
          -1.964942,
          -0.906788,
          null,
          -1.964942,
          -2.904652,
          null,
          -2.904652,
          -1.964942,
          null,
          0.748413,
          1.544017,
          null,
          0.748413,
          0.988379,
          null,
          0.748413,
          0.655339,
          null,
          0.748413,
          -0.200585,
          null,
          0.988379,
          0.748413,
          null,
          -0.200585,
          0.748413,
          null,
          1.544017,
          0.748413,
          null
         ],
         "z": [
          0.308974,
          -0.030857,
          null,
          0.308974,
          0.289385,
          null,
          0.308974,
          1.313718,
          null,
          0.308974,
          -0.348532,
          null,
          0.289385,
          0.308974,
          null,
          0.289385,
          0.960544,
          null,
          0.289385,
          0.788723,
          null,
          0.289385,
          -1.050539,
          null,
          1.313718,
          0.308974,
          null,
          -0.348532,
          0.308974,
          null,
          -0.030857,
          0.308974,
          null,
          0.788723,
          0.289385,
          null,
          0.788723,
          1.23497,
          null,
          -1.050539,
          0.289385,
          null,
          -1.050539,
          -1.187716,
          null,
          0.960544,
          0.289385,
          null,
          1.23497,
          0.788723,
          null,
          1.23497,
          1.600899,
          null,
          1.600899,
          1.23497,
          null,
          -1.187716,
          -0.541273,
          null,
          -1.187716,
          -2.232054,
          null,
          -1.187716,
          -1.050539,
          null,
          -1.187716,
          -0.924142,
          null,
          -2.232054,
          -1.187716,
          null,
          -0.924142,
          -1.187716,
          null,
          -0.541273,
          -1.187716,
          null
         ]
        }
       ],
       "layout": {
        "margin": {
         "b": 0,
         "l": 0,
         "r": 0,
         "t": 0
        },
        "scene": {
         "annotations": [
          {
           "showarrow": false,
           "text": "C",
           "x": -1.87847,
           "y": 0.486409,
           "yshift": 15,
           "z": 0.308974
          },
          {
           "showarrow": false,
           "text": "C",
           "x": -0.351616,
           "y": 0.40486,
           "yshift": 15,
           "z": 0.289385
          },
          {
           "showarrow": false,
           "text": "C",
           "x": 0.135151,
           "y": -0.906788,
           "yshift": 15,
           "z": 0.788723
          },
          {
           "showarrow": false,
           "text": "C",
           "x": 0.511361,
           "y": -1.964942,
           "yshift": 15,
           "z": 1.23497
          },
          {
           "showarrow": false,
           "text": "O",
           "x": 0.092637,
           "y": 0.655339,
           "yshift": 15,
           "z": -1.050539
          },
          {
           "showarrow": false,
           "text": "C",
           "x": 1.499567,
           "y": 0.748413,
           "yshift": 15,
           "z": -1.187716
          },
          {
           "showarrow": false,
           "text": "H",
           "x": -2.262047,
           "y": 0.323642,
           "yshift": 15,
           "z": 1.313718
          },
          {
           "showarrow": false,
           "text": "H",
           "x": -2.313419,
           "y": -0.262361,
           "yshift": 15,
           "z": -0.348532
          },
          {
           "showarrow": false,
           "text": "H",
           "x": -2.207559,
           "y": 1.466028,
           "yshift": 15,
           "z": -0.030857
          },
          {
           "showarrow": false,
           "text": "H",
           "x": 0.071658,
           "y": 1.195111,
           "yshift": 15,
           "z": 0.960544
          },
          {
           "showarrow": false,
           "text": "H",
           "x": 0.846755,
           "y": -2.904652,
           "yshift": 15,
           "z": 1.600899
          },
          {
           "showarrow": false,
           "text": "H",
           "x": 1.719204,
           "y": 0.988379,
           "yshift": 15,
           "z": -2.232054
          },
          {
           "showarrow": false,
           "text": "H",
           "x": 1.995576,
           "y": -0.200585,
           "yshift": 15,
           "z": -0.924142
          },
          {
           "showarrow": false,
           "text": "H",
           "x": 1.912786,
           "y": 1.544017,
           "yshift": 15,
           "z": -0.541273
          }
         ],
         "xaxis": {
          "showbackground": false,
          "showgrid": false,
          "showticklabels": false,
          "title": {
           "font": {
            "color": "white"
           }
          },
          "zeroline": false
         },
         "yaxis": {
          "showbackground": false,
          "showgrid": false,
          "showticklabels": false,
          "title": {
           "font": {
            "color": "white"
           }
          },
          "zeroline": false
         },
         "zaxis": {
          "showbackground": false,
          "showgrid": false,
          "showticklabels": false,
          "title": {
           "font": {
            "color": "white"
           }
          },
          "zeroline": false
         }
        },
        "showlegend": false,
        "template": {
         "data": {
          "bar": [
           {
            "error_x": {
             "color": "#2a3f5f"
            },
            "error_y": {
             "color": "#2a3f5f"
            },
            "marker": {
             "line": {
              "color": "#E5ECF6",
              "width": 0.5
             },
             "pattern": {
              "fillmode": "overlay",
              "size": 10,
              "solidity": 0.2
             }
            },
            "type": "bar"
           }
          ],
          "barpolar": [
           {
            "marker": {
             "line": {
              "color": "#E5ECF6",
              "width": 0.5
             },
             "pattern": {
              "fillmode": "overlay",
              "size": 10,
              "solidity": 0.2
             }
            },
            "type": "barpolar"
           }
          ],
          "carpet": [
           {
            "aaxis": {
             "endlinecolor": "#2a3f5f",
             "gridcolor": "white",
             "linecolor": "white",
             "minorgridcolor": "white",
             "startlinecolor": "#2a3f5f"
            },
            "baxis": {
             "endlinecolor": "#2a3f5f",
             "gridcolor": "white",
             "linecolor": "white",
             "minorgridcolor": "white",
             "startlinecolor": "#2a3f5f"
            },
            "type": "carpet"
           }
          ],
          "choropleth": [
           {
            "colorbar": {
             "outlinewidth": 0,
             "ticks": ""
            },
            "type": "choropleth"
           }
          ],
          "contour": [
           {
            "colorbar": {
             "outlinewidth": 0,
             "ticks": ""
            },
            "colorscale": [
             [
              0,
              "#0d0887"
             ],
             [
              0.1111111111111111,
              "#46039f"
             ],
             [
              0.2222222222222222,
              "#7201a8"
             ],
             [
              0.3333333333333333,
              "#9c179e"
             ],
             [
              0.4444444444444444,
              "#bd3786"
             ],
             [
              0.5555555555555556,
              "#d8576b"
             ],
             [
              0.6666666666666666,
              "#ed7953"
             ],
             [
              0.7777777777777778,
              "#fb9f3a"
             ],
             [
              0.8888888888888888,
              "#fdca26"
             ],
             [
              1,
              "#f0f921"
             ]
            ],
            "type": "contour"
           }
          ],
          "contourcarpet": [
           {
            "colorbar": {
             "outlinewidth": 0,
             "ticks": ""
            },
            "type": "contourcarpet"
           }
          ],
          "heatmap": [
           {
            "colorbar": {
             "outlinewidth": 0,
             "ticks": ""
            },
            "colorscale": [
             [
              0,
              "#0d0887"
             ],
             [
              0.1111111111111111,
              "#46039f"
             ],
             [
              0.2222222222222222,
              "#7201a8"
             ],
             [
              0.3333333333333333,
              "#9c179e"
             ],
             [
              0.4444444444444444,
              "#bd3786"
             ],
             [
              0.5555555555555556,
              "#d8576b"
             ],
             [
              0.6666666666666666,
              "#ed7953"
             ],
             [
              0.7777777777777778,
              "#fb9f3a"
             ],
             [
              0.8888888888888888,
              "#fdca26"
             ],
             [
              1,
              "#f0f921"
             ]
            ],
            "type": "heatmap"
           }
          ],
          "heatmapgl": [
           {
            "colorbar": {
             "outlinewidth": 0,
             "ticks": ""
            },
            "colorscale": [
             [
              0,
              "#0d0887"
             ],
             [
              0.1111111111111111,
              "#46039f"
             ],
             [
              0.2222222222222222,
              "#7201a8"
             ],
             [
              0.3333333333333333,
              "#9c179e"
             ],
             [
              0.4444444444444444,
              "#bd3786"
             ],
             [
              0.5555555555555556,
              "#d8576b"
             ],
             [
              0.6666666666666666,
              "#ed7953"
             ],
             [
              0.7777777777777778,
              "#fb9f3a"
             ],
             [
              0.8888888888888888,
              "#fdca26"
             ],
             [
              1,
              "#f0f921"
             ]
            ],
            "type": "heatmapgl"
           }
          ],
          "histogram": [
           {
            "marker": {
             "pattern": {
              "fillmode": "overlay",
              "size": 10,
              "solidity": 0.2
             }
            },
            "type": "histogram"
           }
          ],
          "histogram2d": [
           {
            "colorbar": {
             "outlinewidth": 0,
             "ticks": ""
            },
            "colorscale": [
             [
              0,
              "#0d0887"
             ],
             [
              0.1111111111111111,
              "#46039f"
             ],
             [
              0.2222222222222222,
              "#7201a8"
             ],
             [
              0.3333333333333333,
              "#9c179e"
             ],
             [
              0.4444444444444444,
              "#bd3786"
             ],
             [
              0.5555555555555556,
              "#d8576b"
             ],
             [
              0.6666666666666666,
              "#ed7953"
             ],
             [
              0.7777777777777778,
              "#fb9f3a"
             ],
             [
              0.8888888888888888,
              "#fdca26"
             ],
             [
              1,
              "#f0f921"
             ]
            ],
            "type": "histogram2d"
           }
          ],
          "histogram2dcontour": [
           {
            "colorbar": {
             "outlinewidth": 0,
             "ticks": ""
            },
            "colorscale": [
             [
              0,
              "#0d0887"
             ],
             [
              0.1111111111111111,
              "#46039f"
             ],
             [
              0.2222222222222222,
              "#7201a8"
             ],
             [
              0.3333333333333333,
              "#9c179e"
             ],
             [
              0.4444444444444444,
              "#bd3786"
             ],
             [
              0.5555555555555556,
              "#d8576b"
             ],
             [
              0.6666666666666666,
              "#ed7953"
             ],
             [
              0.7777777777777778,
              "#fb9f3a"
             ],
             [
              0.8888888888888888,
              "#fdca26"
             ],
             [
              1,
              "#f0f921"
             ]
            ],
            "type": "histogram2dcontour"
           }
          ],
          "mesh3d": [
           {
            "colorbar": {
             "outlinewidth": 0,
             "ticks": ""
            },
            "type": "mesh3d"
           }
          ],
          "parcoords": [
           {
            "line": {
             "colorbar": {
              "outlinewidth": 0,
              "ticks": ""
             }
            },
            "type": "parcoords"
           }
          ],
          "pie": [
           {
            "automargin": true,
            "type": "pie"
           }
          ],
          "scatter": [
           {
            "fillpattern": {
             "fillmode": "overlay",
             "size": 10,
             "solidity": 0.2
            },
            "type": "scatter"
           }
          ],
          "scatter3d": [
           {
            "line": {
             "colorbar": {
              "outlinewidth": 0,
              "ticks": ""
             }
            },
            "marker": {
             "colorbar": {
              "outlinewidth": 0,
              "ticks": ""
             }
            },
            "type": "scatter3d"
           }
          ],
          "scattercarpet": [
           {
            "marker": {
             "colorbar": {
              "outlinewidth": 0,
              "ticks": ""
             }
            },
            "type": "scattercarpet"
           }
          ],
          "scattergeo": [
           {
            "marker": {
             "colorbar": {
              "outlinewidth": 0,
              "ticks": ""
             }
            },
            "type": "scattergeo"
           }
          ],
          "scattergl": [
           {
            "marker": {
             "colorbar": {
              "outlinewidth": 0,
              "ticks": ""
             }
            },
            "type": "scattergl"
           }
          ],
          "scattermapbox": [
           {
            "marker": {
             "colorbar": {
              "outlinewidth": 0,
              "ticks": ""
             }
            },
            "type": "scattermapbox"
           }
          ],
          "scatterpolar": [
           {
            "marker": {
             "colorbar": {
              "outlinewidth": 0,
              "ticks": ""
             }
            },
            "type": "scatterpolar"
           }
          ],
          "scatterpolargl": [
           {
            "marker": {
             "colorbar": {
              "outlinewidth": 0,
              "ticks": ""
             }
            },
            "type": "scatterpolargl"
           }
          ],
          "scatterternary": [
           {
            "marker": {
             "colorbar": {
              "outlinewidth": 0,
              "ticks": ""
             }
            },
            "type": "scatterternary"
           }
          ],
          "surface": [
           {
            "colorbar": {
             "outlinewidth": 0,
             "ticks": ""
            },
            "colorscale": [
             [
              0,
              "#0d0887"
             ],
             [
              0.1111111111111111,
              "#46039f"
             ],
             [
              0.2222222222222222,
              "#7201a8"
             ],
             [
              0.3333333333333333,
              "#9c179e"
             ],
             [
              0.4444444444444444,
              "#bd3786"
             ],
             [
              0.5555555555555556,
              "#d8576b"
             ],
             [
              0.6666666666666666,
              "#ed7953"
             ],
             [
              0.7777777777777778,
              "#fb9f3a"
             ],
             [
              0.8888888888888888,
              "#fdca26"
             ],
             [
              1,
              "#f0f921"
             ]
            ],
            "type": "surface"
           }
          ],
          "table": [
           {
            "cells": {
             "fill": {
              "color": "#EBF0F8"
             },
             "line": {
              "color": "white"
             }
            },
            "header": {
             "fill": {
              "color": "#C8D4E3"
             },
             "line": {
              "color": "white"
             }
            },
            "type": "table"
           }
          ]
         },
         "layout": {
          "annotationdefaults": {
           "arrowcolor": "#2a3f5f",
           "arrowhead": 0,
           "arrowwidth": 1
          },
          "autotypenumbers": "strict",
          "coloraxis": {
           "colorbar": {
            "outlinewidth": 0,
            "ticks": ""
           }
          },
          "colorscale": {
           "diverging": [
            [
             0,
             "#8e0152"
            ],
            [
             0.1,
             "#c51b7d"
            ],
            [
             0.2,
             "#de77ae"
            ],
            [
             0.3,
             "#f1b6da"
            ],
            [
             0.4,
             "#fde0ef"
            ],
            [
             0.5,
             "#f7f7f7"
            ],
            [
             0.6,
             "#e6f5d0"
            ],
            [
             0.7,
             "#b8e186"
            ],
            [
             0.8,
             "#7fbc41"
            ],
            [
             0.9,
             "#4d9221"
            ],
            [
             1,
             "#276419"
            ]
           ],
           "sequential": [
            [
             0,
             "#0d0887"
            ],
            [
             0.1111111111111111,
             "#46039f"
            ],
            [
             0.2222222222222222,
             "#7201a8"
            ],
            [
             0.3333333333333333,
             "#9c179e"
            ],
            [
             0.4444444444444444,
             "#bd3786"
            ],
            [
             0.5555555555555556,
             "#d8576b"
            ],
            [
             0.6666666666666666,
             "#ed7953"
            ],
            [
             0.7777777777777778,
             "#fb9f3a"
            ],
            [
             0.8888888888888888,
             "#fdca26"
            ],
            [
             1,
             "#f0f921"
            ]
           ],
           "sequentialminus": [
            [
             0,
             "#0d0887"
            ],
            [
             0.1111111111111111,
             "#46039f"
            ],
            [
             0.2222222222222222,
             "#7201a8"
            ],
            [
             0.3333333333333333,
             "#9c179e"
            ],
            [
             0.4444444444444444,
             "#bd3786"
            ],
            [
             0.5555555555555556,
             "#d8576b"
            ],
            [
             0.6666666666666666,
             "#ed7953"
            ],
            [
             0.7777777777777778,
             "#fb9f3a"
            ],
            [
             0.8888888888888888,
             "#fdca26"
            ],
            [
             1,
             "#f0f921"
            ]
           ]
          },
          "colorway": [
           "#636efa",
           "#EF553B",
           "#00cc96",
           "#ab63fa",
           "#FFA15A",
           "#19d3f3",
           "#FF6692",
           "#B6E880",
           "#FF97FF",
           "#FECB52"
          ],
          "font": {
           "color": "#2a3f5f"
          },
          "geo": {
           "bgcolor": "white",
           "lakecolor": "white",
           "landcolor": "#E5ECF6",
           "showlakes": true,
           "showland": true,
           "subunitcolor": "white"
          },
          "hoverlabel": {
           "align": "left"
          },
          "hovermode": "closest",
          "mapbox": {
           "style": "light"
          },
          "paper_bgcolor": "white",
          "plot_bgcolor": "#E5ECF6",
          "polar": {
           "angularaxis": {
            "gridcolor": "white",
            "linecolor": "white",
            "ticks": ""
           },
           "bgcolor": "#E5ECF6",
           "radialaxis": {
            "gridcolor": "white",
            "linecolor": "white",
            "ticks": ""
           }
          },
          "scene": {
           "xaxis": {
            "backgroundcolor": "#E5ECF6",
            "gridcolor": "white",
            "gridwidth": 2,
            "linecolor": "white",
            "showbackground": true,
            "ticks": "",
            "zerolinecolor": "white"
           },
           "yaxis": {
            "backgroundcolor": "#E5ECF6",
            "gridcolor": "white",
            "gridwidth": 2,
            "linecolor": "white",
            "showbackground": true,
            "ticks": "",
            "zerolinecolor": "white"
           },
           "zaxis": {
            "backgroundcolor": "#E5ECF6",
            "gridcolor": "white",
            "gridwidth": 2,
            "linecolor": "white",
            "showbackground": true,
            "ticks": "",
            "zerolinecolor": "white"
           }
          },
          "shapedefaults": {
           "line": {
            "color": "#2a3f5f"
           }
          },
          "ternary": {
           "aaxis": {
            "gridcolor": "white",
            "linecolor": "white",
            "ticks": ""
           },
           "baxis": {
            "gridcolor": "white",
            "linecolor": "white",
            "ticks": ""
           },
           "bgcolor": "#E5ECF6",
           "caxis": {
            "gridcolor": "white",
            "linecolor": "white",
            "ticks": ""
           }
          },
          "title": {
           "x": 0.05
          },
          "xaxis": {
           "automargin": true,
           "gridcolor": "white",
           "linecolor": "white",
           "ticks": "",
           "title": {
            "standoff": 15
           },
           "zerolinecolor": "white",
           "zerolinewidth": 2
          },
          "yaxis": {
           "automargin": true,
           "gridcolor": "white",
           "linecolor": "white",
           "ticks": "",
           "title": {
            "standoff": 15
           },
           "zerolinecolor": "white",
           "zerolinewidth": 2
          }
         }
        },
        "updatemenus": [
         {
          "buttons": [
           {
            "args": [
             {
              "scene.annotations": [
               {
                "showarrow": false,
                "text": "C",
                "x": -1.87847,
                "y": 0.486409,
                "yshift": 15,
                "z": 0.308974
               },
               {
                "showarrow": false,
                "text": "C",
                "x": -0.351616,
                "y": 0.40486,
                "yshift": 15,
                "z": 0.289385
               },
               {
                "showarrow": false,
                "text": "C",
                "x": 0.135151,
                "y": -0.906788,
                "yshift": 15,
                "z": 0.788723
               },
               {
                "showarrow": false,
                "text": "C",
                "x": 0.511361,
                "y": -1.964942,
                "yshift": 15,
                "z": 1.23497
               },
               {
                "showarrow": false,
                "text": "O",
                "x": 0.092637,
                "y": 0.655339,
                "yshift": 15,
                "z": -1.050539
               },
               {
                "showarrow": false,
                "text": "C",
                "x": 1.499567,
                "y": 0.748413,
                "yshift": 15,
                "z": -1.187716
               },
               {
                "showarrow": false,
                "text": "H",
                "x": -2.262047,
                "y": 0.323642,
                "yshift": 15,
                "z": 1.313718
               },
               {
                "showarrow": false,
                "text": "H",
                "x": -2.313419,
                "y": -0.262361,
                "yshift": 15,
                "z": -0.348532
               },
               {
                "showarrow": false,
                "text": "H",
                "x": -2.207559,
                "y": 1.466028,
                "yshift": 15,
                "z": -0.030857
               },
               {
                "showarrow": false,
                "text": "H",
                "x": 0.071658,
                "y": 1.195111,
                "yshift": 15,
                "z": 0.960544
               },
               {
                "showarrow": false,
                "text": "H",
                "x": 0.846755,
                "y": -2.904652,
                "yshift": 15,
                "z": 1.600899
               },
               {
                "showarrow": false,
                "text": "H",
                "x": 1.719204,
                "y": 0.988379,
                "yshift": 15,
                "z": -2.232054
               },
               {
                "showarrow": false,
                "text": "H",
                "x": 1.995576,
                "y": -0.200585,
                "yshift": 15,
                "z": -0.924142
               },
               {
                "showarrow": false,
                "text": "H",
                "x": 1.912786,
                "y": 1.544017,
                "yshift": 15,
                "z": -0.541273
               }
              ]
             }
            ],
            "label": " Elements",
            "method": "relayout"
           },
           {
            "args": [
             {
              "scene.annotations": [
               {
                "showarrow": false,
                "text": "C",
                "x": -1.87847,
                "y": 0.486409,
                "yshift": 15,
                "z": 0.308974
               },
               {
                "showarrow": false,
                "text": "C",
                "x": -0.351616,
                "y": 0.40486,
                "yshift": 15,
                "z": 0.289385
               },
               {
                "showarrow": false,
                "text": "C",
                "x": 0.135151,
                "y": -0.906788,
                "yshift": 15,
                "z": 0.788723
               },
               {
                "showarrow": false,
                "text": "C",
                "x": 0.511361,
                "y": -1.964942,
                "yshift": 15,
                "z": 1.23497
               },
               {
                "showarrow": false,
                "text": "O",
                "x": 0.092637,
                "y": 0.655339,
                "yshift": 15,
                "z": -1.050539
               },
               {
                "showarrow": false,
                "text": "C",
                "x": 1.499567,
                "y": 0.748413,
                "yshift": 15,
                "z": -1.187716
               },
               {
                "showarrow": false,
                "text": "H",
                "x": -2.262047,
                "y": 0.323642,
                "yshift": 15,
                "z": 1.313718
               },
               {
                "showarrow": false,
                "text": "H",
                "x": -2.313419,
                "y": -0.262361,
                "yshift": 15,
                "z": -0.348532
               },
               {
                "showarrow": false,
                "text": "H",
                "x": -2.207559,
                "y": 1.466028,
                "yshift": 15,
                "z": -0.030857
               },
               {
                "showarrow": false,
                "text": "H",
                "x": 0.071658,
                "y": 1.195111,
                "yshift": 15,
                "z": 0.960544
               },
               {
                "showarrow": false,
                "text": "H",
                "x": 0.846755,
                "y": -2.904652,
                "yshift": 15,
                "z": 1.600899
               },
               {
                "showarrow": false,
                "text": "H",
                "x": 1.719204,
                "y": 0.988379,
                "yshift": 15,
                "z": -2.232054
               },
               {
                "showarrow": false,
                "text": "H",
                "x": 1.995576,
                "y": -0.200585,
                "yshift": 15,
                "z": -0.924142
               },
               {
                "showarrow": false,
                "text": "H",
                "x": 1.912786,
                "y": 1.544017,
                "yshift": 15,
                "z": -0.541273
               },
               {
                "font": {
                 "color": "steelblue"
                },
                "showarrow": false,
                "text": 1.77,
                "x": -1.115043,
                "y": 0.4456345,
                "yshift": 15,
                "z": 0.29917950000000004
               },
               {
                "font": {
                 "color": "steelblue"
                },
                "showarrow": false,
                "text": 1.18,
                "x": -2.0702585,
                "y": 0.4050255,
                "yshift": 15,
                "z": 0.811346
               },
               {
                "font": {
                 "color": "steelblue"
                },
                "showarrow": false,
                "text": 1.18,
                "x": -2.0959445,
                "y": 0.11202399999999998,
                "yshift": 15,
                "z": -0.01977899999999999
               },
               {
                "font": {
                 "color": "steelblue"
                },
                "showarrow": false,
                "text": 1.18,
                "x": -2.0430145,
                "y": 0.9762185000000001,
                "yshift": 15,
                "z": 0.1390585
               },
               {
                "font": {
                 "color": "steelblue"
                },
                "showarrow": false,
                "text": 1.77,
                "x": -0.1082325,
                "y": -0.250964,
                "yshift": 15,
                "z": 0.5390539999999999
               },
               {
                "font": {
                 "color": "steelblue"
                },
                "showarrow": false,
                "text": 1.77,
                "x": -0.12948949999999998,
                "y": 0.5300995,
                "yshift": 15,
                "z": -0.38057699999999994
               },
               {
                "font": {
                 "color": "steelblue"
                },
                "showarrow": false,
                "text": 1.18,
                "x": -0.139979,
                "y": 0.7999855,
                "yshift": 15,
                "z": 0.6249644999999999
               },
               {
                "font": {
                 "color": "steelblue"
                },
                "showarrow": false,
                "text": 1.77,
                "x": 0.323256,
                "y": -1.435865,
                "yshift": 15,
                "z": 1.0118464999999999
               },
               {
                "font": {
                 "color": "steelblue"
                },
                "showarrow": false,
                "text": 1.18,
                "x": 0.6790579999999999,
                "y": -2.434797,
                "yshift": 15,
                "z": 1.4179344999999999
               },
               {
                "font": {
                 "color": "steelblue"
                },
                "showarrow": false,
                "text": 1.77,
                "x": 0.7961020000000001,
                "y": 0.7018759999999999,
                "yshift": 15,
                "z": -1.1191274999999998
               },
               {
                "font": {
                 "color": "steelblue"
                },
                "showarrow": false,
                "text": 1.18,
                "x": 1.6093855000000001,
                "y": 0.868396,
                "yshift": 15,
                "z": -1.709885
               },
               {
                "font": {
                 "color": "steelblue"
                },
                "showarrow": false,
                "text": 1.18,
                "x": 1.7475715,
                "y": 0.273914,
                "yshift": 15,
                "z": -1.055929
               },
               {
                "font": {
                 "color": "steelblue"
                },
                "showarrow": false,
                "text": 1.18,
                "x": 1.7061765000000002,
                "y": 1.146215,
                "yshift": 15,
                "z": -0.8644944999999999
               }
              ]
             }
            ],
            "label": " Elements & Bond Lengths",
            "method": "relayout"
           },
           {
            "args": [
             {
              "scene.annotations": [
               {
                "showarrow": false,
                "text": 0,
                "x": -1.87847,
                "y": 0.486409,
                "yshift": 15,
                "z": 0.308974
               },
               {
                "showarrow": false,
                "text": 1,
                "x": -0.351616,
                "y": 0.40486,
                "yshift": 15,
                "z": 0.289385
               },
               {
                "showarrow": false,
                "text": 2,
                "x": 0.135151,
                "y": -0.906788,
                "yshift": 15,
                "z": 0.788723
               },
               {
                "showarrow": false,
                "text": 3,
                "x": 0.511361,
                "y": -1.964942,
                "yshift": 15,
                "z": 1.23497
               },
               {
                "showarrow": false,
                "text": 4,
                "x": 0.092637,
                "y": 0.655339,
                "yshift": 15,
                "z": -1.050539
               },
               {
                "showarrow": false,
                "text": 5,
                "x": 1.499567,
                "y": 0.748413,
                "yshift": 15,
                "z": -1.187716
               },
               {
                "showarrow": false,
                "text": 6,
                "x": -2.262047,
                "y": 0.323642,
                "yshift": 15,
                "z": 1.313718
               },
               {
                "showarrow": false,
                "text": 7,
                "x": -2.313419,
                "y": -0.262361,
                "yshift": 15,
                "z": -0.348532
               },
               {
                "showarrow": false,
                "text": 8,
                "x": -2.207559,
                "y": 1.466028,
                "yshift": 15,
                "z": -0.030857
               },
               {
                "showarrow": false,
                "text": 9,
                "x": 0.071658,
                "y": 1.195111,
                "yshift": 15,
                "z": 0.960544
               },
               {
                "showarrow": false,
                "text": 10,
                "x": 0.846755,
                "y": -2.904652,
                "yshift": 15,
                "z": 1.600899
               },
               {
                "showarrow": false,
                "text": 11,
                "x": 1.719204,
                "y": 0.988379,
                "yshift": 15,
                "z": -2.232054
               },
               {
                "showarrow": false,
                "text": 12,
                "x": 1.995576,
                "y": -0.200585,
                "yshift": 15,
                "z": -0.924142
               },
               {
                "showarrow": false,
                "text": 13,
                "x": 1.912786,
                "y": 1.544017,
                "yshift": 15,
                "z": -0.541273
               }
              ]
             }
            ],
            "label": "Indices",
            "method": "relayout"
           },
           {
            "args": [
             {
              "scene.annotations": [
               {
                "showarrow": false,
                "text": 0,
                "x": -1.87847,
                "y": 0.486409,
                "yshift": 15,
                "z": 0.308974
               },
               {
                "showarrow": false,
                "text": 1,
                "x": -0.351616,
                "y": 0.40486,
                "yshift": 15,
                "z": 0.289385
               },
               {
                "showarrow": false,
                "text": 2,
                "x": 0.135151,
                "y": -0.906788,
                "yshift": 15,
                "z": 0.788723
               },
               {
                "showarrow": false,
                "text": 3,
                "x": 0.511361,
                "y": -1.964942,
                "yshift": 15,
                "z": 1.23497
               },
               {
                "showarrow": false,
                "text": 4,
                "x": 0.092637,
                "y": 0.655339,
                "yshift": 15,
                "z": -1.050539
               },
               {
                "showarrow": false,
                "text": 5,
                "x": 1.499567,
                "y": 0.748413,
                "yshift": 15,
                "z": -1.187716
               },
               {
                "showarrow": false,
                "text": 6,
                "x": -2.262047,
                "y": 0.323642,
                "yshift": 15,
                "z": 1.313718
               },
               {
                "showarrow": false,
                "text": 7,
                "x": -2.313419,
                "y": -0.262361,
                "yshift": 15,
                "z": -0.348532
               },
               {
                "showarrow": false,
                "text": 8,
                "x": -2.207559,
                "y": 1.466028,
                "yshift": 15,
                "z": -0.030857
               },
               {
                "showarrow": false,
                "text": 9,
                "x": 0.071658,
                "y": 1.195111,
                "yshift": 15,
                "z": 0.960544
               },
               {
                "showarrow": false,
                "text": 10,
                "x": 0.846755,
                "y": -2.904652,
                "yshift": 15,
                "z": 1.600899
               },
               {
                "showarrow": false,
                "text": 11,
                "x": 1.719204,
                "y": 0.988379,
                "yshift": 15,
                "z": -2.232054
               },
               {
                "showarrow": false,
                "text": 12,
                "x": 1.995576,
                "y": -0.200585,
                "yshift": 15,
                "z": -0.924142
               },
               {
                "showarrow": false,
                "text": 13,
                "x": 1.912786,
                "y": 1.544017,
                "yshift": 15,
                "z": -0.541273
               },
               {
                "font": {
                 "color": "steelblue"
                },
                "showarrow": false,
                "text": 1.77,
                "x": -1.115043,
                "y": 0.4456345,
                "yshift": 15,
                "z": 0.29917950000000004
               },
               {
                "font": {
                 "color": "steelblue"
                },
                "showarrow": false,
                "text": 1.18,
                "x": -2.0702585,
                "y": 0.4050255,
                "yshift": 15,
                "z": 0.811346
               },
               {
                "font": {
                 "color": "steelblue"
                },
                "showarrow": false,
                "text": 1.18,
                "x": -2.0959445,
                "y": 0.11202399999999998,
                "yshift": 15,
                "z": -0.01977899999999999
               },
               {
                "font": {
                 "color": "steelblue"
                },
                "showarrow": false,
                "text": 1.18,
                "x": -2.0430145,
                "y": 0.9762185000000001,
                "yshift": 15,
                "z": 0.1390585
               },
               {
                "font": {
                 "color": "steelblue"
                },
                "showarrow": false,
                "text": 1.77,
                "x": -0.1082325,
                "y": -0.250964,
                "yshift": 15,
                "z": 0.5390539999999999
               },
               {
                "font": {
                 "color": "steelblue"
                },
                "showarrow": false,
                "text": 1.77,
                "x": -0.12948949999999998,
                "y": 0.5300995,
                "yshift": 15,
                "z": -0.38057699999999994
               },
               {
                "font": {
                 "color": "steelblue"
                },
                "showarrow": false,
                "text": 1.18,
                "x": -0.139979,
                "y": 0.7999855,
                "yshift": 15,
                "z": 0.6249644999999999
               },
               {
                "font": {
                 "color": "steelblue"
                },
                "showarrow": false,
                "text": 1.77,
                "x": 0.323256,
                "y": -1.435865,
                "yshift": 15,
                "z": 1.0118464999999999
               },
               {
                "font": {
                 "color": "steelblue"
                },
                "showarrow": false,
                "text": 1.18,
                "x": 0.6790579999999999,
                "y": -2.434797,
                "yshift": 15,
                "z": 1.4179344999999999
               },
               {
                "font": {
                 "color": "steelblue"
                },
                "showarrow": false,
                "text": 1.77,
                "x": 0.7961020000000001,
                "y": 0.7018759999999999,
                "yshift": 15,
                "z": -1.1191274999999998
               },
               {
                "font": {
                 "color": "steelblue"
                },
                "showarrow": false,
                "text": 1.18,
                "x": 1.6093855000000001,
                "y": 0.868396,
                "yshift": 15,
                "z": -1.709885
               },
               {
                "font": {
                 "color": "steelblue"
                },
                "showarrow": false,
                "text": 1.18,
                "x": 1.7475715,
                "y": 0.273914,
                "yshift": 15,
                "z": -1.055929
               },
               {
                "font": {
                 "color": "steelblue"
                },
                "showarrow": false,
                "text": 1.18,
                "x": 1.7061765000000002,
                "y": 1.146215,
                "yshift": 15,
                "z": -0.8644944999999999
               }
              ]
             }
            ],
            "label": "Indices & Bond Lengths",
            "method": "relayout"
           },
           {
            "args": [
             {
              "scene.annotations": [
               {
                "font": {
                 "color": "steelblue"
                },
                "showarrow": false,
                "text": 1.77,
                "x": -1.115043,
                "y": 0.4456345,
                "yshift": 15,
                "z": 0.29917950000000004
               },
               {
                "font": {
                 "color": "steelblue"
                },
                "showarrow": false,
                "text": 1.18,
                "x": -2.0702585,
                "y": 0.4050255,
                "yshift": 15,
                "z": 0.811346
               },
               {
                "font": {
                 "color": "steelblue"
                },
                "showarrow": false,
                "text": 1.18,
                "x": -2.0959445,
                "y": 0.11202399999999998,
                "yshift": 15,
                "z": -0.01977899999999999
               },
               {
                "font": {
                 "color": "steelblue"
                },
                "showarrow": false,
                "text": 1.18,
                "x": -2.0430145,
                "y": 0.9762185000000001,
                "yshift": 15,
                "z": 0.1390585
               },
               {
                "font": {
                 "color": "steelblue"
                },
                "showarrow": false,
                "text": 1.77,
                "x": -0.1082325,
                "y": -0.250964,
                "yshift": 15,
                "z": 0.5390539999999999
               },
               {
                "font": {
                 "color": "steelblue"
                },
                "showarrow": false,
                "text": 1.77,
                "x": -0.12948949999999998,
                "y": 0.5300995,
                "yshift": 15,
                "z": -0.38057699999999994
               },
               {
                "font": {
                 "color": "steelblue"
                },
                "showarrow": false,
                "text": 1.18,
                "x": -0.139979,
                "y": 0.7999855,
                "yshift": 15,
                "z": 0.6249644999999999
               },
               {
                "font": {
                 "color": "steelblue"
                },
                "showarrow": false,
                "text": 1.77,
                "x": 0.323256,
                "y": -1.435865,
                "yshift": 15,
                "z": 1.0118464999999999
               },
               {
                "font": {
                 "color": "steelblue"
                },
                "showarrow": false,
                "text": 1.18,
                "x": 0.6790579999999999,
                "y": -2.434797,
                "yshift": 15,
                "z": 1.4179344999999999
               },
               {
                "font": {
                 "color": "steelblue"
                },
                "showarrow": false,
                "text": 1.77,
                "x": 0.7961020000000001,
                "y": 0.7018759999999999,
                "yshift": 15,
                "z": -1.1191274999999998
               },
               {
                "font": {
                 "color": "steelblue"
                },
                "showarrow": false,
                "text": 1.18,
                "x": 1.6093855000000001,
                "y": 0.868396,
                "yshift": 15,
                "z": -1.709885
               },
               {
                "font": {
                 "color": "steelblue"
                },
                "showarrow": false,
                "text": 1.18,
                "x": 1.7475715,
                "y": 0.273914,
                "yshift": 15,
                "z": -1.055929
               },
               {
                "font": {
                 "color": "steelblue"
                },
                "showarrow": false,
                "text": 1.18,
                "x": 1.7061765000000002,
                "y": 1.146215,
                "yshift": 15,
                "z": -0.8644944999999999
               }
              ]
             }
            ],
            "label": "Bond Lengths",
            "method": "relayout"
           },
           {
            "args": [
             {
              "scene.annotations": []
             }
            ],
            "label": "Hide All",
            "method": "relayout"
           }
          ],
          "direction": "down",
          "xanchor": "left",
          "yanchor": "top"
         }
        ]
       }
      }
     },
     "metadata": {},
     "output_type": "display_data"
    }
   ],
   "source": [
    "fig.show()"
   ]
  },
  {
   "cell_type": "markdown",
   "metadata": {},
   "source": [
    "#### Visualisation du dataset"
   ]
  },
  {
   "cell_type": "code",
   "execution_count": 7,
   "metadata": {},
   "outputs": [
    {
     "name": "stderr",
     "output_type": "stream",
     "text": [
      "100%|██████████| 4628/4628 [00:01<00:00, 2827.79it/s]\n"
     ]
    }
   ],
   "source": [
    "metadata = []\n",
    "for filename in tqdm(os.listdir(train_path)):\n",
    "    mg = MolGraph()\n",
    "    metadata_dict = dict()\n",
    "    mg.read_xyz(train_path + filename)\n",
    "    metadata_dict[\"id\"] = int(re.findall(r\"\\d+\", filename)[0])\n",
    "    metadata_dict[\"nb_C\"] = len(list(filter(lambda x: x == \"C\", mg.elements)))\n",
    "    metadata_dict[\"nb_H\"] = len(list(filter(lambda x: x == \"H\", mg.elements)))\n",
    "    metadata_dict[\"nb_Atoms\"] = len(mg.elements)\n",
    "    metadata_dict[\"mean_dist\"] = (\n",
    "        sum(mg.bond_lengths.values()) / metadata_dict[\"nb_Atoms\"]\n",
    "    )\n",
    "    metadata_dict[\"max_dist\"] = max(mg.bond_lengths.values())\n",
    "    metadata_dict[\"mean_radii\"] = (\n",
    "        sum(mg.atomic_radii) / metadata_dict[\"nb_Atoms\"]\n",
    "    )\n",
    "    metadata_dict[\"max_radii\"] = max(mg.atomic_radii)\n",
    "    metadata.append(metadata_dict)\n",
    "data = pd.DataFrame(metadata)\n",
    "merged = pd.merge(data, energies, how=\"left\", on=\"id\")"
   ]
  },
  {
   "cell_type": "code",
   "execution_count": 8,
   "metadata": {},
   "outputs": [
    {
     "data": {
      "text/html": [
       "<div>\n",
       "<style scoped>\n",
       "    .dataframe tbody tr th:only-of-type {\n",
       "        vertical-align: middle;\n",
       "    }\n",
       "\n",
       "    .dataframe tbody tr th {\n",
       "        vertical-align: top;\n",
       "    }\n",
       "\n",
       "    .dataframe thead th {\n",
       "        text-align: right;\n",
       "    }\n",
       "</style>\n",
       "<table border=\"1\" class=\"dataframe\">\n",
       "  <thead>\n",
       "    <tr style=\"text-align: right;\">\n",
       "      <th></th>\n",
       "      <th>id</th>\n",
       "      <th>nb_C</th>\n",
       "      <th>nb_H</th>\n",
       "      <th>nb_Atoms</th>\n",
       "      <th>mean_dist</th>\n",
       "      <th>max_dist</th>\n",
       "      <th>mean_radii</th>\n",
       "      <th>max_radii</th>\n",
       "      <th>energy</th>\n",
       "    </tr>\n",
       "  </thead>\n",
       "  <tbody>\n",
       "    <tr>\n",
       "      <th>0</th>\n",
       "      <td>1378</td>\n",
       "      <td>7</td>\n",
       "      <td>12</td>\n",
       "      <td>19</td>\n",
       "      <td>1.305474</td>\n",
       "      <td>1.768</td>\n",
       "      <td>0.395789</td>\n",
       "      <td>0.68</td>\n",
       "      <td>-90.382908</td>\n",
       "    </tr>\n",
       "    <tr>\n",
       "      <th>1</th>\n",
       "      <td>4261</td>\n",
       "      <td>7</td>\n",
       "      <td>14</td>\n",
       "      <td>21</td>\n",
       "      <td>1.378000</td>\n",
       "      <td>1.768</td>\n",
       "      <td>0.380000</td>\n",
       "      <td>0.68</td>\n",
       "      <td>-97.088127</td>\n",
       "    </tr>\n",
       "    <tr>\n",
       "      <th>2</th>\n",
       "      <td>2683</td>\n",
       "      <td>4</td>\n",
       "      <td>9</td>\n",
       "      <td>15</td>\n",
       "      <td>1.417000</td>\n",
       "      <td>1.768</td>\n",
       "      <td>0.410000</td>\n",
       "      <td>0.68</td>\n",
       "      <td>-67.964455</td>\n",
       "    </tr>\n",
       "    <tr>\n",
       "      <th>3</th>\n",
       "      <td>3231</td>\n",
       "      <td>7</td>\n",
       "      <td>12</td>\n",
       "      <td>19</td>\n",
       "      <td>1.305474</td>\n",
       "      <td>1.768</td>\n",
       "      <td>0.395789</td>\n",
       "      <td>0.68</td>\n",
       "      <td>-90.968990</td>\n",
       "    </tr>\n",
       "    <tr>\n",
       "      <th>4</th>\n",
       "      <td>3753</td>\n",
       "      <td>5</td>\n",
       "      <td>8</td>\n",
       "      <td>14</td>\n",
       "      <td>1.307429</td>\n",
       "      <td>1.768</td>\n",
       "      <td>0.422857</td>\n",
       "      <td>0.68</td>\n",
       "      <td>-68.327363</td>\n",
       "    </tr>\n",
       "    <tr>\n",
       "      <th>...</th>\n",
       "      <td>...</td>\n",
       "      <td>...</td>\n",
       "      <td>...</td>\n",
       "      <td>...</td>\n",
       "      <td>...</td>\n",
       "      <td>...</td>\n",
       "      <td>...</td>\n",
       "      <td>...</td>\n",
       "      <td>...</td>\n",
       "    </tr>\n",
       "    <tr>\n",
       "      <th>4623</th>\n",
       "      <td>2528</td>\n",
       "      <td>4</td>\n",
       "      <td>11</td>\n",
       "      <td>17</td>\n",
       "      <td>1.285471</td>\n",
       "      <td>1.768</td>\n",
       "      <td>0.388824</td>\n",
       "      <td>0.68</td>\n",
       "      <td>-74.593184</td>\n",
       "    </tr>\n",
       "    <tr>\n",
       "      <th>4624</th>\n",
       "      <td>3879</td>\n",
       "      <td>7</td>\n",
       "      <td>12</td>\n",
       "      <td>19</td>\n",
       "      <td>1.305474</td>\n",
       "      <td>1.768</td>\n",
       "      <td>0.395789</td>\n",
       "      <td>0.68</td>\n",
       "      <td>-90.850472</td>\n",
       "    </tr>\n",
       "    <tr>\n",
       "      <th>4625</th>\n",
       "      <td>3291</td>\n",
       "      <td>5</td>\n",
       "      <td>11</td>\n",
       "      <td>17</td>\n",
       "      <td>1.389471</td>\n",
       "      <td>1.768</td>\n",
       "      <td>0.388824</td>\n",
       "      <td>0.68</td>\n",
       "      <td>-76.261498</td>\n",
       "    </tr>\n",
       "    <tr>\n",
       "      <th>4626</th>\n",
       "      <td>4410</td>\n",
       "      <td>7</td>\n",
       "      <td>12</td>\n",
       "      <td>19</td>\n",
       "      <td>1.305474</td>\n",
       "      <td>1.768</td>\n",
       "      <td>0.395789</td>\n",
       "      <td>0.68</td>\n",
       "      <td>-91.235288</td>\n",
       "    </tr>\n",
       "    <tr>\n",
       "      <th>4627</th>\n",
       "      <td>779</td>\n",
       "      <td>7</td>\n",
       "      <td>12</td>\n",
       "      <td>19</td>\n",
       "      <td>1.305474</td>\n",
       "      <td>1.768</td>\n",
       "      <td>0.395789</td>\n",
       "      <td>0.68</td>\n",
       "      <td>-91.144391</td>\n",
       "    </tr>\n",
       "  </tbody>\n",
       "</table>\n",
       "<p>4628 rows × 9 columns</p>\n",
       "</div>"
      ],
      "text/plain": [
       "        id  nb_C  nb_H  nb_Atoms  mean_dist  max_dist  mean_radii  max_radii  \\\n",
       "0     1378     7    12        19   1.305474     1.768    0.395789       0.68   \n",
       "1     4261     7    14        21   1.378000     1.768    0.380000       0.68   \n",
       "2     2683     4     9        15   1.417000     1.768    0.410000       0.68   \n",
       "3     3231     7    12        19   1.305474     1.768    0.395789       0.68   \n",
       "4     3753     5     8        14   1.307429     1.768    0.422857       0.68   \n",
       "...    ...   ...   ...       ...        ...       ...         ...        ...   \n",
       "4623  2528     4    11        17   1.285471     1.768    0.388824       0.68   \n",
       "4624  3879     7    12        19   1.305474     1.768    0.395789       0.68   \n",
       "4625  3291     5    11        17   1.389471     1.768    0.388824       0.68   \n",
       "4626  4410     7    12        19   1.305474     1.768    0.395789       0.68   \n",
       "4627   779     7    12        19   1.305474     1.768    0.395789       0.68   \n",
       "\n",
       "         energy  \n",
       "0    -90.382908  \n",
       "1    -97.088127  \n",
       "2    -67.964455  \n",
       "3    -90.968990  \n",
       "4    -68.327363  \n",
       "...         ...  \n",
       "4623 -74.593184  \n",
       "4624 -90.850472  \n",
       "4625 -76.261498  \n",
       "4626 -91.235288  \n",
       "4627 -91.144391  \n",
       "\n",
       "[4628 rows x 9 columns]"
      ]
     },
     "execution_count": 8,
     "metadata": {},
     "output_type": "execute_result"
    }
   ],
   "source": [
    "merged"
   ]
  },
  {
   "cell_type": "code",
   "execution_count": 9,
   "metadata": {},
   "outputs": [
    {
     "data": {
      "image/png": "[encoded data removed]",
      "text/plain": [
       "<Figure size 640x480 with 1 Axes>"
      ]
     },
     "metadata": {},
     "output_type": "display_data"
    }
   ],
   "source": [
    "plt.scatter((merged[\"nb_H\"] + merged[\"nb_C\"]) * merged[\"mean_radii\"], merged[\"energy\"])\n",
    "plt.xlabel(\"(Nb_H + Nb_C)*Moyenne des rayons des atomes\")\n",
    "plt.ylabel(\"Energie d'atomisation\")\n",
    "plt.title(\"\")\n",
    "plt.show()"
   ]
  },
  {
   "cell_type": "markdown",
   "metadata": {},
   "source": [
    "## Prétraitemen des données"
   ]
  },
  {
   "cell_type": "markdown",
   "metadata": {},
   "source": [
    "#### Sur les données d'entraînement"
   ]
  },
  {
   "cell_type": "code",
   "execution_count": 10,
   "metadata": {},
   "outputs": [
    {
     "name": "stderr",
     "output_type": "stream",
     "text": [
      "100%|██████████| 4628/4628 [00:01<00:00, 2627.14it/s]\n"
     ]
    }
   ],
   "source": [
    "molecule_data = []\n",
    "ids = []\n",
    "num_atoms = []\n",
    "MAX_ELEMENTS = 23\n",
    "for filename in tqdm(os.listdir(train_path)):\n",
    "    mg = MolGraph()\n",
    "    molecule_dict = dict()\n",
    "    mg.read_xyz(train_path + filename)\n",
    "    molecule_dict[\"id\"] = int(re.findall(r\"\\d+\", filename)[0])\n",
    "    molecule_dict[\"num_atoms\"] = len(mg.elements)\n",
    "    indices = range(molecule_dict[\"num_atoms\"])\n",
    "    \n",
    "    molecule_dict[\"atoms\"] = np.zeros(MAX_ELEMENTS, dtype=str)\n",
    "    np.put(molecule_dict[\"atoms\"], indices, mg.elements)\n",
    "    molecule_dict[\"x\"] = np.zeros(MAX_ELEMENTS)\n",
    "    np.put(molecule_dict[\"x\"], indices, mg.x)\n",
    "    molecule_dict[\"y\"] = np.zeros(MAX_ELEMENTS)\n",
    "    np.put(molecule_dict[\"y\"], indices, mg.y)\n",
    "    molecule_dict[\"z\"] = np.zeros(MAX_ELEMENTS)\n",
    "    np.put(molecule_dict[\"z\"], indices, mg.z)\n",
    "    molecule_dict[\"atomic_numbers\"] = np.array(list(map(lambda x: periodic_table[x], molecule_dict[\"atoms\"])))\n",
    "    molecule_data.append(molecule_dict)\n",
    "\n",
    "data_mol = pd.DataFrame(molecule_data)"
   ]
  },
  {
   "cell_type": "code",
   "execution_count": 11,
   "metadata": {},
   "outputs": [
    {
     "data": {
      "text/html": [
       "<div>\n",
       "<style scoped>\n",
       "    .dataframe tbody tr th:only-of-type {\n",
       "        vertical-align: middle;\n",
       "    }\n",
       "\n",
       "    .dataframe tbody tr th {\n",
       "        vertical-align: top;\n",
       "    }\n",
       "\n",
       "    .dataframe thead th {\n",
       "        text-align: right;\n",
       "    }\n",
       "</style>\n",
       "<table border=\"1\" class=\"dataframe\">\n",
       "  <thead>\n",
       "    <tr style=\"text-align: right;\">\n",
       "      <th></th>\n",
       "      <th>id</th>\n",
       "      <th>num_atoms</th>\n",
       "      <th>atoms</th>\n",
       "      <th>x</th>\n",
       "      <th>y</th>\n",
       "      <th>z</th>\n",
       "      <th>atomic_numbers</th>\n",
       "    </tr>\n",
       "  </thead>\n",
       "  <tbody>\n",
       "    <tr>\n",
       "      <th>0</th>\n",
       "      <td>1378</td>\n",
       "      <td>19</td>\n",
       "      <td>[C, C, C, C, C, C, C, H, H, H, H, H, H, H, H, ...</td>\n",
       "      <td>[-3.422678, -2.214776, -0.7515, -0.173601, 1.3...</td>\n",
       "      <td>[0.272019, 0.252711, 0.232221, 0.087406, 0.152...</td>\n",
       "      <td>[1.027664, 1.013301, 1.003735, -0.412957, -0.4...</td>\n",
       "      <td>[6, 6, 6, 6, 6, 6, 6, 1, 1, 1, 1, 1, 1, 1, 1, ...</td>\n",
       "    </tr>\n",
       "    <tr>\n",
       "      <th>1</th>\n",
       "      <td>4261</td>\n",
       "      <td>21</td>\n",
       "      <td>[C, C, C, C, C, C, C, H, H, H, H, H, H, H, H, ...</td>\n",
       "      <td>[-0.762414, -0.857188, 0.165888, -0.061294, 1....</td>\n",
       "      <td>[-1.564976, -0.075698, 0.778435, 0.799366, 1.3...</td>\n",
       "      <td>[1.689475, 1.9964, 1.232484, -0.274357, -1.183...</td>\n",
       "      <td>[6, 6, 6, 6, 6, 6, 6, 1, 1, 1, 1, 1, 1, 1, 1, ...</td>\n",
       "    </tr>\n",
       "    <tr>\n",
       "      <th>2</th>\n",
       "      <td>2683</td>\n",
       "      <td>15</td>\n",
       "      <td>[O, C, C, C, C, N, H, H, H, H, H, H, H, H, H, ...</td>\n",
       "      <td>[0.831782, 1.093163, -0.22282, -1.134508, -0.8...</td>\n",
       "      <td>[-2.146051, -0.822155, -0.136907, 0.279113, 1....</td>\n",
       "      <td>[0.310662, -0.119359, -0.490743, 0.682003, 0.3...</td>\n",
       "      <td>[8, 6, 6, 6, 6, 7, 1, 1, 1, 1, 1, 1, 1, 1, 1, ...</td>\n",
       "    </tr>\n",
       "    <tr>\n",
       "      <th>3</th>\n",
       "      <td>3231</td>\n",
       "      <td>19</td>\n",
       "      <td>[C, C, C, C, C, C, C, H, H, H, H, H, H, H, H, ...</td>\n",
       "      <td>[-2.102219, -1.552018, -0.939505, 0.520376, 1....</td>\n",
       "      <td>[1.465102, 0.331327, 0.149637, -0.344522, -0.5...</td>\n",
       "      <td>[2.090851, 1.65539, 0.294256, 0.374877, -0.986...</td>\n",
       "      <td>[6, 6, 6, 6, 6, 6, 6, 1, 1, 1, 1, 1, 1, 1, 1, ...</td>\n",
       "    </tr>\n",
       "    <tr>\n",
       "      <th>4</th>\n",
       "      <td>3753</td>\n",
       "      <td>14</td>\n",
       "      <td>[C, C, C, O, C, C, H, H, H, H, H, H, H, H, , ,...</td>\n",
       "      <td>[-2.378177, -1.17025, 0.3244, 0.773171, 0.8502...</td>\n",
       "      <td>[0.006156, 0.014099, 0.022966, 1.145889, -1.28...</td>\n",
       "      <td>[0.01694, -0.011043, -0.008448, 0.767368, 0.63...</td>\n",
       "      <td>[6, 6, 6, 8, 6, 6, 1, 1, 1, 1, 1, 1, 1, 1, 0, ...</td>\n",
       "    </tr>\n",
       "    <tr>\n",
       "      <th>...</th>\n",
       "      <td>...</td>\n",
       "      <td>...</td>\n",
       "      <td>...</td>\n",
       "      <td>...</td>\n",
       "      <td>...</td>\n",
       "      <td>...</td>\n",
       "      <td>...</td>\n",
       "    </tr>\n",
       "    <tr>\n",
       "      <th>4623</th>\n",
       "      <td>2528</td>\n",
       "      <td>17</td>\n",
       "      <td>[C, C, C, C, N, O, H, H, H, H, H, H, H, H, H, ...</td>\n",
       "      <td>[0.100611, -0.342056, 0.154059, -0.305016, 0.2...</td>\n",
       "      <td>[1.065237, 0.079345, 0.506853, -0.453489, -0.0...</td>\n",
       "      <td>[2.149141, 1.05729, -0.340548, -1.442925, -2.7...</td>\n",
       "      <td>[6, 6, 6, 6, 7, 8, 1, 1, 1, 1, 1, 1, 1, 1, 1, ...</td>\n",
       "    </tr>\n",
       "    <tr>\n",
       "      <th>4624</th>\n",
       "      <td>3879</td>\n",
       "      <td>19</td>\n",
       "      <td>[C, C, C, C, C, C, C, H, H, H, H, H, H, H, H, ...</td>\n",
       "      <td>[0.763348, 0.076816, 0.693786, 0.309681, -1.18...</td>\n",
       "      <td>[1.390694, 0.619161, -0.425547, -0.255573, -0....</td>\n",
       "      <td>[2.492831, 1.649307, 0.762831, -0.733101, -0.9...</td>\n",
       "      <td>[6, 6, 6, 6, 6, 6, 6, 1, 1, 1, 1, 1, 1, 1, 1, ...</td>\n",
       "    </tr>\n",
       "    <tr>\n",
       "      <th>4625</th>\n",
       "      <td>3291</td>\n",
       "      <td>17</td>\n",
       "      <td>[C, C, C, C, N, C, H, H, H, H, H, H, H, H, H, ...</td>\n",
       "      <td>[-1.200518, -1.145162, -0.321123, 0.624674, -0...</td>\n",
       "      <td>[0.034478, 0.039269, -1.084, 0.017377, 1.07531...</td>\n",
       "      <td>[-1.730292, -0.205153, 0.458755, 0.982143, 0.3...</td>\n",
       "      <td>[6, 6, 6, 6, 7, 6, 1, 1, 1, 1, 1, 1, 1, 1, 1, ...</td>\n",
       "    </tr>\n",
       "    <tr>\n",
       "      <th>4626</th>\n",
       "      <td>4410</td>\n",
       "      <td>19</td>\n",
       "      <td>[C, C, C, C, C, C, C, H, H, H, H, H, H, H, H, ...</td>\n",
       "      <td>[-1.629325, -0.159679, 0.418309, -0.25593, 0.3...</td>\n",
       "      <td>[-0.280381, -0.372936, 0.133476, 0.840475, 1.3...</td>\n",
       "      <td>[0.609543, 0.304931, -0.811825, -1.892687, -2....</td>\n",
       "      <td>[6, 6, 6, 6, 6, 6, 6, 1, 1, 1, 1, 1, 1, 1, 1, ...</td>\n",
       "    </tr>\n",
       "    <tr>\n",
       "      <th>4627</th>\n",
       "      <td>779</td>\n",
       "      <td>19</td>\n",
       "      <td>[C, C, C, C, C, C, C, H, H, H, H, H, H, H, H, ...</td>\n",
       "      <td>[-3.194929, -1.71804, -0.924298, 0.534403, 1.2...</td>\n",
       "      <td>[-0.284086, -0.060005, -0.256724, -0.059748, 0...</td>\n",
       "      <td>[-0.69168, -0.701021, 0.369577, 0.434163, -0.5...</td>\n",
       "      <td>[6, 6, 6, 6, 6, 6, 6, 1, 1, 1, 1, 1, 1, 1, 1, ...</td>\n",
       "    </tr>\n",
       "  </tbody>\n",
       "</table>\n",
       "<p>4628 rows × 7 columns</p>\n",
       "</div>"
      ],
      "text/plain": [
       "        id  num_atoms                                              atoms  \\\n",
       "0     1378         19  [C, C, C, C, C, C, C, H, H, H, H, H, H, H, H, ...   \n",
       "1     4261         21  [C, C, C, C, C, C, C, H, H, H, H, H, H, H, H, ...   \n",
       "2     2683         15  [O, C, C, C, C, N, H, H, H, H, H, H, H, H, H, ...   \n",
       "3     3231         19  [C, C, C, C, C, C, C, H, H, H, H, H, H, H, H, ...   \n",
       "4     3753         14  [C, C, C, O, C, C, H, H, H, H, H, H, H, H, , ,...   \n",
       "...    ...        ...                                                ...   \n",
       "4623  2528         17  [C, C, C, C, N, O, H, H, H, H, H, H, H, H, H, ...   \n",
       "4624  3879         19  [C, C, C, C, C, C, C, H, H, H, H, H, H, H, H, ...   \n",
       "4625  3291         17  [C, C, C, C, N, C, H, H, H, H, H, H, H, H, H, ...   \n",
       "4626  4410         19  [C, C, C, C, C, C, C, H, H, H, H, H, H, H, H, ...   \n",
       "4627   779         19  [C, C, C, C, C, C, C, H, H, H, H, H, H, H, H, ...   \n",
       "\n",
       "                                                      x  \\\n",
       "0     [-3.422678, -2.214776, -0.7515, -0.173601, 1.3...   \n",
       "1     [-0.762414, -0.857188, 0.165888, -0.061294, 1....   \n",
       "2     [0.831782, 1.093163, -0.22282, -1.134508, -0.8...   \n",
       "3     [-2.102219, -1.552018, -0.939505, 0.520376, 1....   \n",
       "4     [-2.378177, -1.17025, 0.3244, 0.773171, 0.8502...   \n",
       "...                                                 ...   \n",
       "4623  [0.100611, -0.342056, 0.154059, -0.305016, 0.2...   \n",
       "4624  [0.763348, 0.076816, 0.693786, 0.309681, -1.18...   \n",
       "4625  [-1.200518, -1.145162, -0.321123, 0.624674, -0...   \n",
       "4626  [-1.629325, -0.159679, 0.418309, -0.25593, 0.3...   \n",
       "4627  [-3.194929, -1.71804, -0.924298, 0.534403, 1.2...   \n",
       "\n",
       "                                                      y  \\\n",
       "0     [0.272019, 0.252711, 0.232221, 0.087406, 0.152...   \n",
       "1     [-1.564976, -0.075698, 0.778435, 0.799366, 1.3...   \n",
       "2     [-2.146051, -0.822155, -0.136907, 0.279113, 1....   \n",
       "3     [1.465102, 0.331327, 0.149637, -0.344522, -0.5...   \n",
       "4     [0.006156, 0.014099, 0.022966, 1.145889, -1.28...   \n",
       "...                                                 ...   \n",
       "4623  [1.065237, 0.079345, 0.506853, -0.453489, -0.0...   \n",
       "4624  [1.390694, 0.619161, -0.425547, -0.255573, -0....   \n",
       "4625  [0.034478, 0.039269, -1.084, 0.017377, 1.07531...   \n",
       "4626  [-0.280381, -0.372936, 0.133476, 0.840475, 1.3...   \n",
       "4627  [-0.284086, -0.060005, -0.256724, -0.059748, 0...   \n",
       "\n",
       "                                                      z  \\\n",
       "0     [1.027664, 1.013301, 1.003735, -0.412957, -0.4...   \n",
       "1     [1.689475, 1.9964, 1.232484, -0.274357, -1.183...   \n",
       "2     [0.310662, -0.119359, -0.490743, 0.682003, 0.3...   \n",
       "3     [2.090851, 1.65539, 0.294256, 0.374877, -0.986...   \n",
       "4     [0.01694, -0.011043, -0.008448, 0.767368, 0.63...   \n",
       "...                                                 ...   \n",
       "4623  [2.149141, 1.05729, -0.340548, -1.442925, -2.7...   \n",
       "4624  [2.492831, 1.649307, 0.762831, -0.733101, -0.9...   \n",
       "4625  [-1.730292, -0.205153, 0.458755, 0.982143, 0.3...   \n",
       "4626  [0.609543, 0.304931, -0.811825, -1.892687, -2....   \n",
       "4627  [-0.69168, -0.701021, 0.369577, 0.434163, -0.5...   \n",
       "\n",
       "                                         atomic_numbers  \n",
       "0     [6, 6, 6, 6, 6, 6, 6, 1, 1, 1, 1, 1, 1, 1, 1, ...  \n",
       "1     [6, 6, 6, 6, 6, 6, 6, 1, 1, 1, 1, 1, 1, 1, 1, ...  \n",
       "2     [8, 6, 6, 6, 6, 7, 1, 1, 1, 1, 1, 1, 1, 1, 1, ...  \n",
       "3     [6, 6, 6, 6, 6, 6, 6, 1, 1, 1, 1, 1, 1, 1, 1, ...  \n",
       "4     [6, 6, 6, 8, 6, 6, 1, 1, 1, 1, 1, 1, 1, 1, 0, ...  \n",
       "...                                                 ...  \n",
       "4623  [6, 6, 6, 6, 7, 8, 1, 1, 1, 1, 1, 1, 1, 1, 1, ...  \n",
       "4624  [6, 6, 6, 6, 6, 6, 6, 1, 1, 1, 1, 1, 1, 1, 1, ...  \n",
       "4625  [6, 6, 6, 6, 7, 6, 1, 1, 1, 1, 1, 1, 1, 1, 1, ...  \n",
       "4626  [6, 6, 6, 6, 6, 6, 6, 1, 1, 1, 1, 1, 1, 1, 1, ...  \n",
       "4627  [6, 6, 6, 6, 6, 6, 6, 1, 1, 1, 1, 1, 1, 1, 1, ...  \n",
       "\n",
       "[4628 rows x 7 columns]"
      ]
     },
     "execution_count": 11,
     "metadata": {},
     "output_type": "execute_result"
    }
   ],
   "source": [
    "data_mol"
   ]
  },
  {
   "cell_type": "markdown",
   "metadata": {},
   "source": [
    "#### Sur les données de test"
   ]
  },
  {
   "cell_type": "code",
   "execution_count": 12,
   "metadata": {},
   "outputs": [
    {
     "name": "stderr",
     "output_type": "stream",
     "text": [
      "100%|██████████| 1156/1156 [00:00<00:00, 2619.21it/s]\n"
     ]
    }
   ],
   "source": [
    "molecule_data = []\n",
    "ids = []\n",
    "num_atoms = []\n",
    "MAX_ELEMENTS = 23\n",
    "for filename in tqdm(os.listdir(test_path)):\n",
    "    mg = MolGraph()\n",
    "    molecule_dict = dict()\n",
    "    mg.read_xyz(test_path + filename)\n",
    "    molecule_dict[\"id\"] = int(re.findall(r\"\\d+\", filename)[0])\n",
    "    molecule_dict[\"num_atoms\"] = len(mg.elements)\n",
    "    indices = range(molecule_dict[\"num_atoms\"])\n",
    "    \n",
    "    molecule_dict[\"atoms\"] = np.zeros(MAX_ELEMENTS, dtype=str)\n",
    "    np.put(molecule_dict[\"atoms\"], indices, mg.elements)\n",
    "    molecule_dict[\"x\"] = np.zeros(MAX_ELEMENTS)\n",
    "    np.put(molecule_dict[\"x\"], indices, mg.x)\n",
    "    molecule_dict[\"y\"] = np.zeros(MAX_ELEMENTS)\n",
    "    np.put(molecule_dict[\"y\"], indices, mg.y)\n",
    "    molecule_dict[\"z\"] = np.zeros(MAX_ELEMENTS)\n",
    "    np.put(molecule_dict[\"z\"], indices, mg.z)\n",
    "    molecule_dict[\"atomic_numbers\"] = np.array(list(map(lambda x: periodic_table[x], molecule_dict[\"atoms\"])))\n",
    "    molecule_data.append(molecule_dict)\n",
    "data_test_mol = pd.DataFrame(molecule_data)"
   ]
  },
  {
   "cell_type": "markdown",
   "metadata": {},
   "source": [
    "## Méthode par matrice de Coulomb"
   ]
  },
  {
   "cell_type": "markdown",
   "metadata": {},
   "source": [
    "#### Construction de la matrice de Coulomb"
   ]
  },
  {
   "cell_type": "code",
   "execution_count": 13,
   "metadata": {},
   "outputs": [],
   "source": [
    "def compute_coulomb_matrix(row):\n",
    "    coords = np.column_stack((row[[\"x\", \"y\", \"z\"]]))\n",
    "    distances = np.linalg.norm(coords[:, None, :] - coords[None, :, :], axis=-1)\n",
    "    coulomb_matrix = np.zeros((MAX_ELEMENTS, MAX_ELEMENTS))\n",
    "    for i in range(MAX_ELEMENTS):\n",
    "        for j in range(MAX_ELEMENTS):\n",
    "            if i == j:\n",
    "                coulomb_matrix[i, j] = 0.5 * row[\"atomic_numbers\"][i] ** 2.4\n",
    "            else:\n",
    "                coulomb_matrix[i, j] = row[\"atomic_numbers\"][i] * row[\"atomic_numbers\"][i] / (max(distances[i, j], 1e-6))\n",
    "    return coulomb_matrix"
   ]
  },
  {
   "cell_type": "markdown",
   "metadata": {},
   "source": [
    "#### Construction de la matrice de Coulomb aléatoire"
   ]
  },
  {
   "cell_type": "code",
   "execution_count": 14,
   "metadata": {},
   "outputs": [],
   "source": [
    "sigma = 1e-3\n",
    "def randomly_sorted_coulomb(matrix, sigma):\n",
    "    norms = np.linalg.norm(matrix, axis=1)\n",
    "    noise = np.random.normal(0, sigma, MAX_ELEMENTS)\n",
    "    perm = np.argsort(norms + noise)\n",
    "    result = matrix[perm, :]\n",
    "    return result[:, perm]"
   ]
  },
  {
   "cell_type": "markdown",
   "metadata": {},
   "source": [
    "#### Conversion de la matrice de Coulomb aléatoire pour obtenir un tenseur tridimensionnel "
   ]
  },
  {
   "cell_type": "code",
   "execution_count": 15,
   "metadata": {},
   "outputs": [],
   "source": [
    "theta = 1\n",
    "# Converting the coulomb matrix into a three-dimensional tensor of essentially binary predicate \n",
    "# read paper 'Learning Invariant Representations of Molecules for Atomization Energy Prediction'\n",
    "def transform_coulomb_matrix(coulomb_matrix, theta = 1):\n",
    "    transformed_matrices = []\n",
    "    transformed_matrices.append(np.tanh((coulomb_matrix - theta) / theta))\n",
    "    transformed_matrices.append(np.tanh(coulomb_matrix / theta))\n",
    "    transformed_matrices.append(np.tanh((coulomb_matrix + theta) / theta))\n",
    "    # stack the transformed matrix to have a 3D tensor\n",
    "    x = np.stack(transformed_matrices, axis = -1)\n",
    "    return x\n"
   ]
  },
  {
   "cell_type": "markdown",
   "metadata": {},
   "source": [
    "#### Entraînement de notre dataset train par un MLP"
   ]
  },
  {
   "cell_type": "code",
   "execution_count": 16,
   "metadata": {},
   "outputs": [],
   "source": [
    "device = torch.device(\"cuda\" if torch.cuda.is_available() else \"cpu\")"
   ]
  },
  {
   "cell_type": "code",
   "execution_count": 17,
   "metadata": {},
   "outputs": [],
   "source": [
    "# Model (implemented with the same neural network as the paper 'Learning Invariant Representations of Molecules forAtomization Energy Prediction')\n",
    "class MLP(nn.Module) :\n",
    "    def __init__(self):\n",
    "        super(MLP,self).__init__()\n",
    "        self.flatten = nn.Flatten()\n",
    "        self.seq = nn.Sequential(\n",
    "            nn.Linear(23*23*3,400),\n",
    "            nn.Sigmoid(),\n",
    "            nn.Linear(400,100),\n",
    "            nn.Sigmoid(),\n",
    "            nn.Linear(100,1),\n",
    "        )\n",
    "\n",
    "    def forward(self, x):\n",
    "        x = self.flatten(x)\n",
    "        output = self.seq(x)\n",
    "        return output.view(-1)"
   ]
  },
  {
   "cell_type": "code",
   "execution_count": 18,
   "metadata": {},
   "outputs": [],
   "source": [
    "# Dataset for train dataloader\n",
    "class moleculeDataset(Dataset):\n",
    "    def __init__(self, atom_energy, data_mol, transform=None):\n",
    "        self.atom_energy = atom_energy\n",
    "        self.data_mol = data_mol\n",
    "        self.transform = transform\n",
    "\n",
    "    def __len__(self):\n",
    "        return len(self.atom_energy)\n",
    "\n",
    "    def __getitem__(self, idx):\n",
    "        atom = self.data_mol.iloc[idx]\n",
    "        coulomb_mat = compute_coulomb_matrix(atom)\n",
    "        random_coulomb = randomly_sorted_coulomb(coulomb_mat, sigma)\n",
    "        x = transform_coulomb_matrix(random_coulomb, theta)\n",
    "        energy = self.atom_energy.loc[self.atom_energy['id'] == atom['id'], 'energy'].values[0]\n",
    "        x = torch.tensor(x, dtype=torch.float32)  \n",
    "        energy = torch.tensor(energy, dtype=torch.float32)\n",
    "        if self.transform:\n",
    "            x = self.transform(x)\n",
    "        return x, energy"
   ]
  },
  {
   "cell_type": "code",
   "execution_count": 19,
   "metadata": {},
   "outputs": [],
   "source": [
    "data_mol_train, data_mol_val = train_test_split(data_mol, train_size = 0.8, shuffle = True)\n",
    "train_ids = data_mol_train['id'].values\n",
    "val_ids = data_mol_val['id'].values\n",
    "energies_train = energies[energies['id'].isin(train_ids)].reset_index(drop=True)\n",
    "energies_val = energies[energies['id'].isin(val_ids)].reset_index(drop=True)"
   ]
  },
  {
   "cell_type": "code",
   "execution_count": 18,
   "metadata": {},
   "outputs": [
    {
     "name": "stderr",
     "output_type": "stream",
     "text": [
      "/home/mickael/venv/lib/python3.9/site-packages/tqdm/auto.py:21: TqdmWarning:\n",
      "\n",
      "IProgress not found. Please update jupyter and ipywidgets. See https://ipywidgets.readthedocs.io/en/stable/user_install.html\n",
      "\n"
     ]
    },
    {
     "name": "stdout",
     "output_type": "stream",
     "text": [
      "Epoch [1/80] terminée avec une perte moyenne: 202.0599\n",
      "Epoch [2/80] terminée avec une perte moyenne: 182.4027\n",
      "Epoch [3/80] terminée avec une perte moyenne: 170.4827\n",
      "Epoch [4/80] terminée avec une perte moyenne: 49.8434\n",
      "Epoch [5/80] terminée avec une perte moyenne: 22.3914\n",
      "Epoch [6/80] terminée avec une perte moyenne: 16.7056\n",
      "Epoch [7/80] terminée avec une perte moyenne: 9.3513\n",
      "Epoch [8/80] terminée avec une perte moyenne: 7.9494\n",
      "Epoch [9/80] terminée avec une perte moyenne: 6.6951\n",
      "Epoch [10/80] terminée avec une perte moyenne: 6.0292\n",
      "Epoch [11/80] terminée avec une perte moyenne: 6.1024\n",
      "Epoch [12/80] terminée avec une perte moyenne: 5.5988\n",
      "Epoch [13/80] terminée avec une perte moyenne: 5.3446\n",
      "Epoch [14/80] terminée avec une perte moyenne: 4.9638\n",
      "Epoch [15/80] terminée avec une perte moyenne: 4.9530\n",
      "Epoch [16/80] terminée avec une perte moyenne: 4.7583\n",
      "Epoch [17/80] terminée avec une perte moyenne: 4.4159\n",
      "Epoch [18/80] terminée avec une perte moyenne: 4.3882\n",
      "Epoch [19/80] terminée avec une perte moyenne: 4.3256\n",
      "Epoch [20/80] terminée avec une perte moyenne: 4.1166\n",
      "Epoch [21/80] terminée avec une perte moyenne: 4.1952\n",
      "Epoch [22/80] terminée avec une perte moyenne: 4.0751\n",
      "Epoch [23/80] terminée avec une perte moyenne: 3.9729\n",
      "Epoch [24/80] terminée avec une perte moyenne: 4.0094\n",
      "Epoch [25/80] terminée avec une perte moyenne: 3.9716\n",
      "Epoch [26/80] terminée avec une perte moyenne: 3.8696\n",
      "Epoch [27/80] terminée avec une perte moyenne: 3.8161\n",
      "Epoch [28/80] terminée avec une perte moyenne: 3.7147\n",
      "Epoch [29/80] terminée avec une perte moyenne: 3.6666\n",
      "Epoch [30/80] terminée avec une perte moyenne: 3.6357\n",
      "Epoch [31/80] terminée avec une perte moyenne: 3.6281\n",
      "Epoch [32/80] terminée avec une perte moyenne: 3.5666\n",
      "Epoch [33/80] terminée avec une perte moyenne: 3.5243\n",
      "Epoch [34/80] terminée avec une perte moyenne: 3.4844\n",
      "Epoch [35/80] terminée avec une perte moyenne: 3.5260\n",
      "Epoch [36/80] terminée avec une perte moyenne: 3.5207\n",
      "Epoch [37/80] terminée avec une perte moyenne: 3.4146\n",
      "Epoch [38/80] terminée avec une perte moyenne: 3.4145\n",
      "Epoch [39/80] terminée avec une perte moyenne: 3.3573\n",
      "Epoch [40/80] terminée avec une perte moyenne: 3.3550\n",
      "Epoch [41/80] terminée avec une perte moyenne: 3.3048\n",
      "Epoch [42/80] terminée avec une perte moyenne: 3.2976\n",
      "Epoch [43/80] terminée avec une perte moyenne: 3.2301\n",
      "Epoch [44/80] terminée avec une perte moyenne: 3.3133\n",
      "Epoch [45/80] terminée avec une perte moyenne: 3.2697\n",
      "Epoch [46/80] terminée avec une perte moyenne: 3.2171\n",
      "Epoch [47/80] terminée avec une perte moyenne: 3.2176\n",
      "Epoch [48/80] terminée avec une perte moyenne: 3.2164\n",
      "Epoch [49/80] terminée avec une perte moyenne: 3.2161\n",
      "Epoch [50/80] terminée avec une perte moyenne: 3.1731\n",
      "Epoch [51/80] terminée avec une perte moyenne: 3.0830\n",
      "Epoch [52/80] terminée avec une perte moyenne: 3.1791\n",
      "Epoch [53/80] terminée avec une perte moyenne: 3.1366\n",
      "Epoch [54/80] terminée avec une perte moyenne: 3.0575\n",
      "Epoch [55/80] terminée avec une perte moyenne: 3.0277\n",
      "Epoch [56/80] terminée avec une perte moyenne: 3.0395\n",
      "Epoch [57/80] terminée avec une perte moyenne: 3.0936\n",
      "Epoch [58/80] terminée avec une perte moyenne: 3.0188\n",
      "Epoch [59/80] terminée avec une perte moyenne: 3.0265\n",
      "Epoch [60/80] terminée avec une perte moyenne: 3.0115\n",
      "Epoch [61/80] terminée avec une perte moyenne: 2.9105\n",
      "Epoch [62/80] terminée avec une perte moyenne: 2.9990\n",
      "Epoch [63/80] terminée avec une perte moyenne: 2.9532\n",
      "Epoch [64/80] terminée avec une perte moyenne: 3.0026\n",
      "Epoch [65/80] terminée avec une perte moyenne: 2.8961\n",
      "Epoch [66/80] terminée avec une perte moyenne: 2.8587\n",
      "Epoch [67/80] terminée avec une perte moyenne: 2.9438\n",
      "Epoch [68/80] terminée avec une perte moyenne: 2.9316\n",
      "Epoch [69/80] terminée avec une perte moyenne: 2.8590\n",
      "Epoch [70/80] terminée avec une perte moyenne: 2.8836\n",
      "Epoch [71/80] terminée avec une perte moyenne: 2.8364\n",
      "Epoch [72/80] terminée avec une perte moyenne: 2.9012\n",
      "Epoch [73/80] terminée avec une perte moyenne: 2.8830\n",
      "Epoch [74/80] terminée avec une perte moyenne: 2.8427\n",
      "Epoch [75/80] terminée avec une perte moyenne: 2.8293\n",
      "Epoch [76/80] terminée avec une perte moyenne: 2.7813\n",
      "Epoch [77/80] terminée avec une perte moyenne: 2.7398\n",
      "Epoch [78/80] terminée avec une perte moyenne: 2.8468\n",
      "Epoch [79/80] terminée avec une perte moyenne: 2.8315\n",
      "Epoch [80/80] terminée avec une perte moyenne: 2.7319\n",
      "Finished Training\n",
      "Finished Training. Model weights saved at weights2.pth\n"
     ]
    }
   ],
   "source": [
    "# Model training\n",
    "#model \n",
    "model = MLP().to(device)\n",
    "\n",
    "#parameters\n",
    "batch_size = 1\n",
    "gamma0 = 0.01\n",
    "initial_lr = gamma0 / torch.sqrt(torch.tensor(23*23*3, dtype=torch.float32))\n",
    "criterion = nn.MSELoss()\n",
    "optimizer = optim.SGD(model.parameters(), lr=initial_lr, momentum=0.9)\n",
    "# scheduler to adjust lr (read the paper)ReLU\n",
    "scheduler = optim.lr_scheduler.LambdaLR(optimizer, lr_lambda=lambda epoch: 1/torch.sqrt(torch.tensor(epoch + 1, dtype=torch.float32)))\n",
    "\n",
    "# dataloader \n",
    "train_dataset = moleculeDataset(energies_train, data_mol_train)\n",
    "trainloader = DataLoader(train_dataset, batch_size=batch_size, shuffle=True)\n",
    "\n",
    "val_dataset = moleculeDataset(energies_val, data_mol_val)\n",
    "valloader = DataLoader(val_dataset, batch_size=batch_size, shuffle=False)\n",
    "\n",
    "# epochs\n",
    "num_epochs = 80\n",
    "train_losses = []\n",
    "val_losses = []\n",
    "\n",
    "\n",
    "for epoch in range(num_epochs): \n",
    "    model.train()\n",
    "    running_train_loss = 0.0\n",
    "    for _, data in enumerate(trainloader):\n",
    "        x = data[0].to(device)\n",
    "        energy = data[1].to(device)\n",
    "        optimizer.zero_grad()\n",
    "        outputs = model(x)\n",
    "        loss = criterion(outputs, energy)\n",
    "        loss.backward()\n",
    "        optimizer.step()\n",
    "        running_train_loss += loss.item()\n",
    "\n",
    "    model.eval()\n",
    "    running_val_loss = 0.0\n",
    "    with torch.no_grad():\n",
    "        for _, data in enumerate(valloader):\n",
    "            x = data[0].to(device)\n",
    "            energy = data[1].to(device)\n",
    "            outputs = model(x)\n",
    "            loss = criterion(outputs, energy)\n",
    "            running_val_loss += loss.item()\n",
    "\n",
    "    scheduler.step()\n",
    "\n",
    "    avg_train_loss = running_train_loss / len(trainloader)\n",
    "    avg_val_loss = running_val_loss / len(valloader)\n",
    "    train_losses.append(avg_train_loss)\n",
    "    val_losses.append(avg_val_loss)\n",
    "\n",
    "    print(f'Epoch [{epoch+1}/{num_epochs}] terminée avec une perte moyenne: {avg_train_loss:.4f}')\n",
    "print('Finished Training')\n",
    "weights_path = 'weights2.pth'\n",
    "torch.save(model.state_dict(), weights_path)\n",
    "print('Finished Training. Model weights saved at', weights_path)"
   ]
  },
  {
   "cell_type": "code",
   "execution_count": 19,
   "metadata": {},
   "outputs": [
    {
     "data": {
      "image/png": "[encoded data removed]",
      "text/plain": [
       "<Figure size 640x480 with 1 Axes>"
      ]
     },
     "metadata": {},
     "output_type": "display_data"
    }
   ],
   "source": [
    "# Training plot\n",
    "plt.plot(range(1, num_epochs+1), train_losses, label='Training Loss')\n",
    "plt.plot(range(1, num_epochs+1), val_losses, label='Validation Loss')\n",
    "plt.xlabel('Epochs')\n",
    "plt.ylabel('Loss')\n",
    "plt.title('Training and Validation Loss over Epochs')\n",
    "plt.legend()\n",
    "plt.show()"
   ]
  },
  {
   "cell_type": "markdown",
   "metadata": {},
   "source": [
    "#### Inférence sur nos données de test"
   ]
  },
  {
   "cell_type": "code",
   "execution_count": 22,
   "metadata": {},
   "outputs": [],
   "source": [
    "# Dataset for test dataloader\n",
    "class moleculeTest(Dataset):\n",
    "    def __init__(self, data_mol, transform=None):\n",
    "        self.data_mol = data_mol\n",
    "        self.transform = transform\n",
    "\n",
    "    def __len__(self):\n",
    "        return len(self.data_mol)\n",
    "\n",
    "    def __getitem__(self, idx):\n",
    "        atom = self.data_mol.iloc[idx]\n",
    "        id = int(atom[\"id\"])\n",
    "        coulomb_mat = compute_coulomb_matrix(atom)\n",
    "        random_coulomb = randomly_sorted_coulomb(coulomb_mat, sigma)\n",
    "        x = transform_coulomb_matrix(random_coulomb, theta)\n",
    "        x = torch.tensor(x, dtype=torch.float32)  \n",
    "        if self.transform:\n",
    "            x = self.transform(x)\n",
    "        return x, id"
   ]
  },
  {
   "cell_type": "code",
   "execution_count": 23,
   "metadata": {},
   "outputs": [],
   "source": [
    "# Dataloader\n",
    "test = moleculeTest(data_test_mol)\n",
    "testloader = DataLoader(test, batch_size=batch_size, shuffle=False)\n",
    "\n",
    "# Load weight\n",
    "model.load_state_dict(torch.load(weights_path))\n",
    "model.eval()\n",
    "\n",
    "predictions = []\n",
    "with torch.no_grad():\n",
    "    for _, data in enumerate(testloader):\n",
    "        x = data[0].to(device)\n",
    "        id = data[1].item()\n",
    "        outputs = model(x)\n",
    "        energy_pred = outputs.item()  \n",
    "        predictions.append({\n",
    "            'id': id,\n",
    "            'energy': energy_pred\n",
    "        })\n",
    "predictions_df = pd.DataFrame(predictions)\n",
    "predictions_df = predictions_df.sort_values(by='id').reset_index(drop=True)\n",
    "# Save to csv\n",
    "output_csv = 'predictions_coulomb.csv'\n",
    "predictions_df.to_csv(output_csv, index=False)"
   ]
  },
  {
   "cell_type": "markdown",
   "metadata": {},
   "source": [
    "## Méthode du scattering 3D"
   ]
  },
  {
   "cell_type": "markdown",
   "metadata": {},
   "source": [
    "#### Features"
   ]
  },
  {
   "cell_type": "code",
   "execution_count": 21,
   "metadata": {},
   "outputs": [],
   "source": [
    "positions = np.stack([np.stack(data_mol[col]) for col in data_mol[[\"x\", \"y\", \"z\"]].columns]).transpose((1, 2, 0))\n",
    "charges = np.stack(data_mol[\"atomic_numbers\"])"
   ]
  },
  {
   "cell_type": "code",
   "execution_count": 22,
   "metadata": {},
   "outputs": [],
   "source": [
    "mask = charges <= 2\n",
    "valence_charges = charges * mask\n",
    "\n",
    "mask = np.logical_and(charges > 2, charges <= 10)\n",
    "valence_charges += (charges - 2) * mask\n",
    "\n",
    "mask = np.logical_and(charges > 10, charges <= 18)\n",
    "valence_charges += (charges - 10) * mask\n",
    "\n",
    "overlapping_precision = 1e-1\n",
    "sigma = 2.0\n",
    "min_dist = np.inf\n",
    "n_molecules = data.shape[0]\n",
    "\n",
    "for i in range(n_molecules):\n",
    "    n_atoms = np.sum(charges[i] != 0)\n",
    "    positions_i = positions[i, :n_atoms, :]\n",
    "    min_dist = min(min_dist, pdist(positions_i).min())\n",
    "\n",
    "delta = sigma * np.sqrt(-8 * np.log(overlapping_precision))\n",
    "positions = positions * delta / min_dist\n",
    "\n",
    "M, N, O = 192, 128, 96\n",
    "\n",
    "grid = np.mgrid[-M//2:-M//2+M, -N//2:-N//2+N, -O//2:-O//2+O]\n",
    "grid = np.fft.ifftshift(grid)"
   ]
  },
  {
   "cell_type": "markdown",
   "metadata": {},
   "source": [
    "#### Modèle"
   ]
  },
  {
   "cell_type": "code",
   "execution_count": null,
   "metadata": {},
   "outputs": [],
   "source": [
    "J = 2\n",
    "L = 3\n",
    "integral_powers = [0.5, 1.0, 2.0, 3.0]\n",
    "\n",
    "scattering = HarmonicScattering3D(J=J, shape=(M, N, O),\n",
    "                                  L=L, sigma_0=sigma,\n",
    "                                  integral_powers=integral_powers)\n",
    "use_cuda = torch.cuda.is_available()\n",
    "device = torch.device(\"cuda\" if use_cuda else \"cpu\")\n",
    "scattering.to(device)\n",
    "batch_size = 8\n",
    "n_batches = int(np.ceil(n_molecules / batch_size))"
   ]
  },
  {
   "cell_type": "markdown",
   "metadata": {},
   "source": [
    "#### Features extraction"
   ]
  },
  {
   "cell_type": "code",
   "execution_count": null,
   "metadata": {},
   "outputs": [],
   "source": [
    "order_0, orders_1_and_2 = [], []\n",
    "print('Computing solid harmonic scattering coefficients of '\n",
    "      '{} molecules from the QM7 database on {}'.format(\n",
    "        n_molecules,   \"GPU\" if use_cuda else \"CPU\"))\n",
    "print('sigma: {}, L: {}, J: {}, integral powers: {}'.format(\n",
    "        sigma, L, J, integral_powers))\n",
    "\n",
    "this_time = None\n",
    "last_time = None\n",
    "for i in range(n_batches):\n",
    "    this_time = time.time()\n",
    "    if last_time is not None:\n",
    "        dt = this_time - last_time\n",
    "        print(\"Iteration {} ETA: [{:02}:{:02}:{:02}]\".format(\n",
    "                    i + 1, int(((n_batches - i - 1) * dt) // 3600),\n",
    "                    int((((n_batches - i - 1) * dt) // 60) % 60),\n",
    "                    int(((n_batches - i - 1) * dt) % 60)))\n",
    "    else:\n",
    "        print(\"Iteration {} ETA: {}\".format(i + 1, '-'))\n",
    "    last_time = this_time\n",
    "    time.sleep(1)\n",
    "\n",
    "    # Extract the current batch.\n",
    "    start = i * batch_size\n",
    "    end = min(start + batch_size, n_molecules)\n",
    "\n",
    "    pos_batch = positions[start:end]\n",
    "    full_batch = charges[start:end]\n",
    "    val_batch = valence_charges[start:end]\n",
    "\n",
    "    # Calculate the density map for the nuclear charges and transfer\n",
    "    # to PyTorch.\n",
    "    full_density_batch = generate_weighted_sum_of_gaussians(grid,\n",
    "            pos_batch, full_batch, sigma)\n",
    "    full_density_batch = torch.from_numpy(full_density_batch)\n",
    "    full_density_batch = full_density_batch.to(device).float()\n",
    "\n",
    "    # Compute zeroth-order, first-order, and second-order scattering\n",
    "    # coefficients of the nuclear charges.\n",
    "    full_order_0 = TorchBackend3D.compute_integrals(full_density_batch,\n",
    "                                     integral_powers)\n",
    "    full_scattering = scattering(full_density_batch)\n",
    "\n",
    "    # Compute the map for valence charges.\n",
    "    val_density_batch = generate_weighted_sum_of_gaussians(grid,\n",
    "            pos_batch, val_batch, sigma)\n",
    "    val_density_batch = torch.from_numpy(val_density_batch)\n",
    "    val_density_batch = val_density_batch.to(device).float()\n",
    "\n",
    "    # Compute scattering coefficients for the valence charges.\n",
    "    val_order_0 = TorchBackend3D.compute_integrals(val_density_batch,\n",
    "                                    integral_powers)\n",
    "    val_scattering = scattering(val_density_batch)\n",
    "\n",
    "    # Take the difference between nuclear and valence charges, then\n",
    "    # compute the corresponding scattering coefficients.\n",
    "    core_density_batch = full_density_batch - val_density_batch\n",
    "\n",
    "    core_order_0 = TorchBackend3D.compute_integrals(core_density_batch,\n",
    "                                     integral_powers)\n",
    "    core_scattering = scattering(core_density_batch)\n",
    "\n",
    "    # Stack the nuclear, valence, and core coefficients into arrays\n",
    "    # and append them to the output.\n",
    "    batch_order_0 = torch.stack(\n",
    "        (full_order_0, val_order_0, core_order_0), dim=-1)\n",
    "    batch_orders_1_and_2 = torch.stack(\n",
    "        (full_scattering, val_scattering, core_scattering), dim=-1)\n",
    "\n",
    "    order_0.append(batch_order_0)\n",
    "    orders_1_and_2.append(batch_orders_1_and_2)"
   ]
  },
  {
   "cell_type": "code",
   "execution_count": null,
   "metadata": {},
   "outputs": [],
   "source": [
    "order_0 = torch.cat(order_0, dim=0)\n",
    "orders_1_and_2 = torch.cat(orders_1_and_2, dim=0)\n",
    "\n",
    "order_0 = order_0.cpu().numpy()\n",
    "orders_1_and_2 = orders_1_and_2.cpu().numpy()\n",
    "\n",
    "order_0 = order_0.reshape((n_molecules, -1))\n",
    "orders_1_and_2 = orders_1_and_2.reshape((n_molecules, -1))"
   ]
  },
  {
   "cell_type": "markdown",
   "metadata": {},
   "source": [
    "#### Load le modèle"
   ]
  },
  {
   "cell_type": "code",
   "execution_count": 23,
   "metadata": {},
   "outputs": [],
   "source": [
    "# Load train\n",
    "order_0 = np.load('order0.npy')\n",
    "orders_1_and_2 = np.load('order1_2.npy')\n",
    "data = pd.read_pickle(\"dataframe.pkl\")\n",
    "merged = pd.merge(data, energies, how=\"left\", on=\"id\")"
   ]
  },
  {
   "cell_type": "code",
   "execution_count": 24,
   "metadata": {},
   "outputs": [],
   "source": [
    "scattering_coef = np.concatenate([order_0, orders_1_and_2], axis=1)"
   ]
  },
  {
   "cell_type": "code",
   "execution_count": 25,
   "metadata": {},
   "outputs": [
    {
     "data": {
      "text/plain": [
       "(4628, 300)"
      ]
     },
     "execution_count": 25,
     "metadata": {},
     "output_type": "execute_result"
    }
   ],
   "source": [
    "scattering_coef.shape"
   ]
  },
  {
   "cell_type": "code",
   "execution_count": 26,
   "metadata": {},
   "outputs": [],
   "source": [
    "n_folds = 13\n",
    "n_molecules = 4628\n",
    "P = np.random.permutation(n_molecules).reshape((n_folds, -1))\n",
    "cross_val_folds = []\n",
    "\n",
    "for i_fold in range(n_folds):\n",
    "    fold = (np.concatenate(P[np.arange(n_folds) != i_fold], axis=0),\n",
    "            P[i_fold])\n",
    "    cross_val_folds.append(fold)"
   ]
  },
  {
   "cell_type": "markdown",
   "metadata": {},
   "source": [
    "#### Entraînement"
   ]
  },
  {
   "cell_type": "code",
   "execution_count": 27,
   "metadata": {},
   "outputs": [
    {
     "name": "stderr",
     "output_type": "stream",
     "text": [
      "/home/mickael/venv/lib/python3.9/site-packages/sklearn/linear_model/_ridge.py:216: LinAlgWarning:\n",
      "\n",
      "Ill-conditioned matrix (rcond=1.68536e-08): result may not be accurate.\n",
      "\n",
      "/home/mickael/venv/lib/python3.9/site-packages/sklearn/linear_model/_ridge.py:216: LinAlgWarning:\n",
      "\n",
      "Ill-conditioned matrix (rcond=1.23446e-08): result may not be accurate.\n",
      "\n",
      "/home/mickael/venv/lib/python3.9/site-packages/sklearn/linear_model/_ridge.py:216: LinAlgWarning:\n",
      "\n",
      "Ill-conditioned matrix (rcond=2.68648e-08): result may not be accurate.\n",
      "\n",
      "/home/mickael/venv/lib/python3.9/site-packages/sklearn/linear_model/_ridge.py:216: LinAlgWarning:\n",
      "\n",
      "Ill-conditioned matrix (rcond=2.31836e-08): result may not be accurate.\n",
      "\n",
      "/home/mickael/venv/lib/python3.9/site-packages/sklearn/linear_model/_ridge.py:216: LinAlgWarning:\n",
      "\n",
      "Ill-conditioned matrix (rcond=1.72511e-08): result may not be accurate.\n",
      "\n",
      "/home/mickael/venv/lib/python3.9/site-packages/sklearn/linear_model/_ridge.py:216: LinAlgWarning:\n",
      "\n",
      "Ill-conditioned matrix (rcond=2.42193e-08): result may not be accurate.\n",
      "\n",
      "/home/mickael/venv/lib/python3.9/site-packages/sklearn/linear_model/_ridge.py:216: LinAlgWarning:\n",
      "\n",
      "Ill-conditioned matrix (rcond=2.7711e-08): result may not be accurate.\n",
      "\n",
      "/home/mickael/venv/lib/python3.9/site-packages/sklearn/linear_model/_ridge.py:216: LinAlgWarning:\n",
      "\n",
      "Ill-conditioned matrix (rcond=1.57417e-08): result may not be accurate.\n",
      "\n",
      "/home/mickael/venv/lib/python3.9/site-packages/sklearn/linear_model/_ridge.py:216: LinAlgWarning:\n",
      "\n",
      "Ill-conditioned matrix (rcond=2.42685e-08): result may not be accurate.\n",
      "\n",
      "/home/mickael/venv/lib/python3.9/site-packages/sklearn/linear_model/_ridge.py:216: LinAlgWarning:\n",
      "\n",
      "Ill-conditioned matrix (rcond=2.40153e-08): result may not be accurate.\n",
      "\n",
      "/home/mickael/venv/lib/python3.9/site-packages/sklearn/linear_model/_ridge.py:216: LinAlgWarning:\n",
      "\n",
      "Ill-conditioned matrix (rcond=1.52139e-08): result may not be accurate.\n",
      "\n",
      "/home/mickael/venv/lib/python3.9/site-packages/sklearn/linear_model/_ridge.py:216: LinAlgWarning:\n",
      "\n",
      "Ill-conditioned matrix (rcond=2e-08): result may not be accurate.\n",
      "\n",
      "/home/mickael/venv/lib/python3.9/site-packages/sklearn/linear_model/_ridge.py:216: LinAlgWarning:\n",
      "\n",
      "Ill-conditioned matrix (rcond=2.55641e-08): result may not be accurate.\n",
      "\n"
     ]
    },
    {
     "name": "stdout",
     "output_type": "stream",
     "text": [
      "Ridge regression, alpha: 0.1, MAE: 0.11000644926854734, RMSE: 0.1539376993507647\n",
      "Ridge regression, alpha: 0.01, MAE: 0.07502916241902766, RMSE: 0.11116256707458151\n",
      "Ridge regression, alpha: 0.001, MAE: 0.056911668278528275, RMSE: 0.09387242399166149\n",
      "Ridge regression, alpha: 0.0001, MAE: 0.04602225940672042, RMSE: 0.07758463442125321\n",
      "Ridge regression, alpha: 9.999999999999999e-06, MAE: 0.04054303989647841, RMSE: 0.06515161250061409\n",
      "Ridge regression, alpha: 1e-06, MAE: 0.038363892164561667, RMSE: 0.06650130532977389\n",
      "Ridge regression, alpha: 1e-07, MAE: 0.036212747096907055, RMSE: 0.07155207750531122\n",
      "Ridge regression, alpha: 1e-08, MAE: 0.035221693080567044, RMSE: 0.07789333353170613\n",
      "Ridge regression, alpha: 1e-09, MAE: 0.034735475579717914, RMSE: 0.07574682949799282\n"
     ]
    }
   ],
   "source": [
    "alphas = 10.0 ** (-np.arange(1, 10))\n",
    "MAEs = []\n",
    "RMSEs = []\n",
    "for i, alpha in enumerate(alphas):\n",
    "    scaler = preprocessing.StandardScaler()\n",
    "    ridge = linear_model.Ridge(alpha=alpha)\n",
    "    ridge.fit(X=scattering_coef, y=merged[\"energy\"])\n",
    "    regressor = pipeline.make_pipeline(scaler, ridge)\n",
    "\n",
    "    target_prediction = model_selection.cross_val_predict(regressor,\n",
    "            X=scattering_coef, y=merged['energy'], cv=cross_val_folds)\n",
    "\n",
    "    MAE = np.mean(np.abs(target_prediction - merged['energy']))\n",
    "    RMSE = np.sqrt(np.mean((target_prediction - merged['energy']) ** 2))\n",
    "\n",
    "    MAEs.append(MAE)\n",
    "    RMSEs.append(RMSE)\n",
    "    print('Ridge regression, alpha: {}, MAE: {}, RMSE: {}'.format(\n",
    "        alpha, MAE, RMSE))"
   ]
  },
  {
   "cell_type": "code",
   "execution_count": 28,
   "metadata": {},
   "outputs": [
    {
     "data": {
      "image/png": "[encoded data removed]",
      "text/plain": [
       "<Figure size 1200x400 with 2 Axes>"
      ]
     },
     "metadata": {},
     "output_type": "display_data"
    }
   ],
   "source": [
    "plt.figure(figsize=(12, 4))\n",
    "plt.subplot(1, 2, 1)\n",
    "plt.semilogx(alphas, MAEs)\n",
    "plt.xlabel(r\"$\\alpha_{reg}$\")\n",
    "plt.ylabel(\"MAE\")\n",
    "plt.title(r\"MAE en fonction de $\\alpha_{reg}$\")\n",
    "plt.grid(True)\n",
    "plt.subplot(1, 2, 2)\n",
    "plt.semilogx(alphas, RMSEs)\n",
    "plt.xlabel(r\"$\\alpha_{reg}$\")\n",
    "plt.ylabel(\"RMSE\")\n",
    "plt.title(r\"RMSE en fonction de $\\alpha_{reg}$\")\n",
    "plt.grid(True)\n",
    "plt.show()"
   ]
  },
  {
   "cell_type": "markdown",
   "metadata": {},
   "source": [
    "#### Entraînement et inférence avec ridge de paramètre $\\alpha = \\alpha_{best}$ déterminé avec les résultats précédent"
   ]
  },
  {
   "cell_type": "code",
   "execution_count": 29,
   "metadata": {},
   "outputs": [],
   "source": [
    "# Load test\n",
    "order_0 = np.load('order0_test.npy')\n",
    "orders_1_and_2 = np.load('order1_2_test.npy')\n",
    "scattering_coef_test = np.concatenate([order_0, orders_1_and_2], axis=1)\n",
    "data_test = pd.read_pickle(\"dataframe_test.pkl\")\n"
   ]
  },
  {
   "cell_type": "code",
   "execution_count": 30,
   "metadata": {},
   "outputs": [],
   "source": [
    "best_alpha = 1e-9\n",
    "\n",
    "# Train\n",
    "scaler = preprocessing.StandardScaler()\n",
    "ridge = linear_model.Ridge(alpha=best_alpha)\n",
    "regressor = pipeline.make_pipeline(scaler, ridge)\n",
    "regressor.fit(scattering_coef, merged['energy'])\n",
    "\n",
    "# Test\n",
    "test_predictions = regressor.predict(scattering_coef_test)\n",
    "predictions_df = pd.DataFrame({\n",
    "    'id': data_test['id'], \n",
    "    'energy': test_predictions\n",
    "})\n",
    "predictions_df = predictions_df.sort_values(by='id').reset_index(drop=True)\n",
    "# Save csv\n",
    "output_csv = 'predictions_scattering.csv'\n",
    "predictions_df.to_csv(output_csv, index=False)"
   ]
  }
 ],
 "metadata": {
  "kernelspec": {
   "display_name": "venv",
   "language": "python",
   "name": "venv"
  },
  "language_info": {
   "codemirror_mode": {
    "name": "ipython",
    "version": 3
   },
   "file_extension": ".py",
   "mimetype": "text/x-python",
   "name": "python",
   "nbconvert_exporter": "python",
   "pygments_lexer": "ipython3",
   "version": "3.9.12"
  }
 },
 "nbformat": 4,
 "nbformat_minor": 2
}
