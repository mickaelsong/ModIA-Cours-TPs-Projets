{
 "cells": [
  {
   "cell_type": "markdown",
   "metadata": {},
   "source": [
    "The aim of this Notebook is to compute numerically premium of contracts and risk measures of contracts in the Cramér-Lundberg model."
   ]
  },
  {
   "cell_type": "code",
   "execution_count": 1,
   "metadata": {},
   "outputs": [],
   "source": [
    "import os\n",
    "import numpy as np\n",
    "import scipy as scp\n",
    "import pylab\n",
    "import math\n",
    "import matplotlib.pyplot as plt\n",
    "%matplotlib inline\n",
    "import numpy.random as rd\n",
    "import scipy.stats as st\n",
    "from scipy.stats import halfnorm\n",
    "l=2     #Parameter lambda of the Poisson process\n",
    "T=365   #Maturity of the contract"
   ]
  },
  {
   "cell_type": "markdown",
   "metadata": {},
   "source": [
    "# Part 1 : The Poisson process"
   ]
  },
  {
   "cell_type": "code",
   "execution_count": 4,
   "metadata": {},
   "outputs": [],
   "source": [
    "def Jump_Times_Poisson(lam,Te):\n",
    "    # Write down a function that returns the jumps of a Poisson process with intensity lam on [0,Te]\n",
    "    # 0 Should be an element of array tau even though 0 is not strictly speaking a jump time of N\n",
    "    Ne = np.random.poisson(lam*Te)\n",
    "    tau = np.sort(np.random.uniform(0,Te,Ne))\n",
    "    if tau[0] != 0:\n",
    "        tau = np.insert(tau, 0, 0)\n",
    "    return tau"
   ]
  },
  {
   "cell_type": "code",
   "execution_count": 5,
   "metadata": {},
   "outputs": [],
   "source": [
    "def plot_Poisson(lam,Te):\n",
    "    tau=Jump_Times_Poisson(lam,Te)\n",
    "    N=[0]\n",
    "    for i in range(1,len(tau)):\n",
    "        N.append(i)\n",
    "    plt.step(tau,N,where='post')\n",
    "    plt.plot(tau,N, 'C0o', alpha=0.5)"
   ]
  },
  {
   "cell_type": "code",
   "execution_count": 6,
   "metadata": {},
   "outputs": [
    {
     "data": {
      "image/png": "[encoded data removed]",
      "text/plain": [
       "<Figure size 432x288 with 1 Axes>"
      ]
     },
     "metadata": {
      "needs_background": "light"
     },
     "output_type": "display_data"
    }
   ],
   "source": [
    "plot_Poisson(l,10)"
   ]
  },
  {
   "cell_type": "markdown",
   "metadata": {},
   "source": [
    "We compute using the Monte-Carlo algorithm the quantity $\\mathbb{E}[N_T]$"
   ]
  },
  {
   "cell_type": "code",
   "execution_count": 7,
   "metadata": {},
   "outputs": [],
   "source": [
    "def ExpPoisson(lam,Te):\n",
    "    M=3000\n",
    "    e=0\n",
    "    for i in range(0,M):\n",
    "        e=e+len(Jump_Times_Poisson(lam,Te))-1\n",
    "    e=e/M\n",
    "    return e"
   ]
  },
  {
   "cell_type": "code",
   "execution_count": 8,
   "metadata": {},
   "outputs": [
    {
     "name": "stdout",
     "output_type": "stream",
     "text": [
      "Error= 0.12233333333333363\n"
     ]
    }
   ],
   "source": [
    "print('Error=',ExpPoisson(2,10)-2*10)"
   ]
  },
  {
   "cell_type": "markdown",
   "metadata": {},
   "source": [
    "# Part II : Simulation and study of the claims"
   ]
  },
  {
   "cell_type": "markdown",
   "metadata": {},
   "source": [
    "## 1) Small claims case"
   ]
  },
  {
   "cell_type": "markdown",
   "metadata": {},
   "source": [
    "Half normal distribution"
   ]
  },
  {
   "cell_type": "code",
   "execution_count": 9,
   "metadata": {},
   "outputs": [
    {
     "data": {
      "image/png": "[encoded data removed]",
      "text/plain": [
       "<Figure size 432x288 with 1 Axes>"
      ]
     },
     "metadata": {
      "needs_background": "light"
     },
     "output_type": "display_data"
    }
   ],
   "source": [
    "m=0\n",
    "sig2=1\n",
    "N=100000\n",
    "G=st.halfnorm.rvs(m,np.sqrt(sig2),N)\n",
    "\n",
    "n=10\n",
    "pb=[]\n",
    "c=[]\n",
    "mi=0\n",
    "ma=mi+5*sig2\n",
    "\n",
    "for k in range(0,2*(n+1)):\n",
    "    tk=mi+k*(ma-mi)/(2*n+1)\n",
    "    c.append(tk)\n",
    "    pb.append((np.sqrt(2)/np.sqrt(sig2*math.pi))*np.exp(-(tk)**2/(2*sig2)))    \n",
    "fig=plt.figure()\n",
    "ax = fig.add_subplot(1,1,1)\n",
    "ax.hist(G, bins=c, density=True, edgecolor='k')\n",
    "ax.plot(c,pb, '-')\n",
    "plt.show()"
   ]
  },
  {
   "cell_type": "markdown",
   "metadata": {},
   "source": [
    "Lognormal distribution"
   ]
  },
  {
   "cell_type": "code",
   "execution_count": 10,
   "metadata": {},
   "outputs": [
    {
     "name": "stderr",
     "output_type": "stream",
     "text": [
      "/tmp/ipykernel_4423/3212836077.py:15: RuntimeWarning: divide by zero encountered in scalar divide\n",
      "  pb.append( (1/(tk*np.sqrt(2*math.pi*sig2)))*np.exp(-((np.log(tk-m))**2)/(2*sig2)))\n",
      "/tmp/ipykernel_4423/3212836077.py:15: RuntimeWarning: divide by zero encountered in log\n",
      "  pb.append( (1/(tk*np.sqrt(2*math.pi*sig2)))*np.exp(-((np.log(tk-m))**2)/(2*sig2)))\n",
      "/tmp/ipykernel_4423/3212836077.py:15: RuntimeWarning: invalid value encountered in scalar multiply\n",
      "  pb.append( (1/(tk*np.sqrt(2*math.pi*sig2)))*np.exp(-((np.log(tk-m))**2)/(2*sig2)))\n"
     ]
    },
    {
     "data": {
      "image/png": "[encoded data removed]",
      "text/plain": [
       "<Figure size 432x288 with 1 Axes>"
      ]
     },
     "metadata": {
      "needs_background": "light"
     },
     "output_type": "display_data"
    }
   ],
   "source": [
    "m=0\n",
    "sig2=1\n",
    "N=100000\n",
    "G=np.random.lognormal(m,np.sqrt(sig2),N)\n",
    "\n",
    "n=10\n",
    "pb=[]\n",
    "c=[]\n",
    "mi=0\n",
    "ma=mi+5*sig2\n",
    "\n",
    "for k in range(0,2*(n+1)):\n",
    "    tk=mi+k*(ma-mi)/(2*n+1)\n",
    "    c.append(tk)\n",
    "    pb.append( (1/(tk*np.sqrt(2*math.pi*sig2)))*np.exp(-((np.log(tk-m))**2)/(2*sig2)))\n",
    "    \n",
    "fig=plt.figure()\n",
    "ax = fig.add_subplot(1,1,1)\n",
    "ax.hist(G, bins=c, density=True, edgecolor='k')\n",
    "ax.plot(c,pb, '-')\n",
    "plt.show()"
   ]
  },
  {
   "cell_type": "markdown",
   "metadata": {},
   "source": [
    "A Discrete Random variables taking two values"
   ]
  },
  {
   "cell_type": "code",
   "execution_count": 11,
   "metadata": {},
   "outputs": [],
   "source": [
    "m=0\n",
    "sig2=1\n",
    "N=100000\n",
    "#G= complete here \n"
   ]
  },
  {
   "cell_type": "markdown",
   "metadata": {},
   "source": [
    "## 2) Large claims case"
   ]
  },
  {
   "cell_type": "markdown",
   "metadata": {},
   "source": [
    "Weibull distribution"
   ]
  },
  {
   "cell_type": "code",
   "execution_count": null,
   "metadata": {},
   "outputs": [],
   "source": [
    "m=0\n",
    "sig2=1\n",
    "N=100000\n",
    "#G= Complete here \n",
    "\n",
    "n=10\n",
    "pb=[]\n",
    "c=[]\n",
    "mi=0\n",
    "ma=mi+5*sig2\n",
    "\n",
    "for k in range(0,2*(n+1)):\n",
    "    tk=mi+k*(ma-mi)/(2*n+1)\n",
    "    c.append(tk)\n",
    "  #  pb.append( Complete here )\n",
    "    \n",
    "fig=plt.figure()\n",
    "ax = fig.add_subplot(1,1,1)\n",
    "ax.hist(G, bins=c, density=True, edgecolor='k')\n",
    "ax.plot(c,pb, '-')\n",
    "plt.show()"
   ]
  },
  {
   "cell_type": "markdown",
   "metadata": {},
   "source": [
    "Pareto distribution"
   ]
  },
  {
   "cell_type": "code",
   "execution_count": null,
   "metadata": {},
   "outputs": [],
   "source": [
    "m=0\n",
    "sig2=1\n",
    "N=100000\n",
    "#G= Complete here \n",
    "\n",
    "n=10\n",
    "pb=[]\n",
    "c=[]\n",
    "mi=0\n",
    "ma=mi+5*sig2\n",
    "\n",
    "for k in range(0,2*(n+1)):\n",
    "    tk=mi+k*(ma-mi)/(2*n+1)\n",
    "    c.append(tk)\n",
    "  #  pb.append( Complete here )\n",
    "    \n",
    "fig=plt.figure()\n",
    "ax = fig.add_subplot(1,1,1)\n",
    "ax.hist(G, bins=c, density=True, edgecolor='k')\n",
    "ax.plot(c,pb, '-')\n",
    "plt.show()"
   ]
  },
  {
   "cell_type": "markdown",
   "metadata": {},
   "source": [
    "# Part III : Simulation of the risk process"
   ]
  },
  {
   "cell_type": "markdown",
   "metadata": {},
   "source": [
    "## 1) Simulation "
   ]
  },
  {
   "cell_type": "markdown",
   "metadata": {},
   "source": [
    "#### A plot function"
   ]
  },
  {
   "cell_type": "code",
   "execution_count": null,
   "metadata": {},
   "outputs": [],
   "source": [
    "# A plot function (p is a two dimensional array of points on a grid and their value)\n",
    "def plot_Process(p):\n",
    "        \n",
    "    tk=[i[0] for i in p] # We recover the times\n",
    "    vk=[i[1] for i in p] # We recover the values of R\n",
    "    \n",
    "    v0=[0 for i in p]\n",
    "    Ok=[tk,v0]\n",
    " \n",
    "    plt.plot(tk,vk)\n",
    "    plt.plot(tk,v0)\n",
    "    plt.show()"
   ]
  },
  {
   "cell_type": "markdown",
   "metadata": {},
   "source": [
    "#### Simulation of the claims"
   ]
  },
  {
   "cell_type": "code",
   "execution_count": null,
   "metadata": {},
   "outputs": [],
   "source": [
    "Np =100 # N is the number of points on [0,T]"
   ]
  },
  {
   "cell_type": "code",
   "execution_count": null,
   "metadata": {},
   "outputs": [],
   "source": [
    "def claim(p,N):\n",
    "    # N is the number of claims\n",
    "    # p = 0 : Log normal\n",
    "    # p = 1 : Bernouilli\n",
    "    # p = 2 : Weibull\n",
    "    # p= 3 : Pareto\n",
    "    \n",
    "    # Complete below\n",
    "    \n",
    "    if p==0:\n",
    "        return np.random.lognormal(0,1,N)\n",
    "    elif p==1:\n",
    "        return 1"
   ]
  },
  {
   "cell_type": "markdown",
   "metadata": {},
   "source": [
    "#### Simulation of the value $N_t$ given the jump times J (as simulated in \"Jump_Times_Poisson\")"
   ]
  },
  {
   "cell_type": "code",
   "execution_count": null,
   "metadata": {},
   "outputs": [],
   "source": [
    "def N(t,Te,J):\n",
    "    K=[]\n",
    "    n=len(J)\n",
    "    for j in range(0,n):\n",
    "        K.append(J[j])\n",
    "    if t==Te:\n",
    "        return n-1\n",
    "    K.append(Te)\n",
    "    for i in range(0,n):\n",
    "        if t >=K[i] and t <K[i+1]:\n",
    "            return i"
   ]
  },
  {
   "cell_type": "markdown",
   "metadata": {},
   "source": [
    "#### Simulation of the S process (given the jump times J and the claims C)"
   ]
  },
  {
   "cell_type": "code",
   "execution_count": null,
   "metadata": {},
   "outputs": [],
   "source": [
    "def S(t,Te,J,C):\n",
    "    K=[]\n",
    "    D=[]\n",
    "    n=len(J)\n",
    "    \n",
    "    for j in range(0,n):\n",
    "        K.append(J[j])\n",
    "        D.append(C[j])\n",
    "    \n",
    "    n=N(t,Te,K)\n",
    "    r=0\n",
    "    for i in range(0,n+1):\n",
    "        r=r+D[i]\n",
    "    return r"
   ]
  },
  {
   "cell_type": "markdown",
   "metadata": {},
   "source": [
    "#### Simulation of the Risk process (returns the discretization of the path)"
   ]
  },
  {
   "cell_type": "code",
   "execution_count": null,
   "metadata": {},
   "outputs": [],
   "source": [
    "def Rprocess(u,c,p,Te,lam):\n",
    "    \n",
    "    #Discretization grid without the jump times\n",
    "    tk=[]\n",
    "    for i in range(0,Np+1):\n",
    "        tk.append(i*Te/Np)\n",
    "    \n",
    "    J=Jump_Times_Poisson(lam,Te) # We generate the jump times of the Poisson process\n",
    "    \n",
    "    temp=claim(p,len(J))\n",
    "    C=[0]\n",
    "    for k in range(0,len(J)):\n",
    "        C.append(temp[k])\n",
    "    \n",
    "    for t in J:\n",
    "        if t!=0:\n",
    "            tk.append(t)\n",
    "    \n",
    "    tk.sort()\n",
    "    \n",
    "    pk=[]\n",
    "    \n",
    "    K=[]\n",
    "    for t in J:\n",
    "        K.append(t)\n",
    "        \n",
    "    L=[]\n",
    "    for f in C:\n",
    "        L.append(f)\n",
    "    \n",
    "    for t in tk:\n",
    "        pk.append([t,u+c*t-S(t,Te,K,L)])\n",
    "        \n",
    "    return(pk)"
   ]
  },
  {
   "cell_type": "code",
   "execution_count": null,
   "metadata": {},
   "outputs": [],
   "source": [
    "def Ruin(u,c,p,Te,lam):\n",
    "    pk=Rprocess(u,c,p,Te,lam)\n",
    "    tk=[i[0] for i in pk] # We recover the times\n",
    "    \n",
    "    plot_Process(pk)\n",
    "    \n",
    "    t=0 # Ruin time (if 0 then no ruin, else is the ruin time)\n",
    "    \n",
    "    for p in pk:\n",
    "        if p[1]<0:\n",
    "            t=p[0]\n",
    "            return t\n",
    "    return t"
   ]
  },
  {
   "cell_type": "code",
   "execution_count": null,
   "metadata": {},
   "outputs": [],
   "source": [
    "t=Ruin(10,2,0,10,2)\n",
    "if t==0:\n",
    "    print('No ruin')\n",
    "else:\n",
    "    print('The ruin time is : ',t)"
   ]
  },
  {
   "cell_type": "markdown",
   "metadata": {},
   "source": [
    "## 2) Cramér-Lundberg coefficient and ruin analysis"
   ]
  },
  {
   "cell_type": "markdown",
   "metadata": {},
   "source": [
    "#### The small claims case"
   ]
  },
  {
   "cell_type": "markdown",
   "metadata": {},
   "source": [
    "Study the condition studied during the lectures for insuring no ruin"
   ]
  },
  {
   "cell_type": "markdown",
   "metadata": {},
   "source": [
    "#### The large claims case"
   ]
  },
  {
   "cell_type": "markdown",
   "metadata": {},
   "source": [
    "Study the condition studied during the lectures for insuring no ruin"
   ]
  },
  {
   "cell_type": "markdown",
   "metadata": {},
   "source": [
    "# Part IV : Risk measures"
   ]
  },
  {
   "cell_type": "markdown",
   "metadata": {},
   "source": [
    "## 1) V@R"
   ]
  },
  {
   "cell_type": "markdown",
   "metadata": {},
   "source": [
    "Write a function that computes the V@R of a Risk process"
   ]
  },
  {
   "cell_type": "markdown",
   "metadata": {},
   "source": [
    "## 2) Beyond V@R"
   ]
  },
  {
   "cell_type": "markdown",
   "metadata": {},
   "source": [
    "According to the lecture study other risk measures and compare them with V@R"
   ]
  }
 ],
 "metadata": {
  "kernelspec": {
   "display_name": "Python 3 (ipykernel)",
   "language": "python",
   "name": "python3"
  },
  "language_info": {
   "codemirror_mode": {
    "name": "ipython",
    "version": 3
   },
   "file_extension": ".py",
   "mimetype": "text/x-python",
   "name": "python",
   "nbconvert_exporter": "python",
   "pygments_lexer": "ipython3",
   "version": "3.10.12"
  }
 },
 "nbformat": 4,
 "nbformat_minor": 1
}
