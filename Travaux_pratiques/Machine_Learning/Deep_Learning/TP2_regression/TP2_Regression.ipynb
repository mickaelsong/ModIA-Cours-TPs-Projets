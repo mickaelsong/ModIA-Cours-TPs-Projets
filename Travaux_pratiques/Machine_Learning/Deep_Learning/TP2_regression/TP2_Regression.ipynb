{
 "cells": [
  {
   "cell_type": "markdown",
   "metadata": {
    "id": "FRcVJdNiFJ6Y"
   },
   "source": [
    "# Prédiction des prix de l'immobilier à Boston dans les années 1970"
   ]
  },
  {
   "cell_type": "markdown",
   "metadata": {
    "id": "UJX3eu1lFSLZ"
   },
   "source": [
    "La prédiction du prix de maisons bostoniennes des années 1970, dont les données sont issues de la base *Boston House Prices*, créée par D. Harrison et D.L. Rubinfeld à l'Université de Californie à Irvine (http://archive.ics.uci.edu/ml/machine-learning-databases/housing/), est un problème classique d'apprentissage supervisé.\n",
    "\n",
    "<img src=\"https://1.bp.blogspot.com/-sCZIatDf9LQ/XGm-lEHXnAI/AAAAAAAAPxQ/kv8S8fdgudAwWTFuJhuAoiykLmWLCoOtgCLcBGAs/s1600/197010xx-GovernmentCenter-Boston_resize.JPG\" width=600 />\n",
    "\n",
    "Plus précisément, le label à prédire dans cette base de données est le prix médian par quartier de l'immobilier (en milliers de dollars). Il s'agit donc d'un problème de régression puisque l'on veut inférer des valeurs continues. Pour ce faire, on dispose de 13 entrées offrant les informations suivantes :\n",
    "\n",
    "- CRIM - per capita crime rate by town\n",
    "- ZN - proportion of residential land zoned for lots over 25,000 sq.ft.\n",
    "- INDUS - proportion of non-retail business acres per town.\n",
    "- CHAS - Charles River dummy variable (1 if tract bounds river; 0 otherwise)\n",
    "- NOX - nitric oxides concentration (parts per 10 million)\n",
    "- RM - average number of rooms per dwelling\n",
    "- AGE - proportion of owner-occupied units built prior to 1940\n",
    "- DIS - weighted distances to five Boston employment centres\n",
    "- TAX - full-value property-tax rate per \\$10,000\n",
    "- RAD - index of accessibility to radial highways\n",
    "- PTRATIO - pupil-teacher ratio by town\n",
    "- B $ = 1000(B_k - 0.63)^2$ where $B_k$ is the proportion of blacks by town\n",
    "- LSTAT - percentage lower status of the population\n",
    "\n",
    "L'objectif de ce TP est d'arriver à prédire au plus près les valeurs médianes de prix de maison par quartier.\n"
   ]
  },
  {
   "cell_type": "markdown",
   "metadata": {
    "id": "sSHfSdv8oxX-"
   },
   "source": [
    "![Texte alternatif…](https://miro.medium.com/max/763/1*i9vZk7NkS1dZz6JEcbV5nA.png)"
   ]
  },
  {
   "cell_type": "code",
   "execution_count": 63,
   "metadata": {
    "id": "hy3k4aRnGl0r"
   },
   "outputs": [],
   "source": [
    "from __future__ import print_function\n",
    "import numpy as np\n",
    "from matplotlib import pyplot as plt\n",
    "from keras import optimizers\n",
    "from keras.models import Sequential\n",
    "from keras.layers import Dense, Activation, Dropout\n",
    "from keras import regularizers\n",
    "\n",
    "%matplotlib inline"
   ]
  },
  {
   "cell_type": "markdown",
   "metadata": {
    "id": "D-j9idOyYyl-"
   },
   "source": [
    "##### _**Exercice** : Définir une fonction d'affichage `plot_loss` qui permet d'afficher erreur d'entraînement et de validation._\n",
    "\n",
    "On pourra tracer les courbes associées aux erreurs d'entraînement/de validation par epoch. "
   ]
  },
  {
   "cell_type": "code",
   "execution_count": 3,
   "metadata": {
    "id": "EEWkxUsqPua5"
   },
   "outputs": [],
   "source": [
    "def plot_loss(val_loss, train_loss, ymax=100):\n",
    "    plt.plot(val_loss, color='green', label='Erreur de validation')\n",
    "    plt.plot(train_loss, color='blue', linestyle='--', label='Erreur d\\'entraînement')\n",
    "    plt.xlabel('Epochs')\n",
    "    plt.ylim(0, ymax)\n",
    "    plt.title('Évolution de la perte sur les ensembles d\\'apprentissage et de validation au cours de l\\'apprentissage')\n",
    "    plt.legend()"
   ]
  },
  {
   "cell_type": "code",
   "execution_count": null,
   "metadata": {},
   "outputs": [],
   "source": [
    "# %load solutions/plot_loss.py"
   ]
  },
  {
   "cell_type": "markdown",
   "metadata": {
    "id": "y4HMTOhJRh9o"
   },
   "source": [
    "## Préparation des données"
   ]
  },
  {
   "cell_type": "markdown",
   "metadata": {
    "id": "D85ZzbYDY5Xs"
   },
   "source": [
    "On commence par charger les données d'entraînement et de test."
   ]
  },
  {
   "cell_type": "code",
   "execution_count": 4,
   "metadata": {},
   "outputs": [],
   "source": [
    "from tensorflow.keras.datasets import boston_housing\n",
    "from sklearn.model_selection import train_test_split"
   ]
  },
  {
   "cell_type": "code",
   "execution_count": 5,
   "metadata": {
    "colab": {
     "base_uri": "https://localhost:8080/"
    },
    "id": "gh8vgUo3859i",
    "outputId": "7199a7ce-9479-4bf9-a4f9-f1883becd77d"
   },
   "outputs": [
    {
     "name": "stdout",
     "output_type": "stream",
     "text": [
      "Downloading data from https://storage.googleapis.com/tensorflow/tf-keras-datasets/boston_housing.npz\n",
      "57026/57026 [==============================] - 0s 0us/step\n"
     ]
    }
   ],
   "source": [
    "(x_train, y_train), (x_test, y_test) = boston_housing.load_data()"
   ]
  },
  {
   "cell_type": "markdown",
   "metadata": {
    "id": "jJZfgaVwMGk9"
   },
   "source": [
    "## Approche simple à corriger\n",
    "\n",
    "Nous allons commencer par créer un perceptron multicouche élementaire."
   ]
  },
  {
   "cell_type": "markdown",
   "metadata": {
    "id": "p1AKFeUnML3b"
   },
   "source": [
    "### Création du modèle\n",
    "\n",
    "La fonction `Sequential` permet d'instancier un réseau de neuronnes, la fonction `add` permet d'ajouter une couche au réseau, enfin la fonction `Dense` correspond à un perceptron (monocouche)."
   ]
  },
  {
   "cell_type": "code",
   "execution_count": 13,
   "metadata": {
    "id": "nQwBDvUq9VVn"
   },
   "outputs": [],
   "source": [
    "model = Sequential()\n",
    "model.add(Dense(4, activation='relu', input_dim=13))\n",
    "model.add(Dense(1, activation='sigmoid'))"
   ]
  },
  {
   "cell_type": "markdown",
   "metadata": {
    "id": "ng3YnvV3RqVZ"
   },
   "source": [
    "### Entrainement du réseau\n",
    "\n",
    "La fonction `compile` permet de passer les arguments nécessaires à l'entraînement du réseau. `history` stocke les calculs de la loss pour chacune des epochs."
   ]
  },
  {
   "cell_type": "code",
   "execution_count": 14,
   "metadata": {
    "id": "DtON8JXE9gj-",
    "outputId": "dd993ad2-06f0-43ff-b26e-ee719b7d101e",
    "scrolled": true,
    "tags": []
   },
   "outputs": [
    {
     "name": "stderr",
     "output_type": "stream",
     "text": [
      "WARNING:absl:`lr` is deprecated in Keras optimizer, please use `learning_rate` or use the legacy optimizer, e.g.,tf.keras.optimizers.legacy.SGD.\n"
     ]
    },
    {
     "name": "stdout",
     "output_type": "stream",
     "text": [
      "Epoch 1/50\n",
      "13/13 [==============================] - 0s 1ms/step - loss: 542.3705 - mae: 21.3951\n",
      "Epoch 2/50\n",
      "13/13 [==============================] - 0s 1ms/step - loss: 542.3705 - mae: 21.3951\n",
      "Epoch 3/50\n",
      "13/13 [==============================] - 0s 1ms/step - loss: 542.3704 - mae: 21.3950\n",
      "Epoch 4/50\n",
      "13/13 [==============================] - 0s 1ms/step - loss: 542.3704 - mae: 21.3950\n",
      "Epoch 5/50\n",
      "13/13 [==============================] - 0s 1ms/step - loss: 542.3704 - mae: 21.3950\n",
      "Epoch 6/50\n",
      "13/13 [==============================] - 0s 1ms/step - loss: 542.3704 - mae: 21.3950\n",
      "Epoch 7/50\n",
      "13/13 [==============================] - 0s 1ms/step - loss: 542.3704 - mae: 21.3951\n",
      "Epoch 8/50\n",
      "13/13 [==============================] - 0s 1ms/step - loss: 542.3704 - mae: 21.3951\n",
      "Epoch 9/50\n",
      "13/13 [==============================] - 0s 1ms/step - loss: 542.3704 - mae: 21.3951\n",
      "Epoch 10/50\n",
      "13/13 [==============================] - 0s 1ms/step - loss: 542.3704 - mae: 21.3950\n",
      "Epoch 11/50\n",
      "13/13 [==============================] - 0s 1ms/step - loss: 542.3704 - mae: 21.3951\n",
      "Epoch 12/50\n",
      "13/13 [==============================] - 0s 1ms/step - loss: 542.3704 - mae: 21.3951\n",
      "Epoch 13/50\n",
      "13/13 [==============================] - 0s 923us/step - loss: 542.3704 - mae: 21.3951\n",
      "Epoch 14/50\n",
      "13/13 [==============================] - 0s 1ms/step - loss: 542.3704 - mae: 21.3950\n",
      "Epoch 15/50\n",
      "13/13 [==============================] - 0s 1ms/step - loss: 542.3704 - mae: 21.3950\n",
      "Epoch 16/50\n",
      "13/13 [==============================] - 0s 1ms/step - loss: 542.3705 - mae: 21.3950\n",
      "Epoch 17/50\n",
      "13/13 [==============================] - 0s 1ms/step - loss: 542.3704 - mae: 21.3950\n",
      "Epoch 18/50\n",
      "13/13 [==============================] - 0s 1ms/step - loss: 542.3704 - mae: 21.3950\n",
      "Epoch 19/50\n",
      "13/13 [==============================] - 0s 964us/step - loss: 542.3704 - mae: 21.3951\n",
      "Epoch 20/50\n",
      "13/13 [==============================] - 0s 1ms/step - loss: 542.3704 - mae: 21.3951\n",
      "Epoch 21/50\n",
      "13/13 [==============================] - 0s 1ms/step - loss: 542.3704 - mae: 21.3951\n",
      "Epoch 22/50\n",
      "13/13 [==============================] - 0s 967us/step - loss: 542.3704 - mae: 21.3951\n",
      "Epoch 23/50\n",
      "13/13 [==============================] - 0s 944us/step - loss: 542.3704 - mae: 21.3951\n",
      "Epoch 24/50\n",
      "13/13 [==============================] - 0s 1ms/step - loss: 542.3704 - mae: 21.3951\n",
      "Epoch 25/50\n",
      "13/13 [==============================] - 0s 1ms/step - loss: 542.3704 - mae: 21.3950\n",
      "Epoch 26/50\n",
      "13/13 [==============================] - 0s 1ms/step - loss: 542.3704 - mae: 21.3950\n",
      "Epoch 27/50\n",
      "13/13 [==============================] - 0s 1ms/step - loss: 542.3704 - mae: 21.3950\n",
      "Epoch 28/50\n",
      "13/13 [==============================] - 0s 1ms/step - loss: 542.3704 - mae: 21.3950\n",
      "Epoch 29/50\n",
      "13/13 [==============================] - 0s 1ms/step - loss: 542.3704 - mae: 21.3950\n",
      "Epoch 30/50\n",
      "13/13 [==============================] - 0s 1ms/step - loss: 542.3704 - mae: 21.3951\n",
      "Epoch 31/50\n",
      "13/13 [==============================] - 0s 1ms/step - loss: 542.3704 - mae: 21.3951\n",
      "Epoch 32/50\n",
      "13/13 [==============================] - 0s 1ms/step - loss: 542.3704 - mae: 21.3950\n",
      "Epoch 33/50\n",
      "13/13 [==============================] - 0s 1ms/step - loss: 542.3704 - mae: 21.3950\n",
      "Epoch 34/50\n",
      "13/13 [==============================] - 0s 974us/step - loss: 542.3704 - mae: 21.3950\n",
      "Epoch 35/50\n",
      "13/13 [==============================] - 0s 1ms/step - loss: 542.3704 - mae: 21.3951\n",
      "Epoch 36/50\n",
      "13/13 [==============================] - 0s 1ms/step - loss: 542.3704 - mae: 21.3951\n",
      "Epoch 37/50\n",
      "13/13 [==============================] - 0s 1ms/step - loss: 542.3704 - mae: 21.3950\n",
      "Epoch 38/50\n",
      "13/13 [==============================] - 0s 981us/step - loss: 542.3704 - mae: 21.3951\n",
      "Epoch 39/50\n",
      "13/13 [==============================] - 0s 1ms/step - loss: 542.3704 - mae: 21.3951\n",
      "Epoch 40/50\n",
      "13/13 [==============================] - 0s 1ms/step - loss: 542.3704 - mae: 21.3951\n",
      "Epoch 41/50\n",
      "13/13 [==============================] - 0s 1ms/step - loss: 542.3704 - mae: 21.3951\n",
      "Epoch 42/50\n",
      "13/13 [==============================] - 0s 1ms/step - loss: 542.3704 - mae: 21.3950\n",
      "Epoch 43/50\n",
      "13/13 [==============================] - 0s 1ms/step - loss: 542.3704 - mae: 21.3951\n",
      "Epoch 44/50\n",
      "13/13 [==============================] - 0s 989us/step - loss: 542.3704 - mae: 21.3950\n",
      "Epoch 45/50\n",
      "13/13 [==============================] - 0s 1ms/step - loss: 542.3704 - mae: 21.3950\n",
      "Epoch 46/50\n",
      "13/13 [==============================] - 0s 1ms/step - loss: 542.3704 - mae: 21.3950\n",
      "Epoch 47/50\n",
      "13/13 [==============================] - 0s 1ms/step - loss: 542.3704 - mae: 21.3950\n",
      "Epoch 48/50\n",
      "13/13 [==============================] - 0s 964us/step - loss: 542.3704 - mae: 21.3951\n",
      "Epoch 49/50\n",
      "13/13 [==============================] - 0s 932us/step - loss: 542.3704 - mae: 21.3951\n",
      "Epoch 50/50\n",
      "13/13 [==============================] - 0s 985us/step - loss: 542.3704 - mae: 21.3951\n"
     ]
    }
   ],
   "source": [
    "optim = optimizers.SGD(lr = 0.01)\n",
    "model.compile(optimizer=optim, loss='mse', metrics=['mae'])\n",
    "\n",
    "history = model.fit(x_train, y_train, epochs=50, batch_size=32)"
   ]
  },
  {
   "cell_type": "markdown",
   "metadata": {
    "id": "WTyU-K5jR1KA"
   },
   "source": [
    "### Evaluation du modèle"
   ]
  },
  {
   "cell_type": "code",
   "execution_count": 15,
   "metadata": {
    "id": "LZdF2ihZPYnS",
    "outputId": "aff45989-e15e-4250-8f18-735c7e13d705"
   },
   "outputs": [
    {
     "data": {
      "image/png": "[encoded data removed]",
      "text/plain": [
       "<Figure size 432x288 with 1 Axes>"
      ]
     },
     "metadata": {
      "needs_background": "light"
     },
     "output_type": "display_data"
    }
   ],
   "source": [
    "train_loss=(history.history['loss'])\n",
    "plot_loss([], train_loss, ymax=800)"
   ]
  },
  {
   "cell_type": "code",
   "execution_count": 16,
   "metadata": {},
   "outputs": [
    {
     "name": "stdout",
     "output_type": "stream",
     "text": [
      "4/4 [==============================] - 0s 2ms/step - loss: 570.7011 - mae: 22.0784\n"
     ]
    },
    {
     "data": {
      "text/plain": [
       "[570.7011108398438, 22.078433990478516]"
      ]
     },
     "execution_count": 16,
     "metadata": {},
     "output_type": "execute_result"
    }
   ],
   "source": [
    " model.evaluate(x_test, y_test)"
   ]
  },
  {
   "cell_type": "markdown",
   "metadata": {
    "id": "lgbYzKDGYoaa"
   },
   "source": [
    "On obtient une mae d'environ 22, ce qui signie que l'on est éloigné en moyenne de 22000$ de la vérité terrain."
   ]
  },
  {
   "cell_type": "markdown",
   "metadata": {},
   "source": [
    "## Travail à faire\n",
    "\n",
    "L'approche présentée ci-dessus apporte des résultats décevants, en raison de  quelques maladresses, voire erreurs. Dans un premier temps, vous devez **trouver et corriger ces problèmes**.\n",
    "\n",
    "Dans un second temps, cherchez à améliorer les performances du modèle. Vous pouvez atteindre sans trop de difficulté un score de MAE inférieur à 3 sur l'ensemble de test. A chaque nouveau test, vous devez évaluer si votre réseau est en sous-apprentissage, ou en sur-apprentissage, et en déduire des modifications possibles pour en améliorer les performances.\n",
    "\n",
    "MAE de test à battre si vous aimez les défis : **2.20** !"
   ]
  },
  {
   "cell_type": "markdown",
   "metadata": {},
   "source": [
    "### Correction du modèle précédent\n",
    "\n",
    "Vous penserez à évaluer votre modèle à l'aide de la fonction `plot_loss` définie précédement et de la fonction `evaluate`."
   ]
  },
  {
   "cell_type": "code",
   "execution_count": 22,
   "metadata": {
    "id": "UV94lSK2oxYI",
    "outputId": "d71e5ebb-dafb-4e9f-cfe4-d5100e8d9e70",
    "scrolled": true,
    "tags": []
   },
   "outputs": [
    {
     "name": "stdout",
     "output_type": "stream",
     "text": [
      "Epoch 1/50\n",
      "13/13 [==============================] - 0s 1ms/step - loss: 998.2704 - mae: 25.3035\n",
      "Epoch 2/50\n",
      "13/13 [==============================] - 0s 1ms/step - loss: 150.0701 - mae: 9.4216\n",
      "Epoch 3/50\n",
      "13/13 [==============================] - 0s 1ms/step - loss: 93.5663 - mae: 7.4834\n",
      "Epoch 4/50\n",
      "13/13 [==============================] - 0s 1ms/step - loss: 80.5899 - mae: 6.5046\n",
      "Epoch 5/50\n",
      "13/13 [==============================] - 0s 1ms/step - loss: 75.8765 - mae: 6.5609\n",
      "Epoch 6/50\n",
      "13/13 [==============================] - 0s 1ms/step - loss: 73.7141 - mae: 6.2379\n",
      "Epoch 7/50\n",
      "13/13 [==============================] - 0s 1ms/step - loss: 72.5511 - mae: 6.2011\n",
      "Epoch 8/50\n",
      "13/13 [==============================] - 0s 1ms/step - loss: 72.0178 - mae: 6.3037\n",
      "Epoch 9/50\n",
      "13/13 [==============================] - 0s 1ms/step - loss: 70.2540 - mae: 5.9689\n",
      "Epoch 10/50\n",
      "13/13 [==============================] - 0s 1ms/step - loss: 69.6567 - mae: 6.2390\n",
      "Epoch 11/50\n",
      "13/13 [==============================] - 0s 1ms/step - loss: 68.5612 - mae: 6.0521\n",
      "Epoch 12/50\n",
      "13/13 [==============================] - 0s 1ms/step - loss: 66.9842 - mae: 5.8922\n",
      "Epoch 13/50\n",
      "13/13 [==============================] - 0s 1ms/step - loss: 66.4238 - mae: 6.1156\n",
      "Epoch 14/50\n",
      "13/13 [==============================] - 0s 1ms/step - loss: 66.0632 - mae: 5.5947\n",
      "Epoch 15/50\n",
      "13/13 [==============================] - 0s 1ms/step - loss: 65.3743 - mae: 6.1721\n",
      "Epoch 16/50\n",
      "13/13 [==============================] - 0s 1ms/step - loss: 64.6785 - mae: 5.7197\n",
      "Epoch 17/50\n",
      "13/13 [==============================] - 0s 1ms/step - loss: 64.3805 - mae: 5.8170\n",
      "Epoch 18/50\n",
      "13/13 [==============================] - 0s 1ms/step - loss: 61.5694 - mae: 5.9245\n",
      "Epoch 19/50\n",
      "13/13 [==============================] - 0s 997us/step - loss: 61.0308 - mae: 5.5084\n",
      "Epoch 20/50\n",
      "13/13 [==============================] - 0s 1ms/step - loss: 59.9209 - mae: 5.6855\n",
      "Epoch 21/50\n",
      "13/13 [==============================] - 0s 966us/step - loss: 58.6653 - mae: 5.5989\n",
      "Epoch 22/50\n",
      "13/13 [==============================] - 0s 1ms/step - loss: 58.2019 - mae: 5.5000\n",
      "Epoch 23/50\n",
      "13/13 [==============================] - 0s 1ms/step - loss: 57.6099 - mae: 5.6860\n",
      "Epoch 24/50\n",
      "13/13 [==============================] - 0s 1ms/step - loss: 56.8087 - mae: 5.4461\n",
      "Epoch 25/50\n",
      "13/13 [==============================] - 0s 1ms/step - loss: 55.4099 - mae: 5.3579\n",
      "Epoch 26/50\n",
      "13/13 [==============================] - 0s 943us/step - loss: 55.2778 - mae: 5.5143\n",
      "Epoch 27/50\n",
      "13/13 [==============================] - 0s 1ms/step - loss: 54.4150 - mae: 5.2653\n",
      "Epoch 28/50\n",
      "13/13 [==============================] - 0s 1ms/step - loss: 53.5916 - mae: 5.4496\n",
      "Epoch 29/50\n",
      "13/13 [==============================] - 0s 1ms/step - loss: 53.7507 - mae: 5.3477\n",
      "Epoch 30/50\n",
      "13/13 [==============================] - 0s 1ms/step - loss: 52.3247 - mae: 5.3081\n",
      "Epoch 31/50\n",
      "13/13 [==============================] - 0s 1ms/step - loss: 51.2448 - mae: 5.2268\n",
      "Epoch 32/50\n",
      "13/13 [==============================] - 0s 1ms/step - loss: 50.9771 - mae: 5.1402\n",
      "Epoch 33/50\n",
      "13/13 [==============================] - 0s 1ms/step - loss: 50.0645 - mae: 5.3274\n",
      "Epoch 34/50\n",
      "13/13 [==============================] - 0s 1ms/step - loss: 48.9519 - mae: 5.1584\n",
      "Epoch 35/50\n",
      "13/13 [==============================] - 0s 1ms/step - loss: 48.6668 - mae: 5.1849\n",
      "Epoch 36/50\n",
      "13/13 [==============================] - 0s 1ms/step - loss: 47.9171 - mae: 5.1031\n",
      "Epoch 37/50\n",
      "13/13 [==============================] - 0s 1ms/step - loss: 48.1226 - mae: 5.1972\n",
      "Epoch 38/50\n",
      "13/13 [==============================] - 0s 1ms/step - loss: 47.5483 - mae: 5.0833\n",
      "Epoch 39/50\n",
      "13/13 [==============================] - 0s 1ms/step - loss: 49.1771 - mae: 5.2850\n",
      "Epoch 40/50\n",
      "13/13 [==============================] - 0s 1ms/step - loss: 48.8930 - mae: 5.2225\n",
      "Epoch 41/50\n",
      "13/13 [==============================] - 0s 988us/step - loss: 48.5062 - mae: 5.2935\n",
      "Epoch 42/50\n",
      "13/13 [==============================] - 0s 978us/step - loss: 45.8044 - mae: 5.0926\n",
      "Epoch 43/50\n",
      "13/13 [==============================] - 0s 1ms/step - loss: 45.8097 - mae: 5.0931\n",
      "Epoch 44/50\n",
      "13/13 [==============================] - 0s 993us/step - loss: 44.8779 - mae: 5.0170\n",
      "Epoch 45/50\n",
      "13/13 [==============================] - 0s 977us/step - loss: 45.2443 - mae: 5.0609\n",
      "Epoch 46/50\n",
      "13/13 [==============================] - 0s 1ms/step - loss: 45.0259 - mae: 5.0309\n",
      "Epoch 47/50\n",
      "13/13 [==============================] - 0s 1ms/step - loss: 45.9883 - mae: 5.1350\n",
      "Epoch 48/50\n",
      "13/13 [==============================] - 0s 976us/step - loss: 45.4057 - mae: 5.1173\n",
      "Epoch 49/50\n",
      "13/13 [==============================] - 0s 993us/step - loss: 43.1249 - mae: 5.0400\n",
      "Epoch 50/50\n",
      "13/13 [==============================] - 0s 953us/step - loss: 44.2046 - mae: 5.1499\n"
     ]
    }
   ],
   "source": [
    "## A COMPLETER ##\n",
    "model = Sequential()\n",
    "model.add(Dense(4,activation='relu',input_dim=13))\n",
    "model.add(Dense(1,activation='linear'))\n",
    "\n",
    "optim = optimizers.Adam(learning_rate=0.01)\n",
    "model.compile(optimizer=optim, loss = 'mse', metrics=['mae'])\n",
    "history = model.fit(x_train, y_train, epochs=50, batch_size=32)"
   ]
  },
  {
   "cell_type": "code",
   "execution_count": 23,
   "metadata": {},
   "outputs": [
    {
     "data": {
      "image/png": "[encoded data removed]",
      "text/plain": [
       "<Figure size 432x288 with 1 Axes>"
      ]
     },
     "metadata": {
      "needs_background": "light"
     },
     "output_type": "display_data"
    }
   ],
   "source": [
    "train_loss = (history.history['loss'])\n",
    "plot_loss([], train_loss, ymax=800)"
   ]
  },
  {
   "cell_type": "code",
   "execution_count": 24,
   "metadata": {},
   "outputs": [
    {
     "name": "stdout",
     "output_type": "stream",
     "text": [
      "4/4 [==============================] - 0s 2ms/step - loss: 46.1175 - mae: 4.9155\n"
     ]
    },
    {
     "data": {
      "text/plain": [
       "[46.11746597290039, 4.915546894073486]"
      ]
     },
     "execution_count": 24,
     "metadata": {},
     "output_type": "execute_result"
    }
   ],
   "source": [
    " model.evaluate(x_test, y_test)"
   ]
  },
  {
   "cell_type": "code",
   "execution_count": 43,
   "metadata": {
    "scrolled": true,
    "tags": []
   },
   "outputs": [
    {
     "name": "stdout",
     "output_type": "stream",
     "text": [
      "Epoch 1/50\n",
      "12/12 [==============================] - 1s 13ms/step - loss: 1064.0120 - mae: 25.4711 - val_loss: 537.7366 - val_mae: 20.8247\n",
      "Epoch 2/50\n",
      "12/12 [==============================] - 0s 3ms/step - loss: 423.6060 - mae: 17.5525 - val_loss: 352.1641 - val_mae: 16.6603\n",
      "Epoch 3/50\n",
      "12/12 [==============================] - 0s 3ms/step - loss: 282.0429 - mae: 14.0899 - val_loss: 237.1013 - val_mae: 13.5491\n",
      "Epoch 4/50\n",
      "12/12 [==============================] - 0s 3ms/step - loss: 198.2156 - mae: 11.4460 - val_loss: 182.6263 - val_mae: 11.4019\n",
      "Epoch 5/50\n",
      "12/12 [==============================] - 0s 3ms/step - loss: 166.1723 - mae: 10.3273 - val_loss: 157.9435 - val_mae: 10.3436\n",
      "Epoch 6/50\n",
      "12/12 [==============================] - 0s 3ms/step - loss: 145.7091 - mae: 9.5361 - val_loss: 143.4552 - val_mae: 9.7027\n",
      "Epoch 7/50\n",
      "12/12 [==============================] - 0s 3ms/step - loss: 132.9947 - mae: 8.9846 - val_loss: 132.3644 - val_mae: 9.0608\n",
      "Epoch 8/50\n",
      "12/12 [==============================] - 0s 3ms/step - loss: 123.1970 - mae: 8.5954 - val_loss: 123.7378 - val_mae: 8.5571\n",
      "Epoch 9/50\n",
      "12/12 [==============================] - 0s 3ms/step - loss: 117.1794 - mae: 8.2040 - val_loss: 118.1547 - val_mae: 8.2776\n",
      "Epoch 10/50\n",
      "12/12 [==============================] - 0s 3ms/step - loss: 108.1689 - mae: 7.9573 - val_loss: 109.9940 - val_mae: 7.6600\n",
      "Epoch 11/50\n",
      "12/12 [==============================] - 0s 3ms/step - loss: 101.8948 - mae: 7.6792 - val_loss: 107.5090 - val_mae: 7.5625\n",
      "Epoch 12/50\n",
      "12/12 [==============================] - 0s 3ms/step - loss: 98.7057 - mae: 7.3246 - val_loss: 100.8209 - val_mae: 7.1245\n",
      "Epoch 13/50\n",
      "12/12 [==============================] - 0s 3ms/step - loss: 91.9722 - mae: 7.1375 - val_loss: 95.7202 - val_mae: 6.7783\n",
      "Epoch 14/50\n",
      "12/12 [==============================] - 0s 3ms/step - loss: 87.9030 - mae: 6.9662 - val_loss: 92.9767 - val_mae: 6.5501\n",
      "Epoch 15/50\n",
      "12/12 [==============================] - 0s 3ms/step - loss: 84.4297 - mae: 6.6811 - val_loss: 89.6662 - val_mae: 6.2764\n",
      "Epoch 16/50\n",
      "12/12 [==============================] - 0s 3ms/step - loss: 80.9304 - mae: 6.6575 - val_loss: 86.0529 - val_mae: 6.0437\n",
      "Epoch 17/50\n",
      "12/12 [==============================] - 0s 3ms/step - loss: 77.1655 - mae: 6.3225 - val_loss: 87.7173 - val_mae: 5.9060\n",
      "Epoch 18/50\n",
      "12/12 [==============================] - 0s 3ms/step - loss: 74.8511 - mae: 6.2100 - val_loss: 82.5579 - val_mae: 5.6762\n",
      "Epoch 19/50\n",
      "12/12 [==============================] - 0s 3ms/step - loss: 72.5383 - mae: 6.1735 - val_loss: 81.6207 - val_mae: 5.5339\n",
      "Epoch 20/50\n",
      "12/12 [==============================] - 0s 3ms/step - loss: 71.1898 - mae: 6.0714 - val_loss: 79.5959 - val_mae: 5.5877\n",
      "Epoch 21/50\n",
      "12/12 [==============================] - 0s 3ms/step - loss: 69.0710 - mae: 6.0497 - val_loss: 81.0673 - val_mae: 5.3176\n",
      "Epoch 22/50\n",
      "12/12 [==============================] - 0s 3ms/step - loss: 67.8819 - mae: 5.9027 - val_loss: 79.3783 - val_mae: 5.4021\n",
      "Epoch 23/50\n",
      "12/12 [==============================] - 0s 3ms/step - loss: 67.3040 - mae: 6.0155 - val_loss: 78.9549 - val_mae: 5.4353\n",
      "Epoch 24/50\n",
      "12/12 [==============================] - 0s 3ms/step - loss: 67.0591 - mae: 5.7833 - val_loss: 79.4665 - val_mae: 5.3204\n",
      "Epoch 25/50\n",
      "12/12 [==============================] - 0s 3ms/step - loss: 64.5407 - mae: 5.9190 - val_loss: 76.2808 - val_mae: 5.4351\n",
      "Epoch 26/50\n",
      "12/12 [==============================] - 0s 3ms/step - loss: 63.2248 - mae: 5.7333 - val_loss: 77.7622 - val_mae: 5.4240\n",
      "Epoch 27/50\n",
      "12/12 [==============================] - 0s 3ms/step - loss: 61.7471 - mae: 5.6697 - val_loss: 76.7447 - val_mae: 5.6982\n",
      "Epoch 28/50\n",
      "12/12 [==============================] - 0s 3ms/step - loss: 61.1870 - mae: 5.5614 - val_loss: 76.8984 - val_mae: 5.7284\n",
      "Epoch 29/50\n",
      "12/12 [==============================] - 0s 3ms/step - loss: 61.1727 - mae: 5.7389 - val_loss: 76.4367 - val_mae: 5.5741\n",
      "Epoch 30/50\n",
      "12/12 [==============================] - 0s 3ms/step - loss: 59.9982 - mae: 5.4952 - val_loss: 74.8823 - val_mae: 5.6154\n",
      "Epoch 31/50\n",
      "12/12 [==============================] - 0s 3ms/step - loss: 59.1003 - mae: 5.4954 - val_loss: 74.0877 - val_mae: 5.6173\n",
      "Epoch 32/50\n",
      "12/12 [==============================] - 0s 3ms/step - loss: 58.9030 - mae: 5.4691 - val_loss: 73.5400 - val_mae: 5.6821\n",
      "Epoch 33/50\n",
      "12/12 [==============================] - 0s 3ms/step - loss: 58.4639 - mae: 5.5602 - val_loss: 74.3782 - val_mae: 5.5895\n",
      "Epoch 34/50\n",
      "12/12 [==============================] - 0s 3ms/step - loss: 57.4821 - mae: 5.3034 - val_loss: 74.9509 - val_mae: 5.9020\n",
      "Epoch 35/50\n",
      "12/12 [==============================] - 0s 3ms/step - loss: 56.7756 - mae: 5.3489 - val_loss: 74.4805 - val_mae: 5.9048\n",
      "Epoch 36/50\n",
      "12/12 [==============================] - 0s 3ms/step - loss: 56.3692 - mae: 5.4861 - val_loss: 71.9817 - val_mae: 5.4438\n",
      "Epoch 37/50\n",
      "12/12 [==============================] - 0s 3ms/step - loss: 56.2268 - mae: 5.3377 - val_loss: 71.8988 - val_mae: 5.6066\n",
      "Epoch 38/50\n",
      "12/12 [==============================] - 0s 3ms/step - loss: 54.4182 - mae: 5.1891 - val_loss: 71.4064 - val_mae: 5.5248\n",
      "Epoch 39/50\n",
      "12/12 [==============================] - 0s 3ms/step - loss: 53.7548 - mae: 5.2204 - val_loss: 71.1434 - val_mae: 5.4799\n",
      "Epoch 40/50\n",
      "12/12 [==============================] - 0s 3ms/step - loss: 53.2719 - mae: 5.1713 - val_loss: 70.5166 - val_mae: 5.3047\n",
      "Epoch 41/50\n",
      "12/12 [==============================] - 0s 3ms/step - loss: 53.2201 - mae: 5.1550 - val_loss: 68.4044 - val_mae: 5.3405\n",
      "Epoch 42/50\n",
      "12/12 [==============================] - 0s 3ms/step - loss: 52.3396 - mae: 5.0681 - val_loss: 69.4818 - val_mae: 5.3780\n",
      "Epoch 43/50\n",
      "12/12 [==============================] - 0s 3ms/step - loss: 51.0671 - mae: 5.0445 - val_loss: 67.8883 - val_mae: 5.2538\n",
      "Epoch 44/50\n",
      "12/12 [==============================] - 0s 3ms/step - loss: 50.1598 - mae: 4.8928 - val_loss: 68.5767 - val_mae: 5.5923\n",
      "Epoch 45/50\n",
      "12/12 [==============================] - 0s 3ms/step - loss: 49.4169 - mae: 4.9765 - val_loss: 66.9382 - val_mae: 5.1697\n",
      "Epoch 46/50\n",
      "12/12 [==============================] - 0s 3ms/step - loss: 48.3612 - mae: 4.7304 - val_loss: 73.1783 - val_mae: 5.9896\n",
      "Epoch 47/50\n",
      "12/12 [==============================] - 0s 3ms/step - loss: 49.9111 - mae: 5.0514 - val_loss: 65.0287 - val_mae: 5.0451\n",
      "Epoch 48/50\n",
      "12/12 [==============================] - 0s 3ms/step - loss: 48.2875 - mae: 4.9138 - val_loss: 65.9869 - val_mae: 5.1036\n",
      "Epoch 49/50\n",
      "12/12 [==============================] - 0s 3ms/step - loss: 49.7988 - mae: 4.8277 - val_loss: 75.5749 - val_mae: 6.2773\n",
      "Epoch 50/50\n",
      "12/12 [==============================] - 0s 3ms/step - loss: 48.7094 - mae: 4.9043 - val_loss: 65.3361 - val_mae: 5.0609\n"
     ]
    }
   ],
   "source": [
    "# %load solutions/correction.py\n",
    "# Création d'un ensemble de validation\n",
    "(x, y), (x_test, y_test) = boston_housing.load_data()\n",
    "x_train, x_val, y_train, y_val = train_test_split(x, y, test_size=1/10, random_state=2)\n",
    "\n",
    "# Activation linéaire sur la couche de sortie\n",
    "model = Sequential()\n",
    "model.add(Dense(4, activation='relu', input_dim=13))\n",
    "model.add(Dense(1, activation='linear'))\n",
    "\n",
    "optim = optimizers.Adam(learning_rate = 0.01)\n",
    "model.compile(optimizer=optim, loss='mse', metrics=['mae'])\n",
    "\n",
    "# Calcul de l'erreur de validation au cours de l'optimisation\n",
    "history = model.fit(x_train, y_train, validation_data=(x_val, y_val), epochs=50, batch_size=32)"
   ]
  },
  {
   "cell_type": "code",
   "execution_count": 44,
   "metadata": {},
   "outputs": [
    {
     "name": "stdout",
     "output_type": "stream",
     "text": [
      "4/4 [==============================] - 0s 2ms/step - loss: 59.6006 - mae: 5.5545\n"
     ]
    },
    {
     "data": {
      "text/plain": [
       "[59.6005744934082, 5.55452299118042]"
      ]
     },
     "execution_count": 44,
     "metadata": {},
     "output_type": "execute_result"
    },
    {
     "data": {
      "image/png": "[encoded data removed]",
      "text/plain": [
       "<Figure size 432x288 with 1 Axes>"
      ]
     },
     "metadata": {
      "needs_background": "light"
     },
     "output_type": "display_data"
    }
   ],
   "source": [
    "# %load solutions/evaluation.py\n",
    "# Evaluation du modèle\n",
    "train_loss=(history.history['mae'])\n",
    "val_loss=(history.history['val_mae'])\n",
    "plot_loss(val_loss, train_loss, ymax=30)\n",
    "\n",
    "model.evaluate(x_test, y_test)"
   ]
  },
  {
   "cell_type": "markdown",
   "metadata": {},
   "source": [
    "### Perceptron monocouche\n",
    "\n",
    "Obtient-on des résultats comparables au réseau précédent avec un perceptron monocouche ?"
   ]
  },
  {
   "cell_type": "code",
   "execution_count": 47,
   "metadata": {
    "scrolled": true,
    "tags": []
   },
   "outputs": [
    {
     "name": "stdout",
     "output_type": "stream",
     "text": [
      "Epoch 1/50\n",
      "12/12 [==============================] - 0s 11ms/step - loss: 16555.9238 - mae: 94.8652 - val_loss: 10931.8242 - val_mae: 81.1308\n",
      "Epoch 2/50\n",
      "12/12 [==============================] - 0s 4ms/step - loss: 6384.2310 - mae: 60.2583 - val_loss: 4189.0615 - val_mae: 47.3830\n",
      "Epoch 3/50\n",
      "12/12 [==============================] - 0s 3ms/step - loss: 2307.2759 - mae: 33.9611 - val_loss: 2054.4241 - val_mae: 31.4788\n",
      "Epoch 4/50\n",
      "12/12 [==============================] - 0s 3ms/step - loss: 1243.0502 - mae: 24.2778 - val_loss: 1347.0865 - val_mae: 25.7091\n",
      "Epoch 5/50\n",
      "12/12 [==============================] - 0s 3ms/step - loss: 827.5451 - mae: 20.4225 - val_loss: 876.2612 - val_mae: 20.7867\n",
      "Epoch 6/50\n",
      "12/12 [==============================] - 0s 3ms/step - loss: 523.3228 - mae: 16.2832 - val_loss: 622.6569 - val_mae: 17.6700\n",
      "Epoch 7/50\n",
      "12/12 [==============================] - 0s 3ms/step - loss: 380.9107 - mae: 14.1547 - val_loss: 501.7580 - val_mae: 16.0549\n",
      "Epoch 8/50\n",
      "12/12 [==============================] - 0s 3ms/step - loss: 314.0209 - mae: 12.9544 - val_loss: 415.3947 - val_mae: 14.8640\n",
      "Epoch 9/50\n",
      "12/12 [==============================] - 0s 3ms/step - loss: 265.0580 - mae: 12.0710 - val_loss: 353.3208 - val_mae: 13.6542\n",
      "Epoch 10/50\n",
      "12/12 [==============================] - 0s 3ms/step - loss: 230.5754 - mae: 11.2969 - val_loss: 309.3371 - val_mae: 12.8388\n",
      "Epoch 11/50\n",
      "12/12 [==============================] - 0s 3ms/step - loss: 204.9252 - mae: 10.7515 - val_loss: 278.3011 - val_mae: 11.9513\n",
      "Epoch 12/50\n",
      "12/12 [==============================] - 0s 3ms/step - loss: 184.5962 - mae: 10.1188 - val_loss: 250.4589 - val_mae: 11.4219\n",
      "Epoch 13/50\n",
      "12/12 [==============================] - 0s 3ms/step - loss: 168.3349 - mae: 9.6948 - val_loss: 230.0833 - val_mae: 10.7781\n",
      "Epoch 14/50\n",
      "12/12 [==============================] - 0s 3ms/step - loss: 156.8647 - mae: 9.4852 - val_loss: 214.9307 - val_mae: 10.2448\n",
      "Epoch 15/50\n",
      "12/12 [==============================] - 0s 3ms/step - loss: 146.4624 - mae: 8.9992 - val_loss: 194.8801 - val_mae: 9.8510\n",
      "Epoch 16/50\n",
      "12/12 [==============================] - 0s 3ms/step - loss: 136.8219 - mae: 8.8021 - val_loss: 182.2592 - val_mae: 9.3549\n",
      "Epoch 17/50\n",
      "12/12 [==============================] - 0s 4ms/step - loss: 129.7448 - mae: 8.5672 - val_loss: 171.8643 - val_mae: 9.0422\n",
      "Epoch 18/50\n",
      "12/12 [==============================] - 0s 4ms/step - loss: 123.2052 - mae: 8.2878 - val_loss: 162.1389 - val_mae: 8.7920\n",
      "Epoch 19/50\n",
      "12/12 [==============================] - 0s 3ms/step - loss: 117.3048 - mae: 8.1131 - val_loss: 152.9320 - val_mae: 8.5676\n",
      "Epoch 20/50\n",
      "12/12 [==============================] - 0s 3ms/step - loss: 112.2854 - mae: 7.9436 - val_loss: 149.4008 - val_mae: 8.3520\n",
      "Epoch 21/50\n",
      "12/12 [==============================] - 0s 3ms/step - loss: 108.7921 - mae: 7.7633 - val_loss: 138.6198 - val_mae: 8.1808\n",
      "Epoch 22/50\n",
      "12/12 [==============================] - 0s 3ms/step - loss: 105.4904 - mae: 7.6514 - val_loss: 131.9800 - val_mae: 8.1342\n",
      "Epoch 23/50\n",
      "12/12 [==============================] - 0s 3ms/step - loss: 103.2670 - mae: 7.7266 - val_loss: 130.7124 - val_mae: 7.8607\n",
      "Epoch 24/50\n",
      "12/12 [==============================] - 0s 3ms/step - loss: 97.2541 - mae: 7.3841 - val_loss: 121.0988 - val_mae: 7.6793\n",
      "Epoch 25/50\n",
      "12/12 [==============================] - 0s 3ms/step - loss: 94.2551 - mae: 7.2750 - val_loss: 118.5501 - val_mae: 7.4562\n",
      "Epoch 26/50\n",
      "12/12 [==============================] - 0s 3ms/step - loss: 91.5846 - mae: 7.1942 - val_loss: 114.4509 - val_mae: 7.3256\n",
      "Epoch 27/50\n",
      "12/12 [==============================] - 0s 3ms/step - loss: 89.5727 - mae: 7.0475 - val_loss: 109.1406 - val_mae: 7.2380\n",
      "Epoch 28/50\n",
      "12/12 [==============================] - 0s 3ms/step - loss: 86.8658 - mae: 6.9955 - val_loss: 108.8202 - val_mae: 7.1669\n",
      "Epoch 29/50\n",
      "12/12 [==============================] - 0s 3ms/step - loss: 85.6817 - mae: 6.9578 - val_loss: 104.3838 - val_mae: 7.0012\n",
      "Epoch 30/50\n",
      "12/12 [==============================] - 0s 3ms/step - loss: 83.6798 - mae: 6.8862 - val_loss: 98.9016 - val_mae: 6.8917\n",
      "Epoch 31/50\n",
      "12/12 [==============================] - 0s 3ms/step - loss: 80.5988 - mae: 6.7246 - val_loss: 96.2925 - val_mae: 6.8089\n",
      "Epoch 32/50\n",
      "12/12 [==============================] - 0s 3ms/step - loss: 78.5130 - mae: 6.6941 - val_loss: 97.0257 - val_mae: 6.7966\n",
      "Epoch 33/50\n",
      "12/12 [==============================] - 0s 3ms/step - loss: 78.1701 - mae: 6.6340 - val_loss: 91.3794 - val_mae: 6.7744\n",
      "Epoch 34/50\n",
      "12/12 [==============================] - 0s 3ms/step - loss: 77.5558 - mae: 6.6420 - val_loss: 89.2683 - val_mae: 6.6489\n",
      "Epoch 35/50\n",
      "12/12 [==============================] - 0s 3ms/step - loss: 74.7730 - mae: 6.5961 - val_loss: 87.3877 - val_mae: 6.5265\n",
      "Epoch 36/50\n",
      "12/12 [==============================] - 0s 3ms/step - loss: 72.3442 - mae: 6.4525 - val_loss: 84.3807 - val_mae: 6.4290\n",
      "Epoch 37/50\n",
      "12/12 [==============================] - 0s 3ms/step - loss: 70.9453 - mae: 6.3726 - val_loss: 85.2291 - val_mae: 6.3575\n",
      "Epoch 38/50\n",
      "12/12 [==============================] - 0s 3ms/step - loss: 70.2404 - mae: 6.3062 - val_loss: 81.7622 - val_mae: 6.2377\n",
      "Epoch 39/50\n",
      "12/12 [==============================] - 0s 3ms/step - loss: 68.5150 - mae: 6.2927 - val_loss: 79.3417 - val_mae: 6.2376\n",
      "Epoch 40/50\n",
      "12/12 [==============================] - 0s 3ms/step - loss: 67.6436 - mae: 6.1868 - val_loss: 78.2960 - val_mae: 6.3483\n",
      "Epoch 41/50\n",
      "12/12 [==============================] - 0s 3ms/step - loss: 68.4043 - mae: 6.3800 - val_loss: 76.2120 - val_mae: 6.1075\n",
      "Epoch 42/50\n",
      "12/12 [==============================] - 0s 3ms/step - loss: 66.2103 - mae: 6.2102 - val_loss: 74.2956 - val_mae: 6.0336\n",
      "Epoch 43/50\n",
      "12/12 [==============================] - 0s 3ms/step - loss: 63.8616 - mae: 6.0767 - val_loss: 73.3084 - val_mae: 5.9472\n",
      "Epoch 44/50\n",
      "12/12 [==============================] - 0s 3ms/step - loss: 62.5470 - mae: 5.9870 - val_loss: 70.8062 - val_mae: 5.8886\n",
      "Epoch 45/50\n",
      "12/12 [==============================] - 0s 3ms/step - loss: 61.7035 - mae: 5.9982 - val_loss: 70.8438 - val_mae: 5.8343\n",
      "Epoch 46/50\n",
      "12/12 [==============================] - 0s 3ms/step - loss: 61.1166 - mae: 5.9068 - val_loss: 69.2315 - val_mae: 5.8292\n",
      "Epoch 47/50\n",
      "12/12 [==============================] - 0s 3ms/step - loss: 60.8193 - mae: 5.9249 - val_loss: 67.6858 - val_mae: 5.9096\n",
      "Epoch 48/50\n",
      "12/12 [==============================] - 0s 3ms/step - loss: 59.7342 - mae: 5.8985 - val_loss: 67.3959 - val_mae: 5.6646\n",
      "Epoch 49/50\n",
      "12/12 [==============================] - 0s 3ms/step - loss: 57.8793 - mae: 5.7829 - val_loss: 65.4003 - val_mae: 5.7321\n",
      "Epoch 50/50\n",
      "12/12 [==============================] - 0s 3ms/step - loss: 58.5730 - mae: 5.8567 - val_loss: 64.0730 - val_mae: 5.7109\n"
     ]
    }
   ],
   "source": [
    "## A COMPLETER ##\n",
    "model = Sequential()\n",
    "model.add(Dense(4,activation='linear',input_dim = 13))\n",
    "opt = optimizers.Adam(learning_rate=1e-2)\n",
    "model.compile(optimizer = opt, loss = 'mse', metrics = ['mae'])\n",
    "history = model.fit(x_train, y_train, validation_data=(x_val, y_val), epochs=50, batch_size=32)"
   ]
  },
  {
   "cell_type": "code",
   "execution_count": 50,
   "metadata": {
    "scrolled": true,
    "tags": []
   },
   "outputs": [
    {
     "name": "stdout",
     "output_type": "stream",
     "text": [
      "Epoch 1/100\n",
      "23/23 [==============================] - 0s 6ms/step - loss: 13738.9102 - mae: 92.6044 - val_loss: 11521.0811 - val_mae: 91.9053\n",
      "Epoch 2/100\n",
      "23/23 [==============================] - 0s 2ms/step - loss: 6428.8301 - mae: 62.7332 - val_loss: 5249.4678 - val_mae: 60.6212\n",
      "Epoch 3/100\n",
      "23/23 [==============================] - 0s 2ms/step - loss: 2638.9280 - mae: 39.8629 - val_loss: 2120.1189 - val_mae: 38.2592\n",
      "Epoch 4/100\n",
      "23/23 [==============================] - 0s 2ms/step - loss: 1007.9084 - mae: 24.9406 - val_loss: 908.7883 - val_mae: 24.8335\n",
      "Epoch 5/100\n",
      "23/23 [==============================] - 0s 2ms/step - loss: 466.8606 - mae: 17.2444 - val_loss: 434.9849 - val_mae: 18.1816\n",
      "Epoch 6/100\n",
      "23/23 [==============================] - 0s 2ms/step - loss: 266.6681 - mae: 13.1832 - val_loss: 264.9242 - val_mae: 14.3243\n",
      "Epoch 7/100\n",
      "23/23 [==============================] - 0s 2ms/step - loss: 191.7062 - mae: 11.2618 - val_loss: 182.7970 - val_mae: 11.5207\n",
      "Epoch 8/100\n",
      "23/23 [==============================] - 0s 2ms/step - loss: 142.6864 - mae: 9.6382 - val_loss: 143.9747 - val_mae: 9.8888\n",
      "Epoch 9/100\n",
      "23/23 [==============================] - 0s 2ms/step - loss: 113.6227 - mae: 8.4122 - val_loss: 114.7812 - val_mae: 8.8098\n",
      "Epoch 10/100\n",
      "23/23 [==============================] - 0s 2ms/step - loss: 95.7592 - mae: 7.7314 - val_loss: 100.4117 - val_mae: 7.9684\n",
      "Epoch 11/100\n",
      "23/23 [==============================] - 0s 2ms/step - loss: 87.8260 - mae: 7.3376 - val_loss: 101.4291 - val_mae: 7.6358\n",
      "Epoch 12/100\n",
      "23/23 [==============================] - 0s 2ms/step - loss: 80.5033 - mae: 6.9365 - val_loss: 81.8575 - val_mae: 7.0212\n",
      "Epoch 13/100\n",
      "23/23 [==============================] - 0s 2ms/step - loss: 78.1462 - mae: 6.9483 - val_loss: 75.0444 - val_mae: 6.6274\n",
      "Epoch 14/100\n",
      "23/23 [==============================] - 0s 2ms/step - loss: 74.2524 - mae: 6.7729 - val_loss: 71.8324 - val_mae: 6.5270\n",
      "Epoch 15/100\n",
      "23/23 [==============================] - 0s 2ms/step - loss: 69.9601 - mae: 6.3573 - val_loss: 69.4645 - val_mae: 6.4457\n",
      "Epoch 16/100\n",
      "23/23 [==============================] - 0s 2ms/step - loss: 66.7109 - mae: 6.3056 - val_loss: 66.5464 - val_mae: 6.0913\n",
      "Epoch 17/100\n",
      "23/23 [==============================] - 0s 2ms/step - loss: 62.7784 - mae: 6.0670 - val_loss: 64.7988 - val_mae: 5.9903\n",
      "Epoch 18/100\n",
      "23/23 [==============================] - 0s 2ms/step - loss: 60.8091 - mae: 5.9974 - val_loss: 65.5669 - val_mae: 5.7043\n",
      "Epoch 19/100\n",
      "23/23 [==============================] - 0s 2ms/step - loss: 62.8512 - mae: 6.0620 - val_loss: 65.0258 - val_mae: 5.6737\n",
      "Epoch 20/100\n",
      "23/23 [==============================] - 0s 2ms/step - loss: 58.3547 - mae: 5.7820 - val_loss: 61.9065 - val_mae: 5.5172\n",
      "Epoch 21/100\n",
      "23/23 [==============================] - 0s 2ms/step - loss: 56.0496 - mae: 5.6972 - val_loss: 61.1659 - val_mae: 5.4655\n",
      "Epoch 22/100\n",
      "23/23 [==============================] - 0s 2ms/step - loss: 54.3735 - mae: 5.6076 - val_loss: 56.7004 - val_mae: 5.3892\n",
      "Epoch 23/100\n",
      "23/23 [==============================] - 0s 2ms/step - loss: 52.9096 - mae: 5.5073 - val_loss: 55.7081 - val_mae: 5.3685\n",
      "Epoch 24/100\n",
      "23/23 [==============================] - 0s 2ms/step - loss: 51.2908 - mae: 5.4089 - val_loss: 54.5208 - val_mae: 5.4263\n",
      "Epoch 25/100\n",
      "23/23 [==============================] - 0s 2ms/step - loss: 51.7564 - mae: 5.4258 - val_loss: 60.7020 - val_mae: 5.2674\n",
      "Epoch 26/100\n",
      "23/23 [==============================] - 0s 2ms/step - loss: 49.4045 - mae: 5.4174 - val_loss: 54.5818 - val_mae: 5.0847\n",
      "Epoch 27/100\n",
      "23/23 [==============================] - 0s 2ms/step - loss: 48.1490 - mae: 5.2406 - val_loss: 51.6271 - val_mae: 5.1172\n",
      "Epoch 28/100\n",
      "23/23 [==============================] - 0s 2ms/step - loss: 47.9491 - mae: 5.2468 - val_loss: 51.0960 - val_mae: 5.1754\n",
      "Epoch 29/100\n",
      "23/23 [==============================] - 0s 2ms/step - loss: 46.5656 - mae: 5.2097 - val_loss: 55.9065 - val_mae: 4.9876\n",
      "Epoch 30/100\n",
      "23/23 [==============================] - 0s 2ms/step - loss: 47.0239 - mae: 5.1874 - val_loss: 49.7847 - val_mae: 5.1326\n",
      "Epoch 31/100\n",
      "23/23 [==============================] - 0s 2ms/step - loss: 46.1756 - mae: 5.1608 - val_loss: 49.0717 - val_mae: 5.0096\n",
      "Epoch 32/100\n",
      "23/23 [==============================] - 0s 2ms/step - loss: 44.4609 - mae: 5.0797 - val_loss: 49.2474 - val_mae: 5.1650\n",
      "Epoch 33/100\n",
      "23/23 [==============================] - 0s 2ms/step - loss: 44.4699 - mae: 5.0646 - val_loss: 48.8864 - val_mae: 4.8078\n",
      "Epoch 34/100\n",
      "23/23 [==============================] - 0s 2ms/step - loss: 43.8433 - mae: 5.0273 - val_loss: 47.5343 - val_mae: 4.8164\n",
      "Epoch 35/100\n",
      "23/23 [==============================] - 0s 2ms/step - loss: 43.2738 - mae: 5.0254 - val_loss: 56.3455 - val_mae: 5.0244\n",
      "Epoch 36/100\n",
      "23/23 [==============================] - 0s 2ms/step - loss: 44.0368 - mae: 5.0559 - val_loss: 46.7298 - val_mae: 4.8867\n",
      "Epoch 37/100\n",
      "23/23 [==============================] - 0s 2ms/step - loss: 42.8427 - mae: 5.0495 - val_loss: 46.0107 - val_mae: 4.7689\n",
      "Epoch 38/100\n",
      "23/23 [==============================] - 0s 2ms/step - loss: 41.5255 - mae: 4.8926 - val_loss: 50.2036 - val_mae: 5.3897\n",
      "Epoch 39/100\n",
      "23/23 [==============================] - 0s 2ms/step - loss: 43.6315 - mae: 5.0752 - val_loss: 45.2377 - val_mae: 4.7168\n",
      "Epoch 40/100\n",
      "23/23 [==============================] - 0s 2ms/step - loss: 41.9463 - mae: 4.9691 - val_loss: 49.0479 - val_mae: 4.6666\n",
      "Epoch 41/100\n",
      "23/23 [==============================] - 0s 2ms/step - loss: 44.6858 - mae: 5.0860 - val_loss: 44.5588 - val_mae: 4.6403\n",
      "Epoch 42/100\n",
      "23/23 [==============================] - 0s 2ms/step - loss: 43.1427 - mae: 5.0218 - val_loss: 47.5760 - val_mae: 5.2007\n",
      "Epoch 43/100\n",
      "23/23 [==============================] - 0s 2ms/step - loss: 40.9513 - mae: 4.8972 - val_loss: 47.9724 - val_mae: 4.6012\n",
      "Epoch 44/100\n",
      "23/23 [==============================] - 0s 2ms/step - loss: 39.9549 - mae: 4.8005 - val_loss: 44.2489 - val_mae: 4.4729\n",
      "Epoch 45/100\n",
      "23/23 [==============================] - 0s 2ms/step - loss: 39.2672 - mae: 4.7523 - val_loss: 45.3535 - val_mae: 4.4781\n",
      "Epoch 46/100\n",
      "23/23 [==============================] - 0s 2ms/step - loss: 41.5554 - mae: 4.8154 - val_loss: 44.1740 - val_mae: 4.4281\n",
      "Epoch 47/100\n",
      "23/23 [==============================] - 0s 2ms/step - loss: 40.4840 - mae: 4.8127 - val_loss: 44.5068 - val_mae: 4.9324\n",
      "Epoch 48/100\n",
      "23/23 [==============================] - 0s 2ms/step - loss: 40.3118 - mae: 4.7721 - val_loss: 42.9056 - val_mae: 4.6445\n",
      "Epoch 49/100\n",
      "23/23 [==============================] - 0s 2ms/step - loss: 39.2500 - mae: 4.7874 - val_loss: 46.5380 - val_mae: 4.5146\n",
      "Epoch 50/100\n",
      "23/23 [==============================] - 0s 2ms/step - loss: 40.0125 - mae: 4.7441 - val_loss: 42.4138 - val_mae: 4.3657\n",
      "Epoch 51/100\n",
      "23/23 [==============================] - 0s 2ms/step - loss: 38.1265 - mae: 4.7136 - val_loss: 41.7881 - val_mae: 4.3641\n",
      "Epoch 52/100\n",
      "23/23 [==============================] - 0s 2ms/step - loss: 40.5103 - mae: 4.7555 - val_loss: 41.6599 - val_mae: 4.4282\n",
      "Epoch 53/100\n",
      "23/23 [==============================] - 0s 2ms/step - loss: 41.9311 - mae: 5.0161 - val_loss: 42.8096 - val_mae: 4.2826\n",
      "Epoch 54/100\n",
      "23/23 [==============================] - 0s 2ms/step - loss: 37.8803 - mae: 4.6364 - val_loss: 46.8903 - val_mae: 4.5257\n",
      "Epoch 55/100\n",
      "23/23 [==============================] - 0s 2ms/step - loss: 37.8600 - mae: 4.6663 - val_loss: 41.7557 - val_mae: 4.2620\n",
      "Epoch 56/100\n",
      "23/23 [==============================] - 0s 2ms/step - loss: 37.6655 - mae: 4.6178 - val_loss: 40.9402 - val_mae: 4.3996\n",
      "Epoch 57/100\n",
      "23/23 [==============================] - 0s 2ms/step - loss: 37.5192 - mae: 4.6482 - val_loss: 44.4433 - val_mae: 4.3266\n",
      "Epoch 58/100\n",
      "23/23 [==============================] - 0s 2ms/step - loss: 37.4030 - mae: 4.6063 - val_loss: 40.8096 - val_mae: 4.2222\n",
      "Epoch 59/100\n",
      "23/23 [==============================] - 0s 2ms/step - loss: 37.6289 - mae: 4.5610 - val_loss: 40.9881 - val_mae: 4.4766\n",
      "Epoch 60/100\n",
      "23/23 [==============================] - 0s 2ms/step - loss: 36.7561 - mae: 4.6095 - val_loss: 40.5177 - val_mae: 4.2216\n",
      "Epoch 61/100\n",
      "23/23 [==============================] - 0s 2ms/step - loss: 36.1176 - mae: 4.5590 - val_loss: 40.8637 - val_mae: 4.4700\n"
     ]
    },
    {
     "name": "stdout",
     "output_type": "stream",
     "text": [
      "Epoch 62/100\n",
      "23/23 [==============================] - 0s 2ms/step - loss: 38.3957 - mae: 4.6420 - val_loss: 42.5121 - val_mae: 4.8498\n",
      "Epoch 63/100\n",
      "23/23 [==============================] - 0s 2ms/step - loss: 35.9224 - mae: 4.5663 - val_loss: 41.0814 - val_mae: 4.1347\n",
      "Epoch 64/100\n",
      "23/23 [==============================] - 0s 2ms/step - loss: 36.0594 - mae: 4.5553 - val_loss: 41.3672 - val_mae: 4.0959\n",
      "Epoch 65/100\n",
      "23/23 [==============================] - 0s 2ms/step - loss: 36.9221 - mae: 4.5801 - val_loss: 41.3261 - val_mae: 4.0827\n",
      "Epoch 66/100\n",
      "23/23 [==============================] - 0s 2ms/step - loss: 35.7301 - mae: 4.5043 - val_loss: 41.2519 - val_mae: 4.0805\n",
      "Epoch 67/100\n",
      "23/23 [==============================] - 0s 2ms/step - loss: 39.9556 - mae: 4.7417 - val_loss: 42.7038 - val_mae: 4.8650\n",
      "Epoch 68/100\n",
      "23/23 [==============================] - 0s 2ms/step - loss: 38.0094 - mae: 4.5966 - val_loss: 41.0943 - val_mae: 4.6247\n",
      "Epoch 69/100\n",
      "23/23 [==============================] - 0s 2ms/step - loss: 36.7017 - mae: 4.6403 - val_loss: 43.8150 - val_mae: 4.1752\n",
      "Epoch 70/100\n",
      "23/23 [==============================] - 0s 2ms/step - loss: 38.7248 - mae: 4.8133 - val_loss: 41.0704 - val_mae: 4.6360\n",
      "Epoch 71/100\n",
      "23/23 [==============================] - 0s 2ms/step - loss: 35.5864 - mae: 4.4977 - val_loss: 42.1915 - val_mae: 4.0626\n",
      "Epoch 72/100\n",
      "23/23 [==============================] - 0s 2ms/step - loss: 34.6336 - mae: 4.4545 - val_loss: 40.3162 - val_mae: 4.0683\n",
      "Epoch 73/100\n",
      "23/23 [==============================] - 0s 2ms/step - loss: 34.8674 - mae: 4.4158 - val_loss: 39.9593 - val_mae: 4.4651\n",
      "Epoch 74/100\n",
      "23/23 [==============================] - 0s 2ms/step - loss: 34.8324 - mae: 4.4904 - val_loss: 39.4406 - val_mae: 4.1308\n",
      "Epoch 75/100\n",
      "23/23 [==============================] - 0s 2ms/step - loss: 34.3136 - mae: 4.3734 - val_loss: 39.2222 - val_mae: 4.1601\n",
      "Epoch 76/100\n",
      "23/23 [==============================] - 0s 2ms/step - loss: 36.1720 - mae: 4.5403 - val_loss: 39.9782 - val_mae: 3.9722\n",
      "Epoch 77/100\n",
      "23/23 [==============================] - 0s 2ms/step - loss: 33.3001 - mae: 4.3316 - val_loss: 39.4091 - val_mae: 4.0505\n",
      "Epoch 78/100\n",
      "23/23 [==============================] - 0s 2ms/step - loss: 35.1824 - mae: 4.3795 - val_loss: 46.4995 - val_mae: 4.2602\n",
      "Epoch 79/100\n",
      "23/23 [==============================] - 0s 2ms/step - loss: 38.1876 - mae: 4.7155 - val_loss: 47.9342 - val_mae: 4.2993\n",
      "Epoch 80/100\n",
      "23/23 [==============================] - 0s 2ms/step - loss: 33.2985 - mae: 4.3084 - val_loss: 41.6792 - val_mae: 4.0198\n",
      "Epoch 81/100\n",
      "23/23 [==============================] - 0s 2ms/step - loss: 36.2974 - mae: 4.4660 - val_loss: 41.0068 - val_mae: 3.8847\n",
      "Epoch 82/100\n",
      "23/23 [==============================] - 0s 2ms/step - loss: 36.2861 - mae: 4.5456 - val_loss: 46.3024 - val_mae: 5.3966\n",
      "Epoch 83/100\n",
      "23/23 [==============================] - 0s 2ms/step - loss: 37.8394 - mae: 4.7108 - val_loss: 39.2788 - val_mae: 4.0929\n",
      "Epoch 84/100\n",
      "23/23 [==============================] - 0s 2ms/step - loss: 33.2343 - mae: 4.3518 - val_loss: 39.4981 - val_mae: 3.9228\n",
      "Epoch 85/100\n",
      "23/23 [==============================] - 0s 2ms/step - loss: 32.3191 - mae: 4.2589 - val_loss: 41.8995 - val_mae: 3.9647\n",
      "Epoch 86/100\n",
      "23/23 [==============================] - 0s 2ms/step - loss: 34.4235 - mae: 4.4557 - val_loss: 39.8607 - val_mae: 3.9150\n",
      "Epoch 87/100\n",
      "23/23 [==============================] - 0s 2ms/step - loss: 32.1972 - mae: 4.3078 - val_loss: 43.0927 - val_mae: 3.9578\n",
      "Epoch 88/100\n",
      "23/23 [==============================] - 0s 2ms/step - loss: 41.6890 - mae: 4.8606 - val_loss: 41.8086 - val_mae: 4.8128\n",
      "Epoch 89/100\n",
      "23/23 [==============================] - 0s 2ms/step - loss: 34.0615 - mae: 4.3326 - val_loss: 43.0481 - val_mae: 3.9552\n",
      "Epoch 90/100\n",
      "23/23 [==============================] - 0s 2ms/step - loss: 32.0345 - mae: 4.2533 - val_loss: 42.3002 - val_mae: 3.9996\n",
      "Epoch 91/100\n",
      "23/23 [==============================] - 0s 2ms/step - loss: 34.6828 - mae: 4.4618 - val_loss: 44.6739 - val_mae: 4.0285\n",
      "Epoch 92/100\n",
      "23/23 [==============================] - 0s 2ms/step - loss: 33.1235 - mae: 4.3377 - val_loss: 39.4145 - val_mae: 4.3092\n",
      "Epoch 93/100\n",
      "23/23 [==============================] - 0s 2ms/step - loss: 32.3454 - mae: 4.2086 - val_loss: 39.6575 - val_mae: 4.3895\n",
      "Epoch 94/100\n",
      "23/23 [==============================] - 0s 2ms/step - loss: 32.4617 - mae: 4.2593 - val_loss: 45.2129 - val_mae: 4.0891\n",
      "Epoch 95/100\n",
      "23/23 [==============================] - 0s 2ms/step - loss: 33.5556 - mae: 4.3288 - val_loss: 39.9949 - val_mae: 3.8192\n",
      "Epoch 96/100\n",
      "23/23 [==============================] - 0s 2ms/step - loss: 34.5040 - mae: 4.3504 - val_loss: 42.6040 - val_mae: 3.9293\n",
      "Epoch 97/100\n",
      "23/23 [==============================] - 0s 2ms/step - loss: 30.6242 - mae: 4.1424 - val_loss: 39.0458 - val_mae: 3.8718\n",
      "Epoch 98/100\n",
      "23/23 [==============================] - 0s 2ms/step - loss: 30.4751 - mae: 4.0855 - val_loss: 39.6233 - val_mae: 4.3533\n",
      "Epoch 99/100\n",
      "23/23 [==============================] - 0s 2ms/step - loss: 31.0303 - mae: 4.1203 - val_loss: 39.8331 - val_mae: 4.4196\n",
      "Epoch 100/100\n",
      "23/23 [==============================] - 0s 2ms/step - loss: 33.1221 - mae: 4.2826 - val_loss: 40.5629 - val_mae: 3.7895\n"
     ]
    }
   ],
   "source": [
    "# %load solutions/monocouche.py\n",
    "model = Sequential()\n",
    "model.add(Dense(1, activation='linear', input_dim=13))\n",
    "\n",
    "optim = optimizers.Adam(learning_rate = 0.01)\n",
    "model.compile(optimizer=optim, loss='mse', metrics=['mae'])\n",
    "\n",
    "history = model.fit(x_train, y_train, validation_data=(x_val, y_val), epochs=100, batch_size=16)"
   ]
  },
  {
   "cell_type": "code",
   "execution_count": 49,
   "metadata": {},
   "outputs": [
    {
     "name": "stdout",
     "output_type": "stream",
     "text": [
      "4/4 [==============================] - 0s 2ms/step - loss: 69.9969 - mae: 6.3559\n"
     ]
    },
    {
     "data": {
      "text/plain": [
       "[69.99693298339844, 6.355916976928711]"
      ]
     },
     "execution_count": 49,
     "metadata": {},
     "output_type": "execute_result"
    },
    {
     "data": {
      "image/png": "[encoded data removed]",
      "text/plain": [
       "<Figure size 432x288 with 1 Axes>"
      ]
     },
     "metadata": {
      "needs_background": "light"
     },
     "output_type": "display_data"
    }
   ],
   "source": [
    "# Evaluation du modèle\n",
    "train_loss=(history.history['mae'])\n",
    "val_loss=(history.history['val_mae'])\n",
    "plot_loss(val_loss, train_loss, ymax=30)\n",
    "\n",
    "model.evaluate(x_test, y_test)"
   ]
  },
  {
   "cell_type": "markdown",
   "metadata": {},
   "source": [
    "### Améliorations possibles\n",
    "\n",
    "Avant de regarder les solutions proposées, prenez **vraiment** le temps de tester des architectures."
   ]
  },
  {
   "cell_type": "code",
   "execution_count": 71,
   "metadata": {},
   "outputs": [
    {
     "name": "stdout",
     "output_type": "stream",
     "text": [
      "Epoch 1/100\n",
      "23/23 [==============================] - 1s 8ms/step - loss: 578.8528 - mae: 22.2534 - val_loss: 589.9975 - val_mae: 22.1651\n",
      "Epoch 2/100\n",
      "23/23 [==============================] - 0s 2ms/step - loss: 564.7277 - mae: 21.9067 - val_loss: 571.9574 - val_mae: 21.7159\n",
      "Epoch 3/100\n",
      "23/23 [==============================] - 0s 2ms/step - loss: 538.9441 - mae: 21.2742 - val_loss: 538.4324 - val_mae: 20.8416\n",
      "Epoch 4/100\n",
      "23/23 [==============================] - 0s 2ms/step - loss: 494.6877 - mae: 20.0793 - val_loss: 474.9208 - val_mae: 19.0401\n",
      "Epoch 5/100\n",
      "23/23 [==============================] - 0s 2ms/step - loss: 407.3372 - mae: 17.6060 - val_loss: 370.2023 - val_mae: 16.0527\n",
      "Epoch 6/100\n",
      "23/23 [==============================] - 0s 2ms/step - loss: 305.4489 - mae: 14.6288 - val_loss: 254.2713 - val_mae: 12.3971\n",
      "Epoch 7/100\n",
      "23/23 [==============================] - 0s 3ms/step - loss: 202.7535 - mae: 11.3368 - val_loss: 182.7836 - val_mae: 10.0905\n",
      "Epoch 8/100\n",
      "23/23 [==============================] - 0s 2ms/step - loss: 169.8362 - mae: 10.0727 - val_loss: 157.3700 - val_mae: 8.9688\n",
      "Epoch 9/100\n",
      "23/23 [==============================] - 0s 2ms/step - loss: 145.4313 - mae: 9.4169 - val_loss: 146.3701 - val_mae: 8.4236\n",
      "Epoch 10/100\n",
      "23/23 [==============================] - 0s 2ms/step - loss: 136.8292 - mae: 9.0612 - val_loss: 133.7929 - val_mae: 7.8066\n",
      "Epoch 11/100\n",
      "23/23 [==============================] - 0s 2ms/step - loss: 121.4699 - mae: 8.4778 - val_loss: 122.4203 - val_mae: 7.2518\n",
      "Epoch 12/100\n",
      "23/23 [==============================] - 0s 2ms/step - loss: 115.4892 - mae: 8.1946 - val_loss: 111.8829 - val_mae: 6.7442\n",
      "Epoch 13/100\n",
      "23/23 [==============================] - 0s 3ms/step - loss: 103.0411 - mae: 7.8096 - val_loss: 108.2491 - val_mae: 6.5032\n",
      "Epoch 14/100\n",
      "23/23 [==============================] - 0s 3ms/step - loss: 110.9235 - mae: 7.8258 - val_loss: 99.9686 - val_mae: 6.0463\n",
      "Epoch 15/100\n",
      "23/23 [==============================] - 0s 2ms/step - loss: 96.8207 - mae: 7.2352 - val_loss: 95.6749 - val_mae: 5.8094\n",
      "Epoch 16/100\n",
      "23/23 [==============================] - 0s 2ms/step - loss: 92.2592 - mae: 7.2602 - val_loss: 94.4876 - val_mae: 5.7139\n",
      "Epoch 17/100\n",
      "23/23 [==============================] - 0s 2ms/step - loss: 78.9534 - mae: 6.6752 - val_loss: 88.7821 - val_mae: 5.4263\n",
      "Epoch 18/100\n",
      "23/23 [==============================] - 0s 2ms/step - loss: 75.0807 - mae: 6.4278 - val_loss: 82.6484 - val_mae: 5.1271\n",
      "Epoch 19/100\n",
      "23/23 [==============================] - 0s 3ms/step - loss: 80.8023 - mae: 6.5852 - val_loss: 82.9005 - val_mae: 5.0654\n",
      "Epoch 20/100\n",
      "23/23 [==============================] - 0s 2ms/step - loss: 77.5316 - mae: 6.5694 - val_loss: 77.2317 - val_mae: 4.8403\n",
      "Epoch 21/100\n",
      "23/23 [==============================] - 0s 2ms/step - loss: 72.7697 - mae: 6.4508 - val_loss: 76.5099 - val_mae: 4.7568\n",
      "Epoch 22/100\n",
      "23/23 [==============================] - 0s 2ms/step - loss: 64.7116 - mae: 5.9675 - val_loss: 74.2285 - val_mae: 4.6253\n",
      "Epoch 23/100\n",
      "23/23 [==============================] - 0s 2ms/step - loss: 65.2307 - mae: 6.0433 - val_loss: 72.4973 - val_mae: 4.5190\n",
      "Epoch 24/100\n",
      "23/23 [==============================] - 0s 2ms/step - loss: 55.6156 - mae: 5.3562 - val_loss: 73.4451 - val_mae: 4.5372\n",
      "Epoch 25/100\n",
      "23/23 [==============================] - 0s 2ms/step - loss: 59.5330 - mae: 5.9265 - val_loss: 73.8468 - val_mae: 4.6317\n",
      "Epoch 26/100\n",
      "23/23 [==============================] - 0s 2ms/step - loss: 58.1114 - mae: 5.6033 - val_loss: 70.1626 - val_mae: 4.4818\n",
      "Epoch 27/100\n",
      "23/23 [==============================] - 0s 2ms/step - loss: 56.9179 - mae: 5.5755 - val_loss: 72.8477 - val_mae: 4.6262\n",
      "Epoch 28/100\n",
      "23/23 [==============================] - 0s 2ms/step - loss: 58.4517 - mae: 5.7684 - val_loss: 68.3526 - val_mae: 4.3851\n",
      "Epoch 29/100\n",
      "23/23 [==============================] - 0s 2ms/step - loss: 49.4168 - mae: 5.2377 - val_loss: 70.8025 - val_mae: 4.5199\n",
      "Epoch 30/100\n",
      "23/23 [==============================] - 0s 2ms/step - loss: 55.3943 - mae: 5.5148 - val_loss: 68.6026 - val_mae: 4.4070\n",
      "Epoch 31/100\n",
      "23/23 [==============================] - 0s 2ms/step - loss: 53.7549 - mae: 5.4338 - val_loss: 68.9989 - val_mae: 4.4127\n",
      "Epoch 32/100\n",
      "23/23 [==============================] - 0s 2ms/step - loss: 55.0542 - mae: 5.4095 - val_loss: 66.7321 - val_mae: 4.3245\n",
      "Epoch 33/100\n",
      "23/23 [==============================] - 0s 2ms/step - loss: 43.4771 - mae: 4.7842 - val_loss: 66.4455 - val_mae: 4.3221\n",
      "Epoch 34/100\n",
      "23/23 [==============================] - 0s 2ms/step - loss: 49.7746 - mae: 5.2552 - val_loss: 65.1262 - val_mae: 4.2912\n",
      "Epoch 35/100\n",
      "23/23 [==============================] - 0s 2ms/step - loss: 48.6556 - mae: 5.1349 - val_loss: 66.2625 - val_mae: 4.3656\n",
      "Epoch 36/100\n",
      "23/23 [==============================] - 0s 2ms/step - loss: 45.8675 - mae: 5.0983 - val_loss: 64.3933 - val_mae: 4.2700\n",
      "Epoch 37/100\n",
      "23/23 [==============================] - 0s 2ms/step - loss: 53.2188 - mae: 5.1624 - val_loss: 65.6997 - val_mae: 4.3307\n",
      "Epoch 38/100\n",
      "23/23 [==============================] - 0s 2ms/step - loss: 49.6225 - mae: 5.1316 - val_loss: 64.5783 - val_mae: 4.2922\n",
      "Epoch 39/100\n",
      "23/23 [==============================] - 0s 2ms/step - loss: 48.2254 - mae: 5.1847 - val_loss: 62.9513 - val_mae: 4.2285\n",
      "Epoch 40/100\n",
      "23/23 [==============================] - 0s 2ms/step - loss: 44.1680 - mae: 4.9714 - val_loss: 65.6343 - val_mae: 4.3683\n",
      "Epoch 41/100\n",
      "23/23 [==============================] - 0s 2ms/step - loss: 47.0966 - mae: 5.0277 - val_loss: 64.4984 - val_mae: 4.3884\n",
      "Epoch 42/100\n",
      "23/23 [==============================] - 0s 2ms/step - loss: 47.2023 - mae: 5.0671 - val_loss: 63.5342 - val_mae: 4.3347\n",
      "Epoch 43/100\n",
      "23/23 [==============================] - 0s 2ms/step - loss: 46.4872 - mae: 5.1103 - val_loss: 64.2715 - val_mae: 4.3386\n",
      "Epoch 44/100\n",
      "23/23 [==============================] - 0s 2ms/step - loss: 45.5052 - mae: 4.9548 - val_loss: 61.9015 - val_mae: 4.1387\n",
      "Epoch 45/100\n",
      "23/23 [==============================] - 0s 2ms/step - loss: 46.3955 - mae: 4.9704 - val_loss: 65.0997 - val_mae: 4.2995\n",
      "Epoch 46/100\n",
      "23/23 [==============================] - 0s 2ms/step - loss: 49.3197 - mae: 5.1573 - val_loss: 64.0234 - val_mae: 4.2120\n",
      "Epoch 47/100\n",
      "23/23 [==============================] - 0s 2ms/step - loss: 48.4901 - mae: 5.0221 - val_loss: 65.1760 - val_mae: 4.3192\n",
      "Epoch 48/100\n",
      "23/23 [==============================] - 0s 2ms/step - loss: 41.1385 - mae: 4.8191 - val_loss: 63.9664 - val_mae: 4.2517\n",
      "Epoch 49/100\n",
      "23/23 [==============================] - 0s 2ms/step - loss: 54.9989 - mae: 5.4584 - val_loss: 62.4490 - val_mae: 4.1590\n",
      "Epoch 50/100\n",
      "23/23 [==============================] - 0s 2ms/step - loss: 48.3262 - mae: 4.9543 - val_loss: 63.3154 - val_mae: 4.2799\n",
      "Epoch 51/100\n",
      "23/23 [==============================] - 0s 2ms/step - loss: 47.8095 - mae: 5.2233 - val_loss: 62.5623 - val_mae: 4.2337\n",
      "Epoch 52/100\n",
      "23/23 [==============================] - 0s 2ms/step - loss: 46.4296 - mae: 4.7612 - val_loss: 63.2951 - val_mae: 4.2762\n",
      "Epoch 53/100\n",
      "23/23 [==============================] - 0s 3ms/step - loss: 42.6316 - mae: 4.8090 - val_loss: 64.1408 - val_mae: 4.3502\n",
      "Epoch 54/100\n",
      "23/23 [==============================] - 0s 3ms/step - loss: 47.6648 - mae: 5.0341 - val_loss: 63.9204 - val_mae: 4.3667\n",
      "Epoch 55/100\n",
      "23/23 [==============================] - 0s 2ms/step - loss: 42.4745 - mae: 4.6622 - val_loss: 63.7430 - val_mae: 4.3618\n",
      "Epoch 56/100\n",
      "23/23 [==============================] - 0s 2ms/step - loss: 39.1793 - mae: 4.6233 - val_loss: 62.0780 - val_mae: 4.2540\n",
      "Epoch 57/100\n",
      "23/23 [==============================] - 0s 2ms/step - loss: 48.4058 - mae: 5.1592 - val_loss: 61.8232 - val_mae: 4.2742\n",
      "Epoch 58/100\n",
      "23/23 [==============================] - 0s 2ms/step - loss: 47.3947 - mae: 5.1302 - val_loss: 59.5320 - val_mae: 4.1075\n",
      "Epoch 59/100\n",
      "23/23 [==============================] - 0s 2ms/step - loss: 40.9997 - mae: 4.8269 - val_loss: 63.3574 - val_mae: 4.3926\n",
      "Epoch 60/100\n",
      "23/23 [==============================] - 0s 3ms/step - loss: 47.7554 - mae: 4.9452 - val_loss: 60.7098 - val_mae: 4.2217\n",
      "Epoch 61/100\n",
      "23/23 [==============================] - 0s 2ms/step - loss: 41.4310 - mae: 4.7986 - val_loss: 59.4897 - val_mae: 4.1827\n"
     ]
    },
    {
     "name": "stdout",
     "output_type": "stream",
     "text": [
      "Epoch 62/100\n",
      "23/23 [==============================] - 0s 3ms/step - loss: 42.3148 - mae: 4.8286 - val_loss: 60.7025 - val_mae: 4.2561\n",
      "Epoch 63/100\n",
      "23/23 [==============================] - 0s 2ms/step - loss: 41.2361 - mae: 4.6050 - val_loss: 60.1250 - val_mae: 4.2015\n",
      "Epoch 64/100\n",
      "23/23 [==============================] - 0s 2ms/step - loss: 38.2443 - mae: 4.5842 - val_loss: 65.2760 - val_mae: 4.5819\n",
      "Epoch 65/100\n",
      "23/23 [==============================] - 0s 2ms/step - loss: 43.5991 - mae: 4.5855 - val_loss: 58.8043 - val_mae: 4.1634\n",
      "Epoch 66/100\n",
      "23/23 [==============================] - 0s 2ms/step - loss: 45.5718 - mae: 5.0015 - val_loss: 58.8125 - val_mae: 4.1734\n",
      "Epoch 67/100\n",
      "23/23 [==============================] - 0s 2ms/step - loss: 43.0610 - mae: 4.9007 - val_loss: 59.9991 - val_mae: 4.2327\n",
      "Epoch 68/100\n",
      "23/23 [==============================] - 0s 2ms/step - loss: 46.8753 - mae: 4.9020 - val_loss: 58.1497 - val_mae: 4.0915\n",
      "Epoch 69/100\n",
      "23/23 [==============================] - 0s 2ms/step - loss: 44.4786 - mae: 4.7369 - val_loss: 56.9110 - val_mae: 4.0259\n",
      "Epoch 70/100\n",
      "23/23 [==============================] - 0s 2ms/step - loss: 42.9328 - mae: 4.7694 - val_loss: 59.6034 - val_mae: 4.2182\n",
      "Epoch 71/100\n",
      "23/23 [==============================] - 0s 2ms/step - loss: 39.5719 - mae: 4.4923 - val_loss: 56.2284 - val_mae: 3.9799\n",
      "Epoch 72/100\n",
      "23/23 [==============================] - 0s 2ms/step - loss: 35.5401 - mae: 4.4282 - val_loss: 58.4896 - val_mae: 4.1953\n",
      "Epoch 73/100\n",
      "23/23 [==============================] - 0s 2ms/step - loss: 44.7697 - mae: 4.7336 - val_loss: 56.9586 - val_mae: 4.0609\n",
      "Epoch 74/100\n",
      "23/23 [==============================] - 0s 2ms/step - loss: 38.4697 - mae: 4.6983 - val_loss: 57.6934 - val_mae: 4.1057\n",
      "Epoch 75/100\n",
      "23/23 [==============================] - 0s 2ms/step - loss: 43.3048 - mae: 4.7146 - val_loss: 57.9673 - val_mae: 4.1525\n",
      "Epoch 76/100\n",
      "23/23 [==============================] - 0s 2ms/step - loss: 46.6823 - mae: 4.6636 - val_loss: 55.5246 - val_mae: 3.9757\n",
      "Epoch 77/100\n",
      "23/23 [==============================] - 0s 2ms/step - loss: 38.0573 - mae: 4.6415 - val_loss: 59.1613 - val_mae: 4.2525\n",
      "Epoch 78/100\n",
      "23/23 [==============================] - 0s 2ms/step - loss: 42.3611 - mae: 4.5967 - val_loss: 62.1161 - val_mae: 4.4793\n",
      "Epoch 79/100\n",
      "23/23 [==============================] - 0s 2ms/step - loss: 43.4356 - mae: 4.8638 - val_loss: 58.4075 - val_mae: 4.2413\n",
      "Epoch 80/100\n",
      "23/23 [==============================] - 0s 2ms/step - loss: 40.2223 - mae: 4.7668 - val_loss: 56.7075 - val_mae: 4.1380\n",
      "Epoch 81/100\n",
      "23/23 [==============================] - 0s 2ms/step - loss: 42.8176 - mae: 4.7334 - val_loss: 55.2379 - val_mae: 4.0183\n",
      "Epoch 82/100\n",
      "23/23 [==============================] - 0s 2ms/step - loss: 41.3212 - mae: 4.6712 - val_loss: 58.2210 - val_mae: 4.2678\n",
      "Epoch 83/100\n",
      "23/23 [==============================] - 0s 2ms/step - loss: 34.7523 - mae: 4.4039 - val_loss: 56.7658 - val_mae: 4.1204\n",
      "Epoch 84/100\n",
      "23/23 [==============================] - 0s 2ms/step - loss: 39.2015 - mae: 4.6922 - val_loss: 55.8547 - val_mae: 4.0168\n",
      "Epoch 85/100\n",
      "23/23 [==============================] - 0s 3ms/step - loss: 34.9045 - mae: 4.4453 - val_loss: 57.8733 - val_mae: 4.2536\n",
      "Epoch 86/100\n",
      "23/23 [==============================] - 0s 2ms/step - loss: 34.6395 - mae: 4.3512 - val_loss: 56.1006 - val_mae: 4.0939\n",
      "Epoch 87/100\n",
      "23/23 [==============================] - 0s 2ms/step - loss: 42.8411 - mae: 4.7847 - val_loss: 55.6278 - val_mae: 4.1470\n",
      "Epoch 88/100\n",
      "23/23 [==============================] - 0s 2ms/step - loss: 42.1990 - mae: 4.7557 - val_loss: 56.6721 - val_mae: 4.2172\n",
      "Epoch 89/100\n",
      "23/23 [==============================] - 0s 2ms/step - loss: 36.5086 - mae: 4.2880 - val_loss: 53.1494 - val_mae: 3.9236\n",
      "Epoch 90/100\n",
      "23/23 [==============================] - 0s 2ms/step - loss: 30.5711 - mae: 4.2027 - val_loss: 55.6782 - val_mae: 4.1619\n",
      "Epoch 91/100\n",
      "23/23 [==============================] - 0s 2ms/step - loss: 40.4354 - mae: 4.5813 - val_loss: 55.6343 - val_mae: 4.1821\n",
      "Epoch 92/100\n",
      "23/23 [==============================] - 0s 2ms/step - loss: 40.9022 - mae: 4.5222 - val_loss: 54.2702 - val_mae: 4.0972\n",
      "Epoch 93/100\n",
      "23/23 [==============================] - 0s 2ms/step - loss: 34.7644 - mae: 4.2330 - val_loss: 51.8190 - val_mae: 3.8671\n",
      "Epoch 94/100\n",
      "23/23 [==============================] - 0s 2ms/step - loss: 37.5378 - mae: 4.5051 - val_loss: 54.1157 - val_mae: 4.0680\n",
      "Epoch 95/100\n",
      "23/23 [==============================] - 0s 2ms/step - loss: 41.8645 - mae: 4.6808 - val_loss: 52.5122 - val_mae: 3.9289\n",
      "Epoch 96/100\n",
      "23/23 [==============================] - 0s 2ms/step - loss: 35.3390 - mae: 4.3724 - val_loss: 53.1733 - val_mae: 3.9817\n",
      "Epoch 97/100\n",
      "23/23 [==============================] - 0s 2ms/step - loss: 40.0916 - mae: 4.5447 - val_loss: 51.8372 - val_mae: 3.9179\n",
      "Epoch 98/100\n",
      "23/23 [==============================] - 0s 2ms/step - loss: 33.5373 - mae: 4.3752 - val_loss: 53.0047 - val_mae: 4.0475\n",
      "Epoch 99/100\n",
      "23/23 [==============================] - 0s 2ms/step - loss: 35.0241 - mae: 4.4127 - val_loss: 50.8989 - val_mae: 3.9125\n",
      "Epoch 100/100\n",
      "23/23 [==============================] - 0s 2ms/step - loss: 41.7589 - mae: 4.5419 - val_loss: 53.4141 - val_mae: 4.1114\n",
      "4/4 [==============================] - 0s 2ms/step - loss: 27.2465 - mae: 3.8322\n"
     ]
    },
    {
     "data": {
      "text/plain": [
       "[27.24650001525879, 3.8321564197540283]"
      ]
     },
     "execution_count": 71,
     "metadata": {},
     "output_type": "execute_result"
    },
    {
     "data": {
      "image/png": "[encoded data removed]",
      "text/plain": [
       "<Figure size 432x288 with 1 Axes>"
      ]
     },
     "metadata": {
      "needs_background": "light"
     },
     "output_type": "display_data"
    }
   ],
   "source": [
    "# Normalisation des entrées\n",
    "x_mean = np.mean(x_train, axis = 0)\n",
    "x_std = np.std(x_train, axis = 0)\n",
    "x_train = (x_train-x_mean)/x_std\n",
    "x_val = (x_val-x_mean)/x_std\n",
    "\n",
    "x_mean_test = np.mean(x_test, axis = 0)\n",
    "x_std_test = np.std(x_test, axis = 0)\n",
    "x_test = (x_test - x_mean_test)/x_std_test\n",
    "\n",
    "model = Sequential()\n",
    "model.add(Dense(4,activation = 'relu',input_dim= 13))\n",
    "model.add(Dropout(0.2))\n",
    "model.add(Dense(8, activation = 'relu'))\n",
    "model.add(Dense(16, activation = 'relu'))\n",
    "model.add(Dropout(0.2))\n",
    "model.add(Dense(32, activation = 'relu'))\n",
    "model.add(Dropout(0.2))\n",
    "model.add(Dense(1, activation = 'linear'))\n",
    "optim = optimizers.Adam(learning_rate = 0.001)\n",
    "model.compile(optimizer=optim, loss='mse', metrics=['mae'])\n",
    "\n",
    "history = model.fit(x_train, y_train, validation_data=(x_val, y_val), epochs=100, batch_size=16)\n",
    "\n",
    "# Evaluation du modèle\n",
    "train_loss=(history.history['mae'])\n",
    "val_loss=(history.history['val_mae'])\n",
    "plot_loss(val_loss, train_loss, ymax=30)\n",
    "\n",
    "model.evaluate(x_test, y_test)"
   ]
  },
  {
   "cell_type": "code",
   "execution_count": null,
   "metadata": {},
   "outputs": [],
   "source": []
  },
  {
   "cell_type": "code",
   "execution_count": null,
   "metadata": {},
   "outputs": [],
   "source": []
  },
  {
   "cell_type": "code",
   "execution_count": null,
   "metadata": {},
   "outputs": [],
   "source": []
  },
  {
   "cell_type": "code",
   "execution_count": null,
   "metadata": {},
   "outputs": [],
   "source": []
  },
  {
   "cell_type": "code",
   "execution_count": null,
   "metadata": {},
   "outputs": [],
   "source": []
  },
  {
   "cell_type": "code",
   "execution_count": null,
   "metadata": {},
   "outputs": [],
   "source": []
  },
  {
   "cell_type": "code",
   "execution_count": null,
   "metadata": {},
   "outputs": [],
   "source": []
  },
  {
   "cell_type": "code",
   "execution_count": null,
   "metadata": {},
   "outputs": [],
   "source": []
  },
  {
   "cell_type": "markdown",
   "metadata": {},
   "source": [
    "## Propositions d'améliorations\n",
    "\n",
    "On peut certainement trouver de meilleures architectures !"
   ]
  },
  {
   "cell_type": "markdown",
   "metadata": {},
   "source": [
    "### Amélioration n°1"
   ]
  },
  {
   "cell_type": "code",
   "execution_count": 53,
   "metadata": {
    "scrolled": true,
    "tags": []
   },
   "outputs": [
    {
     "ename": "ValueError",
     "evalue": "'solutions/amelioration_1.py' was not found in history, as a file, url, nor in the user namespace.",
     "output_type": "error",
     "traceback": [
      "\u001b[0;31m---------------------------------------------------------------------------\u001b[0m",
      "\u001b[0;31mNameError\u001b[0m                                 Traceback (most recent call last)",
      "\u001b[0;32m/usr/lib/python3/dist-packages/IPython/core/interactiveshell.py\u001b[0m in \u001b[0;36mfind_user_code\u001b[0;34m(self, target, raw, py_only, skip_encoding_cookie, search_ns)\u001b[0m\n\u001b[1;32m   3776\u001b[0m         \u001b[0;32mtry\u001b[0m\u001b[0;34m:\u001b[0m                                              \u001b[0;31m# User namespace\u001b[0m\u001b[0;34m\u001b[0m\u001b[0;34m\u001b[0m\u001b[0m\n\u001b[0;32m-> 3777\u001b[0;31m             \u001b[0mcodeobj\u001b[0m \u001b[0;34m=\u001b[0m \u001b[0meval\u001b[0m\u001b[0;34m(\u001b[0m\u001b[0mtarget\u001b[0m\u001b[0;34m,\u001b[0m \u001b[0mself\u001b[0m\u001b[0;34m.\u001b[0m\u001b[0muser_ns\u001b[0m\u001b[0;34m)\u001b[0m\u001b[0;34m\u001b[0m\u001b[0;34m\u001b[0m\u001b[0m\n\u001b[0m\u001b[1;32m   3778\u001b[0m         \u001b[0;32mexcept\u001b[0m \u001b[0mException\u001b[0m\u001b[0;34m:\u001b[0m\u001b[0;34m\u001b[0m\u001b[0;34m\u001b[0m\u001b[0m\n",
      "\u001b[0;32m<string>\u001b[0m in \u001b[0;36m<module>\u001b[0;34m\u001b[0m\n",
      "\u001b[0;31mNameError\u001b[0m: name 'solutions' is not defined",
      "\nDuring handling of the above exception, another exception occurred:\n",
      "\u001b[0;31mValueError\u001b[0m                                Traceback (most recent call last)",
      "\u001b[0;32m/tmp/ipykernel_4075/318573670.py\u001b[0m in \u001b[0;36m<module>\u001b[0;34m\u001b[0m\n\u001b[0;32m----> 1\u001b[0;31m \u001b[0mget_ipython\u001b[0m\u001b[0;34m(\u001b[0m\u001b[0;34m)\u001b[0m\u001b[0;34m.\u001b[0m\u001b[0mrun_line_magic\u001b[0m\u001b[0;34m(\u001b[0m\u001b[0;34m'load'\u001b[0m\u001b[0;34m,\u001b[0m \u001b[0;34m'solutions/amelioration_1.py'\u001b[0m\u001b[0;34m)\u001b[0m\u001b[0;34m\u001b[0m\u001b[0;34m\u001b[0m\u001b[0m\n\u001b[0m",
      "\u001b[0;32m/usr/lib/python3/dist-packages/IPython/core/interactiveshell.py\u001b[0m in \u001b[0;36mrun_line_magic\u001b[0;34m(self, magic_name, line, _stack_depth)\u001b[0m\n\u001b[1;32m   2362\u001b[0m                 \u001b[0mkwargs\u001b[0m\u001b[0;34m[\u001b[0m\u001b[0;34m'local_ns'\u001b[0m\u001b[0;34m]\u001b[0m \u001b[0;34m=\u001b[0m \u001b[0mself\u001b[0m\u001b[0;34m.\u001b[0m\u001b[0mget_local_scope\u001b[0m\u001b[0;34m(\u001b[0m\u001b[0mstack_depth\u001b[0m\u001b[0;34m)\u001b[0m\u001b[0;34m\u001b[0m\u001b[0;34m\u001b[0m\u001b[0m\n\u001b[1;32m   2363\u001b[0m             \u001b[0;32mwith\u001b[0m \u001b[0mself\u001b[0m\u001b[0;34m.\u001b[0m\u001b[0mbuiltin_trap\u001b[0m\u001b[0;34m:\u001b[0m\u001b[0;34m\u001b[0m\u001b[0;34m\u001b[0m\u001b[0m\n\u001b[0;32m-> 2364\u001b[0;31m                 \u001b[0mresult\u001b[0m \u001b[0;34m=\u001b[0m \u001b[0mfn\u001b[0m\u001b[0;34m(\u001b[0m\u001b[0;34m*\u001b[0m\u001b[0margs\u001b[0m\u001b[0;34m,\u001b[0m \u001b[0;34m**\u001b[0m\u001b[0mkwargs\u001b[0m\u001b[0;34m)\u001b[0m\u001b[0;34m\u001b[0m\u001b[0;34m\u001b[0m\u001b[0m\n\u001b[0m\u001b[1;32m   2365\u001b[0m             \u001b[0;32mreturn\u001b[0m \u001b[0mresult\u001b[0m\u001b[0;34m\u001b[0m\u001b[0;34m\u001b[0m\u001b[0m\n\u001b[1;32m   2366\u001b[0m \u001b[0;34m\u001b[0m\u001b[0m\n",
      "\u001b[0;32m<decorator-gen-39>\u001b[0m in \u001b[0;36mload\u001b[0;34m(self, arg_s)\u001b[0m\n",
      "\u001b[0;32m/usr/lib/python3/dist-packages/IPython/core/magic.py\u001b[0m in \u001b[0;36m<lambda>\u001b[0;34m(f, *a, **k)\u001b[0m\n\u001b[1;32m    185\u001b[0m     \u001b[0;31m# but it's overkill for just that one bit of state.\u001b[0m\u001b[0;34m\u001b[0m\u001b[0;34m\u001b[0m\u001b[0m\n\u001b[1;32m    186\u001b[0m     \u001b[0;32mdef\u001b[0m \u001b[0mmagic_deco\u001b[0m\u001b[0;34m(\u001b[0m\u001b[0marg\u001b[0m\u001b[0;34m)\u001b[0m\u001b[0;34m:\u001b[0m\u001b[0;34m\u001b[0m\u001b[0;34m\u001b[0m\u001b[0m\n\u001b[0;32m--> 187\u001b[0;31m         \u001b[0mcall\u001b[0m \u001b[0;34m=\u001b[0m \u001b[0;32mlambda\u001b[0m \u001b[0mf\u001b[0m\u001b[0;34m,\u001b[0m \u001b[0;34m*\u001b[0m\u001b[0ma\u001b[0m\u001b[0;34m,\u001b[0m \u001b[0;34m**\u001b[0m\u001b[0mk\u001b[0m\u001b[0;34m:\u001b[0m \u001b[0mf\u001b[0m\u001b[0;34m(\u001b[0m\u001b[0;34m*\u001b[0m\u001b[0ma\u001b[0m\u001b[0;34m,\u001b[0m \u001b[0;34m**\u001b[0m\u001b[0mk\u001b[0m\u001b[0;34m)\u001b[0m\u001b[0;34m\u001b[0m\u001b[0;34m\u001b[0m\u001b[0m\n\u001b[0m\u001b[1;32m    188\u001b[0m \u001b[0;34m\u001b[0m\u001b[0m\n\u001b[1;32m    189\u001b[0m         \u001b[0;32mif\u001b[0m \u001b[0mcallable\u001b[0m\u001b[0;34m(\u001b[0m\u001b[0marg\u001b[0m\u001b[0;34m)\u001b[0m\u001b[0;34m:\u001b[0m\u001b[0;34m\u001b[0m\u001b[0;34m\u001b[0m\u001b[0m\n",
      "\u001b[0;32m/usr/lib/python3/dist-packages/IPython/core/magics/code.py\u001b[0m in \u001b[0;36mload\u001b[0;34m(self, arg_s)\u001b[0m\n\u001b[1;32m    351\u001b[0m         \u001b[0msearch_ns\u001b[0m \u001b[0;34m=\u001b[0m \u001b[0;34m'n'\u001b[0m \u001b[0;32min\u001b[0m \u001b[0mopts\u001b[0m\u001b[0;34m\u001b[0m\u001b[0;34m\u001b[0m\u001b[0m\n\u001b[1;32m    352\u001b[0m \u001b[0;34m\u001b[0m\u001b[0m\n\u001b[0;32m--> 353\u001b[0;31m         \u001b[0mcontents\u001b[0m \u001b[0;34m=\u001b[0m \u001b[0mself\u001b[0m\u001b[0;34m.\u001b[0m\u001b[0mshell\u001b[0m\u001b[0;34m.\u001b[0m\u001b[0mfind_user_code\u001b[0m\u001b[0;34m(\u001b[0m\u001b[0margs\u001b[0m\u001b[0;34m,\u001b[0m \u001b[0msearch_ns\u001b[0m\u001b[0;34m=\u001b[0m\u001b[0msearch_ns\u001b[0m\u001b[0;34m)\u001b[0m\u001b[0;34m\u001b[0m\u001b[0;34m\u001b[0m\u001b[0m\n\u001b[0m\u001b[1;32m    354\u001b[0m \u001b[0;34m\u001b[0m\u001b[0m\n\u001b[1;32m    355\u001b[0m         \u001b[0;32mif\u001b[0m \u001b[0;34m's'\u001b[0m \u001b[0;32min\u001b[0m \u001b[0mopts\u001b[0m\u001b[0;34m:\u001b[0m\u001b[0;34m\u001b[0m\u001b[0;34m\u001b[0m\u001b[0m\n",
      "\u001b[0;32m/usr/lib/python3/dist-packages/IPython/core/interactiveshell.py\u001b[0m in \u001b[0;36mfind_user_code\u001b[0;34m(self, target, raw, py_only, skip_encoding_cookie, search_ns)\u001b[0m\n\u001b[1;32m   3777\u001b[0m             \u001b[0mcodeobj\u001b[0m \u001b[0;34m=\u001b[0m \u001b[0meval\u001b[0m\u001b[0;34m(\u001b[0m\u001b[0mtarget\u001b[0m\u001b[0;34m,\u001b[0m \u001b[0mself\u001b[0m\u001b[0;34m.\u001b[0m\u001b[0muser_ns\u001b[0m\u001b[0;34m)\u001b[0m\u001b[0;34m\u001b[0m\u001b[0;34m\u001b[0m\u001b[0m\n\u001b[1;32m   3778\u001b[0m         \u001b[0;32mexcept\u001b[0m \u001b[0mException\u001b[0m\u001b[0;34m:\u001b[0m\u001b[0;34m\u001b[0m\u001b[0;34m\u001b[0m\u001b[0m\n\u001b[0;32m-> 3779\u001b[0;31m             raise ValueError((\"'%s' was not found in history, as a file, url, \"\n\u001b[0m\u001b[1;32m   3780\u001b[0m                                 \"nor in the user namespace.\") % target)\n\u001b[1;32m   3781\u001b[0m \u001b[0;34m\u001b[0m\u001b[0m\n",
      "\u001b[0;31mValueError\u001b[0m: 'solutions/amelioration_1.py' was not found in history, as a file, url, nor in the user namespace."
     ]
    }
   ],
   "source": [
    "%load solutions/amelioration_1.py"
   ]
  },
  {
   "cell_type": "code",
   "execution_count": null,
   "metadata": {},
   "outputs": [],
   "source": [
    "# Evaluation du modèle\n",
    "train_loss=(history.history['mae'])\n",
    "val_loss=(history.history['val_mae'])\n",
    "plot_loss(val_loss, train_loss, ymax=30)\n",
    "\n",
    "model.evaluate(x_test, y_test)"
   ]
  },
  {
   "cell_type": "markdown",
   "metadata": {},
   "source": [
    "### Amélioration n°2"
   ]
  },
  {
   "cell_type": "code",
   "execution_count": 54,
   "metadata": {
    "scrolled": true,
    "tags": []
   },
   "outputs": [
    {
     "ename": "ValueError",
     "evalue": "'solutions/amelioration_2.py' was not found in history, as a file, url, nor in the user namespace.",
     "output_type": "error",
     "traceback": [
      "\u001b[0;31m---------------------------------------------------------------------------\u001b[0m",
      "\u001b[0;31mNameError\u001b[0m                                 Traceback (most recent call last)",
      "\u001b[0;32m/usr/lib/python3/dist-packages/IPython/core/interactiveshell.py\u001b[0m in \u001b[0;36mfind_user_code\u001b[0;34m(self, target, raw, py_only, skip_encoding_cookie, search_ns)\u001b[0m\n\u001b[1;32m   3776\u001b[0m         \u001b[0;32mtry\u001b[0m\u001b[0;34m:\u001b[0m                                              \u001b[0;31m# User namespace\u001b[0m\u001b[0;34m\u001b[0m\u001b[0;34m\u001b[0m\u001b[0m\n\u001b[0;32m-> 3777\u001b[0;31m             \u001b[0mcodeobj\u001b[0m \u001b[0;34m=\u001b[0m \u001b[0meval\u001b[0m\u001b[0;34m(\u001b[0m\u001b[0mtarget\u001b[0m\u001b[0;34m,\u001b[0m \u001b[0mself\u001b[0m\u001b[0;34m.\u001b[0m\u001b[0muser_ns\u001b[0m\u001b[0;34m)\u001b[0m\u001b[0;34m\u001b[0m\u001b[0;34m\u001b[0m\u001b[0m\n\u001b[0m\u001b[1;32m   3778\u001b[0m         \u001b[0;32mexcept\u001b[0m \u001b[0mException\u001b[0m\u001b[0;34m:\u001b[0m\u001b[0;34m\u001b[0m\u001b[0;34m\u001b[0m\u001b[0m\n",
      "\u001b[0;32m<string>\u001b[0m in \u001b[0;36m<module>\u001b[0;34m\u001b[0m\n",
      "\u001b[0;31mNameError\u001b[0m: name 'solutions' is not defined",
      "\nDuring handling of the above exception, another exception occurred:\n",
      "\u001b[0;31mValueError\u001b[0m                                Traceback (most recent call last)",
      "\u001b[0;32m/tmp/ipykernel_4075/2325673487.py\u001b[0m in \u001b[0;36m<module>\u001b[0;34m\u001b[0m\n\u001b[0;32m----> 1\u001b[0;31m \u001b[0mget_ipython\u001b[0m\u001b[0;34m(\u001b[0m\u001b[0;34m)\u001b[0m\u001b[0;34m.\u001b[0m\u001b[0mrun_line_magic\u001b[0m\u001b[0;34m(\u001b[0m\u001b[0;34m'load'\u001b[0m\u001b[0;34m,\u001b[0m \u001b[0;34m'solutions/amelioration_2.py'\u001b[0m\u001b[0;34m)\u001b[0m\u001b[0;34m\u001b[0m\u001b[0;34m\u001b[0m\u001b[0m\n\u001b[0m",
      "\u001b[0;32m/usr/lib/python3/dist-packages/IPython/core/interactiveshell.py\u001b[0m in \u001b[0;36mrun_line_magic\u001b[0;34m(self, magic_name, line, _stack_depth)\u001b[0m\n\u001b[1;32m   2362\u001b[0m                 \u001b[0mkwargs\u001b[0m\u001b[0;34m[\u001b[0m\u001b[0;34m'local_ns'\u001b[0m\u001b[0;34m]\u001b[0m \u001b[0;34m=\u001b[0m \u001b[0mself\u001b[0m\u001b[0;34m.\u001b[0m\u001b[0mget_local_scope\u001b[0m\u001b[0;34m(\u001b[0m\u001b[0mstack_depth\u001b[0m\u001b[0;34m)\u001b[0m\u001b[0;34m\u001b[0m\u001b[0;34m\u001b[0m\u001b[0m\n\u001b[1;32m   2363\u001b[0m             \u001b[0;32mwith\u001b[0m \u001b[0mself\u001b[0m\u001b[0;34m.\u001b[0m\u001b[0mbuiltin_trap\u001b[0m\u001b[0;34m:\u001b[0m\u001b[0;34m\u001b[0m\u001b[0;34m\u001b[0m\u001b[0m\n\u001b[0;32m-> 2364\u001b[0;31m                 \u001b[0mresult\u001b[0m \u001b[0;34m=\u001b[0m \u001b[0mfn\u001b[0m\u001b[0;34m(\u001b[0m\u001b[0;34m*\u001b[0m\u001b[0margs\u001b[0m\u001b[0;34m,\u001b[0m \u001b[0;34m**\u001b[0m\u001b[0mkwargs\u001b[0m\u001b[0;34m)\u001b[0m\u001b[0;34m\u001b[0m\u001b[0;34m\u001b[0m\u001b[0m\n\u001b[0m\u001b[1;32m   2365\u001b[0m             \u001b[0;32mreturn\u001b[0m \u001b[0mresult\u001b[0m\u001b[0;34m\u001b[0m\u001b[0;34m\u001b[0m\u001b[0m\n\u001b[1;32m   2366\u001b[0m \u001b[0;34m\u001b[0m\u001b[0m\n",
      "\u001b[0;32m<decorator-gen-39>\u001b[0m in \u001b[0;36mload\u001b[0;34m(self, arg_s)\u001b[0m\n",
      "\u001b[0;32m/usr/lib/python3/dist-packages/IPython/core/magic.py\u001b[0m in \u001b[0;36m<lambda>\u001b[0;34m(f, *a, **k)\u001b[0m\n\u001b[1;32m    185\u001b[0m     \u001b[0;31m# but it's overkill for just that one bit of state.\u001b[0m\u001b[0;34m\u001b[0m\u001b[0;34m\u001b[0m\u001b[0m\n\u001b[1;32m    186\u001b[0m     \u001b[0;32mdef\u001b[0m \u001b[0mmagic_deco\u001b[0m\u001b[0;34m(\u001b[0m\u001b[0marg\u001b[0m\u001b[0;34m)\u001b[0m\u001b[0;34m:\u001b[0m\u001b[0;34m\u001b[0m\u001b[0;34m\u001b[0m\u001b[0m\n\u001b[0;32m--> 187\u001b[0;31m         \u001b[0mcall\u001b[0m \u001b[0;34m=\u001b[0m \u001b[0;32mlambda\u001b[0m \u001b[0mf\u001b[0m\u001b[0;34m,\u001b[0m \u001b[0;34m*\u001b[0m\u001b[0ma\u001b[0m\u001b[0;34m,\u001b[0m \u001b[0;34m**\u001b[0m\u001b[0mk\u001b[0m\u001b[0;34m:\u001b[0m \u001b[0mf\u001b[0m\u001b[0;34m(\u001b[0m\u001b[0;34m*\u001b[0m\u001b[0ma\u001b[0m\u001b[0;34m,\u001b[0m \u001b[0;34m**\u001b[0m\u001b[0mk\u001b[0m\u001b[0;34m)\u001b[0m\u001b[0;34m\u001b[0m\u001b[0;34m\u001b[0m\u001b[0m\n\u001b[0m\u001b[1;32m    188\u001b[0m \u001b[0;34m\u001b[0m\u001b[0m\n\u001b[1;32m    189\u001b[0m         \u001b[0;32mif\u001b[0m \u001b[0mcallable\u001b[0m\u001b[0;34m(\u001b[0m\u001b[0marg\u001b[0m\u001b[0;34m)\u001b[0m\u001b[0;34m:\u001b[0m\u001b[0;34m\u001b[0m\u001b[0;34m\u001b[0m\u001b[0m\n",
      "\u001b[0;32m/usr/lib/python3/dist-packages/IPython/core/magics/code.py\u001b[0m in \u001b[0;36mload\u001b[0;34m(self, arg_s)\u001b[0m\n\u001b[1;32m    351\u001b[0m         \u001b[0msearch_ns\u001b[0m \u001b[0;34m=\u001b[0m \u001b[0;34m'n'\u001b[0m \u001b[0;32min\u001b[0m \u001b[0mopts\u001b[0m\u001b[0;34m\u001b[0m\u001b[0;34m\u001b[0m\u001b[0m\n\u001b[1;32m    352\u001b[0m \u001b[0;34m\u001b[0m\u001b[0m\n\u001b[0;32m--> 353\u001b[0;31m         \u001b[0mcontents\u001b[0m \u001b[0;34m=\u001b[0m \u001b[0mself\u001b[0m\u001b[0;34m.\u001b[0m\u001b[0mshell\u001b[0m\u001b[0;34m.\u001b[0m\u001b[0mfind_user_code\u001b[0m\u001b[0;34m(\u001b[0m\u001b[0margs\u001b[0m\u001b[0;34m,\u001b[0m \u001b[0msearch_ns\u001b[0m\u001b[0;34m=\u001b[0m\u001b[0msearch_ns\u001b[0m\u001b[0;34m)\u001b[0m\u001b[0;34m\u001b[0m\u001b[0;34m\u001b[0m\u001b[0m\n\u001b[0m\u001b[1;32m    354\u001b[0m \u001b[0;34m\u001b[0m\u001b[0m\n\u001b[1;32m    355\u001b[0m         \u001b[0;32mif\u001b[0m \u001b[0;34m's'\u001b[0m \u001b[0;32min\u001b[0m \u001b[0mopts\u001b[0m\u001b[0;34m:\u001b[0m\u001b[0;34m\u001b[0m\u001b[0;34m\u001b[0m\u001b[0m\n",
      "\u001b[0;32m/usr/lib/python3/dist-packages/IPython/core/interactiveshell.py\u001b[0m in \u001b[0;36mfind_user_code\u001b[0;34m(self, target, raw, py_only, skip_encoding_cookie, search_ns)\u001b[0m\n\u001b[1;32m   3777\u001b[0m             \u001b[0mcodeobj\u001b[0m \u001b[0;34m=\u001b[0m \u001b[0meval\u001b[0m\u001b[0;34m(\u001b[0m\u001b[0mtarget\u001b[0m\u001b[0;34m,\u001b[0m \u001b[0mself\u001b[0m\u001b[0;34m.\u001b[0m\u001b[0muser_ns\u001b[0m\u001b[0;34m)\u001b[0m\u001b[0;34m\u001b[0m\u001b[0;34m\u001b[0m\u001b[0m\n\u001b[1;32m   3778\u001b[0m         \u001b[0;32mexcept\u001b[0m \u001b[0mException\u001b[0m\u001b[0;34m:\u001b[0m\u001b[0;34m\u001b[0m\u001b[0;34m\u001b[0m\u001b[0m\n\u001b[0;32m-> 3779\u001b[0;31m             raise ValueError((\"'%s' was not found in history, as a file, url, \"\n\u001b[0m\u001b[1;32m   3780\u001b[0m                                 \"nor in the user namespace.\") % target)\n\u001b[1;32m   3781\u001b[0m \u001b[0;34m\u001b[0m\u001b[0m\n",
      "\u001b[0;31mValueError\u001b[0m: 'solutions/amelioration_2.py' was not found in history, as a file, url, nor in the user namespace."
     ]
    }
   ],
   "source": [
    "%load solutions/amelioration_2.py"
   ]
  },
  {
   "cell_type": "code",
   "execution_count": null,
   "metadata": {},
   "outputs": [],
   "source": [
    "# Evaluation du modèle\n",
    "train_loss=(history.history['mae'])\n",
    "val_loss=(history.history['val_mae'])\n",
    "plot_loss(val_loss, train_loss, ymax=30)\n",
    "\n",
    "model.evaluate(x_test, y_test)"
   ]
  }
 ],
 "metadata": {
  "accelerator": "GPU",
  "colab": {
   "provenance": [],
   "toc_visible": true
  },
  "kernelspec": {
   "display_name": "Python 3 (ipykernel)",
   "language": "python",
   "name": "python3"
  },
  "language_info": {
   "codemirror_mode": {
    "name": "ipython",
    "version": 3
   },
   "file_extension": ".py",
   "mimetype": "text/x-python",
   "name": "python",
   "nbconvert_exporter": "python",
   "pygments_lexer": "ipython3",
   "version": "3.10.12"
  }
 },
 "nbformat": 4,
 "nbformat_minor": 4
}
